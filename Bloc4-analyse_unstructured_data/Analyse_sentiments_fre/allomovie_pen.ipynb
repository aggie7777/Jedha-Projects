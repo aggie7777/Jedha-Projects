{
 "cells": [
  {
   "cell_type": "code",
   "execution_count": 221,
   "id": "bb999a5d-b340-4d28-8065-ac51ebbccc21",
   "metadata": {},
   "outputs": [
    {
     "name": "stderr",
     "output_type": "stream",
     "text": [
      "[nltk_data] Downloading package brown to\n",
      "[nltk_data]     C:\\Users\\Administrateur\\AppData\\Roaming\\nltk_data...\n",
      "[nltk_data]   Package brown is already up-to-date!\n",
      "[nltk_data] Downloading package names to\n",
      "[nltk_data]     C:\\Users\\Administrateur\\AppData\\Roaming\\nltk_data...\n",
      "[nltk_data]   Package names is already up-to-date!\n",
      "[nltk_data] Downloading package wordnet to\n",
      "[nltk_data]     C:\\Users\\Administrateur\\AppData\\Roaming\\nltk_data...\n",
      "[nltk_data]   Package wordnet is already up-to-date!\n",
      "[nltk_data] Downloading package averaged_perceptron_tagger to\n",
      "[nltk_data]     C:\\Users\\Administrateur\\AppData\\Roaming\\nltk_data...\n",
      "[nltk_data]   Package averaged_perceptron_tagger is already up-to-\n",
      "[nltk_data]       date!\n",
      "[nltk_data] Downloading package universal_tagset to\n",
      "[nltk_data]     C:\\Users\\Administrateur\\AppData\\Roaming\\nltk_data...\n",
      "[nltk_data]   Package universal_tagset is already up-to-date!\n"
     ]
    }
   ],
   "source": [
    "# import important modules\n",
    "import numpy as np\n",
    "import pandas as pd\n",
    "# sklearn modules\n",
    "from sklearn.linear_model import LogisticRegression\n",
    "from sklearn.model_selection import train_test_split\n",
    "from sklearn.pipeline import Pipeline\n",
    "from sklearn.naive_bayes import MultinomialNB  # classifier\n",
    "from sklearn.metrics import (\n",
    "    accuracy_score,\n",
    "    classification_report,\n",
    "    plot_confusion_matrix,\n",
    ")\n",
    "from sklearn.feature_extraction.text import TfidfVectorizer, CountVectorizer\n",
    "# text preprocessing modules\n",
    "from string import punctuation\n",
    "# text preprocessing modules\n",
    "from nltk.tokenize import word_tokenize\n",
    "import nltk\n",
    "from nltk.corpus import stopwords\n",
    "from nltk.stem import WordNetLemmatizer\n",
    "import re  # regular expression\n",
    "\n",
    "# Download dependency\n",
    "for dependency in (\n",
    "        \"brown\",\n",
    "        \"names\",\n",
    "        \"wordnet\",\n",
    "        \"averaged_perceptron_tagger\",\n",
    "        \"universal_tagset\",\n",
    "):\n",
    "    nltk.download(dependency)\n",
    "\n",
    "import warnings\n",
    "\n",
    "warnings.filterwarnings(\"ignore\")\n",
    "# seeding\n",
    "np.random.seed(123)"
   ]
  },
  {
   "cell_type": "code",
   "execution_count": 222,
   "id": "07c62a38-14e2-4206-a302-225182167437",
   "metadata": {},
   "outputs": [
    {
     "name": "stderr",
     "output_type": "stream",
     "text": [
      "[nltk_data] Downloading package stopwords to\n",
      "[nltk_data]     C:\\Users\\Administrateur\\AppData\\Roaming\\nltk_data...\n",
      "[nltk_data]   Package stopwords is already up-to-date!\n",
      "[nltk_data] Downloading package omw-1.4 to\n",
      "[nltk_data]     C:\\Users\\Administrateur\\AppData\\Roaming\\nltk_data...\n",
      "[nltk_data]   Package omw-1.4 is already up-to-date!\n"
     ]
    },
    {
     "data": {
      "text/plain": [
       "True"
      ]
     },
     "execution_count": 222,
     "metadata": {},
     "output_type": "execute_result"
    }
   ],
   "source": [
    "import nltk\n",
    "nltk.download('stopwords')\n",
    "nltk.download('omw-1.4')"
   ]
  },
  {
   "cell_type": "code",
   "execution_count": 223,
   "id": "df6d3190-d9c1-4a83-9048-99b47e6da4ec",
   "metadata": {},
   "outputs": [
    {
     "name": "stderr",
     "output_type": "stream",
     "text": [
      "[nltk_data] Downloading package punkt to\n",
      "[nltk_data]     C:\\Users\\Administrateur\\AppData\\Roaming\\nltk_data...\n",
      "[nltk_data]   Package punkt is already up-to-date!\n"
     ]
    },
    {
     "data": {
      "text/plain": [
       "True"
      ]
     },
     "execution_count": 223,
     "metadata": {},
     "output_type": "execute_result"
    }
   ],
   "source": [
    "import nltk\n",
    "nltk.download('punkt')"
   ]
  },
  {
   "cell_type": "code",
   "execution_count": 224,
   "id": "5da3b245-03c4-463f-a6e1-dfedabddc06a",
   "metadata": {},
   "outputs": [],
   "source": [
    "# load data\n",
    "data = pd.read_csv(\"allocine_inception_avis9.csv\")"
   ]
  },
  {
   "cell_type": "code",
   "execution_count": 225,
   "id": "43ce6bc2-cf38-49f5-b436-6a0277380bf1",
   "metadata": {},
   "outputs": [
    {
     "data": {
      "text/html": [
       "<div>\n",
       "<style scoped>\n",
       "    .dataframe tbody tr th:only-of-type {\n",
       "        vertical-align: middle;\n",
       "    }\n",
       "\n",
       "    .dataframe tbody tr th {\n",
       "        vertical-align: top;\n",
       "    }\n",
       "\n",
       "    .dataframe thead th {\n",
       "        text-align: right;\n",
       "    }\n",
       "</style>\n",
       "<table border=\"1\" class=\"dataframe\">\n",
       "  <thead>\n",
       "    <tr style=\"text-align: right;\">\n",
       "      <th></th>\n",
       "      <th>Note</th>\n",
       "      <th>Description</th>\n",
       "      <th>key</th>\n",
       "    </tr>\n",
       "  </thead>\n",
       "  <tbody>\n",
       "    <tr>\n",
       "      <th>0</th>\n",
       "      <td>5,0</td>\n",
       "      <td>Après le chef d'oeuvre super-héroïque The Dark...</td>\n",
       "      <td>0</td>\n",
       "    </tr>\n",
       "    <tr>\n",
       "      <th>1</th>\n",
       "      <td>5,0</td>\n",
       "      <td>C’est fou ce qu’on aime détester Christopher N...</td>\n",
       "      <td>1</td>\n",
       "    </tr>\n",
       "    <tr>\n",
       "      <th>2</th>\n",
       "      <td>5,0</td>\n",
       "      <td>CHEF D’ŒUVRE ! Le film est absolument parfait ...</td>\n",
       "      <td>2</td>\n",
       "    </tr>\n",
       "    <tr>\n",
       "      <th>3</th>\n",
       "      <td>5,0</td>\n",
       "      <td>Un film aussi novateur que complexe, dont la m...</td>\n",
       "      <td>3</td>\n",
       "    </tr>\n",
       "    <tr>\n",
       "      <th>4</th>\n",
       "      <td>5,0</td>\n",
       "      <td>Christopher Nolan est sûrement l'un des seuls ...</td>\n",
       "      <td>4</td>\n",
       "    </tr>\n",
       "    <tr>\n",
       "      <th>5</th>\n",
       "      <td>5,0</td>\n",
       "      <td>Nolan est un vrai génie. On l'avait déjà entra...</td>\n",
       "      <td>5</td>\n",
       "    </tr>\n",
       "    <tr>\n",
       "      <th>6</th>\n",
       "      <td>3,5</td>\n",
       "      <td>Le meilleur blockbuster de 2010 a pour thème l...</td>\n",
       "      <td>6</td>\n",
       "    </tr>\n",
       "    <tr>\n",
       "      <th>7</th>\n",
       "      <td>4,0</td>\n",
       "      <td>\" inception \" Un film de science fiction très ...</td>\n",
       "      <td>7</td>\n",
       "    </tr>\n",
       "    <tr>\n",
       "      <th>8</th>\n",
       "      <td>5,0</td>\n",
       "      <td>Un film époustouflant(un de mes préférés) ! Le...</td>\n",
       "      <td>8</td>\n",
       "    </tr>\n",
       "    <tr>\n",
       "      <th>9</th>\n",
       "      <td>5,0</td>\n",
       "      <td>Dans la catégorie des blockbusters, on a rarem...</td>\n",
       "      <td>9</td>\n",
       "    </tr>\n",
       "    <tr>\n",
       "      <th>10</th>\n",
       "      <td>5,0</td>\n",
       "      <td>Inception est avec The Dark Knight un des plus...</td>\n",
       "      <td>10</td>\n",
       "    </tr>\n",
       "    <tr>\n",
       "      <th>11</th>\n",
       "      <td>5,0</td>\n",
       "      <td>Entre deux \"Batman\", le génial Christopher Nol...</td>\n",
       "      <td>11</td>\n",
       "    </tr>\n",
       "    <tr>\n",
       "      <th>12</th>\n",
       "      <td>5,0</td>\n",
       "      <td>Film bouleversant et impressionnant qui vous p...</td>\n",
       "      <td>12</td>\n",
       "    </tr>\n",
       "    <tr>\n",
       "      <th>13</th>\n",
       "      <td>5,0</td>\n",
       "      <td>Un Pur Chef D’œuvre. Après Le Prestige &amp; la sa...</td>\n",
       "      <td>13</td>\n",
       "    </tr>\n",
       "    <tr>\n",
       "      <th>14</th>\n",
       "      <td>4,0</td>\n",
       "      <td>Un très bon film de science-fiction, au scénar...</td>\n",
       "      <td>14</td>\n",
       "    </tr>\n",
       "  </tbody>\n",
       "</table>\n",
       "</div>"
      ],
      "text/plain": [
       "   Note                                        Description  key\n",
       "0   5,0  Après le chef d'oeuvre super-héroïque The Dark...    0\n",
       "1   5,0  C’est fou ce qu’on aime détester Christopher N...    1\n",
       "2   5,0  CHEF D’ŒUVRE ! Le film est absolument parfait ...    2\n",
       "3   5,0  Un film aussi novateur que complexe, dont la m...    3\n",
       "4   5,0  Christopher Nolan est sûrement l'un des seuls ...    4\n",
       "5   5,0  Nolan est un vrai génie. On l'avait déjà entra...    5\n",
       "6   3,5  Le meilleur blockbuster de 2010 a pour thème l...    6\n",
       "7   4,0  \" inception \" Un film de science fiction très ...    7\n",
       "8   5,0  Un film époustouflant(un de mes préférés) ! Le...    8\n",
       "9   5,0  Dans la catégorie des blockbusters, on a rarem...    9\n",
       "10  5,0  Inception est avec The Dark Knight un des plus...   10\n",
       "11  5,0  Entre deux \"Batman\", le génial Christopher Nol...   11\n",
       "12  5,0  Film bouleversant et impressionnant qui vous p...   12\n",
       "13  5,0  Un Pur Chef D’œuvre. Après Le Prestige & la sa...   13\n",
       "14  4,0  Un très bon film de science-fiction, au scénar...   14"
      ]
     },
     "execution_count": 225,
     "metadata": {},
     "output_type": "execute_result"
    }
   ],
   "source": [
    "# show top five rows of data\n",
    "data.head(15)"
   ]
  },
  {
   "cell_type": "code",
   "execution_count": 226,
   "id": "0db650bb-1ba1-4693-a7c9-5b3ef814ac4a",
   "metadata": {},
   "outputs": [
    {
     "data": {
      "text/plain": [
       "(7214, 3)"
      ]
     },
     "execution_count": 226,
     "metadata": {},
     "output_type": "execute_result"
    }
   ],
   "source": [
    "# check the shape of the data\n",
    "data.shape"
   ]
  },
  {
   "cell_type": "code",
   "execution_count": 227,
   "id": "99268ad8-25fe-4d5a-b8d5-c7c1cbc3d21a",
   "metadata": {},
   "outputs": [
    {
     "data": {
      "text/plain": [
       "Note           0\n",
       "Description    1\n",
       "key            0\n",
       "dtype: int64"
      ]
     },
     "execution_count": 227,
     "metadata": {},
     "output_type": "execute_result"
    }
   ],
   "source": [
    "# check missing values in data\n",
    "data.isnull().sum()"
   ]
  },
  {
   "cell_type": "code",
   "execution_count": 228,
   "id": "873f9385-2a8f-45a9-876c-089982062952",
   "metadata": {},
   "outputs": [],
   "source": [
    "data.dropna(inplace=True)"
   ]
  },
  {
   "cell_type": "code",
   "execution_count": 229,
   "id": "04daa851-aed4-4662-b0d8-b8d95872dbb8",
   "metadata": {},
   "outputs": [
    {
     "data": {
      "text/plain": [
       "(7213, 3)"
      ]
     },
     "execution_count": 229,
     "metadata": {},
     "output_type": "execute_result"
    }
   ],
   "source": [
    "data.shape"
   ]
  },
  {
   "cell_type": "code",
   "execution_count": 230,
   "id": "6f7c30dd-b167-459d-8991-8889160ff543",
   "metadata": {},
   "outputs": [
    {
     "data": {
      "text/plain": [
       "5,0    3513\n",
       "4,5    1214\n",
       "4,0     808\n",
       "0,5     344\n",
       "3,0     310\n",
       "3,5     294\n",
       "2,0     259\n",
       "2,5     193\n",
       "1,0     186\n",
       "1,5      92\n",
       "Name: Note, dtype: int64"
      ]
     },
     "execution_count": 230,
     "metadata": {},
     "output_type": "execute_result"
    }
   ],
   "source": [
    "# evalute news sentiment distribution\n",
    "data.Note.value_counts()"
   ]
  },
  {
   "cell_type": "code",
   "execution_count": 231,
   "id": "0a596698-9352-4237-8175-74a4b69ce2d0",
   "metadata": {},
   "outputs": [],
   "source": [
    "def setClassBin(i):\n",
    "    if (float(i.replace(',', '.')) > 4.5):\n",
    "        return 1\n",
    "    else:\n",
    "        return 0\n",
    "\n",
    "data['Note'] = [setClassBin(x) for x in data.Note]\n"
   ]
  },
  {
   "cell_type": "code",
   "execution_count": 232,
   "id": "194b6c6b-f5e4-4e94-a813-cfb6afe7e205",
   "metadata": {},
   "outputs": [
    {
     "data": {
      "text/plain": [
       "0    3700\n",
       "1    3513\n",
       "Name: Note, dtype: int64"
      ]
     },
     "execution_count": 232,
     "metadata": {},
     "output_type": "execute_result"
    }
   ],
   "source": [
    "# evalute news sentiment distribution\n",
    "data.Note.value_counts()"
   ]
  },
  {
   "cell_type": "code",
   "execution_count": 233,
   "id": "aa119119-df4a-4583-8e2d-8db851806843",
   "metadata": {},
   "outputs": [
    {
     "data": {
      "text/html": [
       "<div>\n",
       "<style scoped>\n",
       "    .dataframe tbody tr th:only-of-type {\n",
       "        vertical-align: middle;\n",
       "    }\n",
       "\n",
       "    .dataframe tbody tr th {\n",
       "        vertical-align: top;\n",
       "    }\n",
       "\n",
       "    .dataframe thead th {\n",
       "        text-align: right;\n",
       "    }\n",
       "</style>\n",
       "<table border=\"1\" class=\"dataframe\">\n",
       "  <thead>\n",
       "    <tr style=\"text-align: right;\">\n",
       "      <th></th>\n",
       "      <th>Note</th>\n",
       "      <th>Description</th>\n",
       "      <th>key</th>\n",
       "    </tr>\n",
       "  </thead>\n",
       "  <tbody>\n",
       "    <tr>\n",
       "      <th>0</th>\n",
       "      <td>1</td>\n",
       "      <td>Après le chef d'oeuvre super-héroïque The Dark...</td>\n",
       "      <td>0</td>\n",
       "    </tr>\n",
       "    <tr>\n",
       "      <th>1</th>\n",
       "      <td>1</td>\n",
       "      <td>C’est fou ce qu’on aime détester Christopher N...</td>\n",
       "      <td>1</td>\n",
       "    </tr>\n",
       "    <tr>\n",
       "      <th>2</th>\n",
       "      <td>1</td>\n",
       "      <td>CHEF D’ŒUVRE ! Le film est absolument parfait ...</td>\n",
       "      <td>2</td>\n",
       "    </tr>\n",
       "    <tr>\n",
       "      <th>3</th>\n",
       "      <td>1</td>\n",
       "      <td>Un film aussi novateur que complexe, dont la m...</td>\n",
       "      <td>3</td>\n",
       "    </tr>\n",
       "    <tr>\n",
       "      <th>4</th>\n",
       "      <td>1</td>\n",
       "      <td>Christopher Nolan est sûrement l'un des seuls ...</td>\n",
       "      <td>4</td>\n",
       "    </tr>\n",
       "    <tr>\n",
       "      <th>5</th>\n",
       "      <td>1</td>\n",
       "      <td>Nolan est un vrai génie. On l'avait déjà entra...</td>\n",
       "      <td>5</td>\n",
       "    </tr>\n",
       "    <tr>\n",
       "      <th>6</th>\n",
       "      <td>0</td>\n",
       "      <td>Le meilleur blockbuster de 2010 a pour thème l...</td>\n",
       "      <td>6</td>\n",
       "    </tr>\n",
       "    <tr>\n",
       "      <th>7</th>\n",
       "      <td>0</td>\n",
       "      <td>\" inception \" Un film de science fiction très ...</td>\n",
       "      <td>7</td>\n",
       "    </tr>\n",
       "    <tr>\n",
       "      <th>8</th>\n",
       "      <td>1</td>\n",
       "      <td>Un film époustouflant(un de mes préférés) ! Le...</td>\n",
       "      <td>8</td>\n",
       "    </tr>\n",
       "    <tr>\n",
       "      <th>9</th>\n",
       "      <td>1</td>\n",
       "      <td>Dans la catégorie des blockbusters, on a rarem...</td>\n",
       "      <td>9</td>\n",
       "    </tr>\n",
       "  </tbody>\n",
       "</table>\n",
       "</div>"
      ],
      "text/plain": [
       "   Note                                        Description  key\n",
       "0     1  Après le chef d'oeuvre super-héroïque The Dark...    0\n",
       "1     1  C’est fou ce qu’on aime détester Christopher N...    1\n",
       "2     1  CHEF D’ŒUVRE ! Le film est absolument parfait ...    2\n",
       "3     1  Un film aussi novateur que complexe, dont la m...    3\n",
       "4     1  Christopher Nolan est sûrement l'un des seuls ...    4\n",
       "5     1  Nolan est un vrai génie. On l'avait déjà entra...    5\n",
       "6     0  Le meilleur blockbuster de 2010 a pour thème l...    6\n",
       "7     0  \" inception \" Un film de science fiction très ...    7\n",
       "8     1  Un film époustouflant(un de mes préférés) ! Le...    8\n",
       "9     1  Dans la catégorie des blockbusters, on a rarem...    9"
      ]
     },
     "execution_count": 233,
     "metadata": {},
     "output_type": "execute_result"
    }
   ],
   "source": [
    "data.head(10)"
   ]
  },
  {
   "cell_type": "code",
   "execution_count": 234,
   "id": "5a01af1c-cc60-41a5-9a95-478d560cae0e",
   "metadata": {},
   "outputs": [],
   "source": [
    "#The text_cleaning() function will handle all necessary steps to clean our dataset.\n",
    "stop_words =  stopwords.words('french')\n",
    "def text_cleaning(text, remove_stop_words=True, lemmatize_words=True):\n",
    "    # Clean the text, with the option to remove stop_words and to lemmatize word\n",
    "    # Clean the text\n",
    "    text = re.sub(r\"[^A-Za-z0-9]\", \" \", text)\n",
    "    text = re.sub(r\"\\'s\", \" \", text)\n",
    "    text =  re.sub(r'http\\S+',' link ', text)\n",
    "    text = re.sub(r'\\b\\d+(?:\\.\\d+)?\\s+', '', text) # remove numbers\n",
    "        \n",
    "    # Remove punctuation from text\n",
    "    text = ''.join([c for c in text if c not in punctuation])\n",
    "    \n",
    "    # Optionally, remove stop words\n",
    "    if remove_stop_words:\n",
    "        text = text.split()\n",
    "        text = [w for w in text if not w in stop_words]\n",
    "        text = \" \".join(text)\n",
    "    \n",
    "    # Optionally, shorten words to their stems\n",
    "    if lemmatize_words:\n",
    "        text = text.split()\n",
    "        lemmatizer = WordNetLemmatizer() \n",
    "        lemmatized_words = [lemmatizer.lemmatize(word) for word in text]\n",
    "        text = \" \".join(lemmatized_words)\n",
    "    \n",
    "    # Return a list of words\n",
    "    return(text)"
   ]
  },
  {
   "cell_type": "code",
   "execution_count": 235,
   "id": "057c408f-6684-4987-bc4b-0dc107811216",
   "metadata": {},
   "outputs": [],
   "source": [
    "#clean the review\n",
    "data[\"cleaned_review\"] = data[\"Description\"].apply(text_cleaning)"
   ]
  },
  {
   "cell_type": "code",
   "execution_count": 236,
   "id": "162d5427-93d4-42c3-ab1d-33c20aca7866",
   "metadata": {},
   "outputs": [
    {
     "data": {
      "text/html": [
       "<div>\n",
       "<style scoped>\n",
       "    .dataframe tbody tr th:only-of-type {\n",
       "        vertical-align: middle;\n",
       "    }\n",
       "\n",
       "    .dataframe tbody tr th {\n",
       "        vertical-align: top;\n",
       "    }\n",
       "\n",
       "    .dataframe thead th {\n",
       "        text-align: right;\n",
       "    }\n",
       "</style>\n",
       "<table border=\"1\" class=\"dataframe\">\n",
       "  <thead>\n",
       "    <tr style=\"text-align: right;\">\n",
       "      <th></th>\n",
       "      <th>Note</th>\n",
       "      <th>Description</th>\n",
       "      <th>key</th>\n",
       "      <th>cleaned_review</th>\n",
       "    </tr>\n",
       "  </thead>\n",
       "  <tbody>\n",
       "    <tr>\n",
       "      <th>0</th>\n",
       "      <td>1</td>\n",
       "      <td>Après le chef d'oeuvre super-héroïque The Dark...</td>\n",
       "      <td>0</td>\n",
       "      <td>Apr chef oeuvre super h ro The Dark Knight Chr...</td>\n",
       "    </tr>\n",
       "    <tr>\n",
       "      <th>1</th>\n",
       "      <td>1</td>\n",
       "      <td>C’est fou ce qu’on aime détester Christopher N...</td>\n",
       "      <td>1</td>\n",
       "      <td>C fou aime tester Christopher Nolan Plus film ...</td>\n",
       "    </tr>\n",
       "    <tr>\n",
       "      <th>2</th>\n",
       "      <td>1</td>\n",
       "      <td>CHEF D’ŒUVRE ! Le film est absolument parfait ...</td>\n",
       "      <td>2</td>\n",
       "      <td>CHEF D UVRE Le film absolument parfait acteurs...</td>\n",
       "    </tr>\n",
       "    <tr>\n",
       "      <th>3</th>\n",
       "      <td>1</td>\n",
       "      <td>Un film aussi novateur que complexe, dont la m...</td>\n",
       "      <td>3</td>\n",
       "      <td>Un film aussi novateur complexe dont mise sc t...</td>\n",
       "    </tr>\n",
       "    <tr>\n",
       "      <th>4</th>\n",
       "      <td>1</td>\n",
       "      <td>Christopher Nolan est sûrement l'un des seuls ...</td>\n",
       "      <td>4</td>\n",
       "      <td>Christopher Nolan rement seuls r alisateurs av...</td>\n",
       "    </tr>\n",
       "  </tbody>\n",
       "</table>\n",
       "</div>"
      ],
      "text/plain": [
       "   Note                                        Description  key  \\\n",
       "0     1  Après le chef d'oeuvre super-héroïque The Dark...    0   \n",
       "1     1  C’est fou ce qu’on aime détester Christopher N...    1   \n",
       "2     1  CHEF D’ŒUVRE ! Le film est absolument parfait ...    2   \n",
       "3     1  Un film aussi novateur que complexe, dont la m...    3   \n",
       "4     1  Christopher Nolan est sûrement l'un des seuls ...    4   \n",
       "\n",
       "                                      cleaned_review  \n",
       "0  Apr chef oeuvre super h ro The Dark Knight Chr...  \n",
       "1  C fou aime tester Christopher Nolan Plus film ...  \n",
       "2  CHEF D UVRE Le film absolument parfait acteurs...  \n",
       "3  Un film aussi novateur complexe dont mise sc t...  \n",
       "4  Christopher Nolan rement seuls r alisateurs av...  "
      ]
     },
     "execution_count": 236,
     "metadata": {},
     "output_type": "execute_result"
    }
   ],
   "source": [
    "data.head()"
   ]
  },
  {
   "cell_type": "code",
   "execution_count": 237,
   "id": "d70b5be0-add1-4c37-b456-fd3b10932dd9",
   "metadata": {},
   "outputs": [],
   "source": [
    "#split features and target from  data \n",
    "X = data[\"cleaned_review\"]\n",
    "y = data.Note.values"
   ]
  },
  {
   "cell_type": "code",
   "execution_count": 238,
   "id": "b5a6db81-f566-4fe4-bf7d-0dcf2b54b5fe",
   "metadata": {},
   "outputs": [],
   "source": [
    "# split data into train and validate\n",
    "X_train, X_valid, y_train, y_valid = train_test_split(\n",
    "    X,\n",
    "    y,\n",
    "    test_size=0.15,\n",
    "    random_state=42,\n",
    "    shuffle=True,\n",
    "    stratify=y,\n",
    ")"
   ]
  },
  {
   "cell_type": "code",
   "execution_count": 239,
   "id": "c46f0935-8ad3-4aa6-adfa-fc64eaec2e3d",
   "metadata": {},
   "outputs": [],
   "source": [
    "# Create a classifier in pipeline\n",
    "sentiment_classifier = Pipeline(steps=[\n",
    "                               ('pre_processing',TfidfVectorizer(lowercase=False)),\n",
    "                                 ('clf',LogisticRegression())])"
   ]
  },
  {
   "cell_type": "code",
   "execution_count": 240,
   "id": "17d016a2-c854-4989-b982-90621a7091ad",
   "metadata": {},
   "outputs": [
    {
     "data": {
      "text/plain": [
       "Pipeline(steps=[('pre_processing', TfidfVectorizer(lowercase=False)),\n",
       "                ('clf', LogisticRegression())])"
      ]
     },
     "execution_count": 240,
     "metadata": {},
     "output_type": "execute_result"
    }
   ],
   "source": [
    "# train the sentiment classifier \n",
    "sentiment_classifier.fit(X_train,y_train)"
   ]
  },
  {
   "cell_type": "code",
   "execution_count": 241,
   "id": "343f647c-7228-4f77-8c05-7f1d504b6635",
   "metadata": {},
   "outputs": [],
   "source": [
    "# test model performance on valid data \n",
    "y_preds = sentiment_classifier.predict(X_valid)"
   ]
  },
  {
   "cell_type": "code",
   "execution_count": 242,
   "id": "68621d41-144c-41f0-a7ea-70473bd4826d",
   "metadata": {},
   "outputs": [
    {
     "data": {
      "text/plain": [
       "0.7384473197781886"
      ]
     },
     "execution_count": 242,
     "metadata": {},
     "output_type": "execute_result"
    }
   ],
   "source": [
    "accuracy_score(y_valid,y_preds)"
   ]
  },
  {
   "cell_type": "code",
   "execution_count": 243,
   "id": "b0916809-2179-4d33-ba39-53c6abd8c822",
   "metadata": {},
   "outputs": [
    {
     "data": {
      "text/plain": [
       "['sentimentsfrench_model_pipeline.pkl']"
      ]
     },
     "execution_count": 243,
     "metadata": {},
     "output_type": "execute_result"
    }
   ],
   "source": [
    "#save model \n",
    "import joblib \n",
    "joblib.dump(sentiment_classifier, 'sentimentsfrench_model_pipeline.pkl')"
   ]
  },
  {
   "cell_type": "code",
   "execution_count": null,
   "id": "2edc7daf-77f7-4f50-b282-5f31b9c03ef1",
   "metadata": {},
   "outputs": [],
   "source": []
  }
 ],
 "metadata": {
  "kernelspec": {
   "display_name": "Python 3 (ipykernel)",
   "language": "python",
   "name": "python3"
  },
  "language_info": {
   "codemirror_mode": {
    "name": "ipython",
    "version": 3
   },
   "file_extension": ".py",
   "mimetype": "text/x-python",
   "name": "python",
   "nbconvert_exporter": "python",
   "pygments_lexer": "ipython3",
   "version": "3.9.12"
  }
 },
 "nbformat": 4,
 "nbformat_minor": 5
}
