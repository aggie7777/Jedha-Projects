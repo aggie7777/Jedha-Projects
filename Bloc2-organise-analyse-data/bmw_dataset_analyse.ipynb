{
 "cells": [
  {
   "cell_type": "code",
   "execution_count": null,
   "id": "a76fdf8f-0351-404c-8d45-16eff80dca08",
   "metadata": {},
   "outputs": [],
   "source": [
    "#!pip install numpy pandas matplotlib seaborn sklearn lightgbm xgboost catboost"
   ]
  },
  {
   "cell_type": "code",
   "execution_count": null,
   "id": "94d51223-874b-4613-bda6-ceb39bd3feff",
   "metadata": {},
   "outputs": [],
   "source": [
    "#Importation des packages nécessaires à l'analyse. J'aime généralement importer les packages dans l'ordre alphabétique, \n",
    "#afin qu'il soit facile de les consulter si nécessaire"
   ]
  },
  {
   "cell_type": "code",
   "execution_count": 7,
   "id": "cb0fff46-711d-4490-a384-949a064b88c1",
   "metadata": {},
   "outputs": [],
   "source": [
    "import numpy as np\n",
    "import pandas as pd\n",
    "import matplotlib.pyplot as plt\n",
    "import plotly.graph_objects as go\n",
    "import plotly.figure_factory as ff\n",
    "import plotly.express as px\n",
    "import seaborn as sns\n",
    "from sklearn.preprocessing import LabelEncoder\n",
    "from sklearn.model_selection import train_test_split\n",
    "from sklearn.linear_model import LinearRegression\n",
    "from sklearn.tree import DecisionTreeRegressor\n",
    "from sklearn.ensemble import RandomForestRegressor\n",
    "from sklearn.ensemble import GradientBoostingRegressor\n",
    "from lightgbm import LGBMRegressor\n",
    "from xgboost import XGBRegressor\n",
    "from catboost import CatBoostRegressor\n",
    "from sklearn.metrics import mean_absolute_error, mean_squared_error,mean_squared_log_error, r2_score,mean_absolute_percentage_error"
   ]
  },
  {
   "cell_type": "code",
   "execution_count": 2,
   "id": "9ddb8b9e-9281-469c-8b30-a8cc3951233a",
   "metadata": {},
   "outputs": [
    {
     "name": "stdout",
     "output_type": "stream",
     "text": [
      "Collecting lightgbm\n",
      "  Using cached lightgbm-3.3.3-py3-none-win_amd64.whl (1.0 MB)\n",
      "Requirement already satisfied: scikit-learn!=0.22.0 in c:\\programdata\\anaconda3\\lib\\site-packages (from lightgbm) (1.0.2)\n",
      "Requirement already satisfied: wheel in c:\\programdata\\anaconda3\\lib\\site-packages (from lightgbm) (0.37.1)\n",
      "Requirement already satisfied: scipy in c:\\programdata\\anaconda3\\lib\\site-packages (from lightgbm) (1.7.3)\n",
      "Requirement already satisfied: numpy in c:\\programdata\\anaconda3\\lib\\site-packages (from lightgbm) (1.21.5)\n",
      "Requirement already satisfied: threadpoolctl>=2.0.0 in c:\\programdata\\anaconda3\\lib\\site-packages (from scikit-learn!=0.22.0->lightgbm) (2.2.0)\n",
      "Requirement already satisfied: joblib>=0.11 in c:\\programdata\\anaconda3\\lib\\site-packages (from scikit-learn!=0.22.0->lightgbm) (1.1.0)\n",
      "Installing collected packages: lightgbm\n",
      "Successfully installed lightgbm-3.3.3\n"
     ]
    }
   ],
   "source": [
    "!pip install lightgbm"
   ]
  },
  {
   "cell_type": "code",
   "execution_count": 22,
   "id": "739e24a3-9f69-4a16-8cd3-e42cd6986467",
   "metadata": {},
   "outputs": [
    {
     "name": "stdout",
     "output_type": "stream",
     "text": [
      "Collecting xgboost\n",
      "  Using cached xgboost-1.6.2-py3-none-win_amd64.whl (125.4 MB)\n",
      "Requirement already satisfied: scipy in c:\\programdata\\anaconda3\\lib\\site-packages (from xgboost) (1.7.3)\n",
      "Requirement already satisfied: numpy in c:\\programdata\\anaconda3\\lib\\site-packages (from xgboost) (1.21.5)\n",
      "Installing collected packages: xgboost\n",
      "Successfully installed xgboost-1.6.2\n"
     ]
    }
   ],
   "source": [
    "!pip install xgboost"
   ]
  },
  {
   "cell_type": "code",
   "execution_count": 24,
   "id": "f33628ac-ae95-421e-91be-a13a861e5dc2",
   "metadata": {},
   "outputs": [
    {
     "name": "stdout",
     "output_type": "stream",
     "text": [
      "Collecting catboost\n",
      "  Downloading catboost-1.1-cp39-none-win_amd64.whl (74.0 MB)\n",
      "Collecting graphviz\n",
      "  Using cached graphviz-0.20.1-py3-none-any.whl (47 kB)\n",
      "Requirement already satisfied: matplotlib in c:\\programdata\\anaconda3\\lib\\site-packages (from catboost) (3.5.1)\n",
      "Requirement already satisfied: pandas>=0.24.0 in c:\\programdata\\anaconda3\\lib\\site-packages (from catboost) (1.4.2)\n",
      "Requirement already satisfied: scipy in c:\\programdata\\anaconda3\\lib\\site-packages (from catboost) (1.7.3)\n",
      "Requirement already satisfied: plotly in c:\\programdata\\anaconda3\\lib\\site-packages (from catboost) (5.6.0)\n",
      "Requirement already satisfied: six in c:\\programdata\\anaconda3\\lib\\site-packages (from catboost) (1.16.0)\n",
      "Requirement already satisfied: numpy>=1.16.0 in c:\\programdata\\anaconda3\\lib\\site-packages (from catboost) (1.21.5)\n",
      "Requirement already satisfied: python-dateutil>=2.8.1 in c:\\programdata\\anaconda3\\lib\\site-packages (from pandas>=0.24.0->catboost) (2.8.2)\n",
      "Requirement already satisfied: pytz>=2020.1 in c:\\programdata\\anaconda3\\lib\\site-packages (from pandas>=0.24.0->catboost) (2021.3)\n",
      "Requirement already satisfied: fonttools>=4.22.0 in c:\\programdata\\anaconda3\\lib\\site-packages (from matplotlib->catboost) (4.25.0)\n",
      "Requirement already satisfied: pyparsing>=2.2.1 in c:\\programdata\\anaconda3\\lib\\site-packages (from matplotlib->catboost) (3.0.4)\n",
      "Requirement already satisfied: packaging>=20.0 in c:\\programdata\\anaconda3\\lib\\site-packages (from matplotlib->catboost) (21.3)\n",
      "Requirement already satisfied: pillow>=6.2.0 in c:\\programdata\\anaconda3\\lib\\site-packages (from matplotlib->catboost) (9.0.1)\n",
      "Requirement already satisfied: cycler>=0.10 in c:\\programdata\\anaconda3\\lib\\site-packages (from matplotlib->catboost) (0.11.0)\n",
      "Requirement already satisfied: kiwisolver>=1.0.1 in c:\\programdata\\anaconda3\\lib\\site-packages (from matplotlib->catboost) (1.3.2)\n",
      "Requirement already satisfied: tenacity>=6.2.0 in c:\\programdata\\anaconda3\\lib\\site-packages (from plotly->catboost) (8.0.1)\n",
      "Installing collected packages: graphviz, catboost\n",
      "Successfully installed catboost-1.1 graphviz-0.20.1\n"
     ]
    }
   ],
   "source": [
    "!pip install catboost"
   ]
  },
  {
   "cell_type": "code",
   "execution_count": 3,
   "id": "60f1ea9d-e221-4212-aa1c-c34315a9cc17",
   "metadata": {},
   "outputs": [
    {
     "data": {
      "text/html": [
       "<div>\n",
       "<style scoped>\n",
       "    .dataframe tbody tr th:only-of-type {\n",
       "        vertical-align: middle;\n",
       "    }\n",
       "\n",
       "    .dataframe tbody tr th {\n",
       "        vertical-align: top;\n",
       "    }\n",
       "\n",
       "    .dataframe thead th {\n",
       "        text-align: right;\n",
       "    }\n",
       "</style>\n",
       "<table border=\"1\" class=\"dataframe\">\n",
       "  <thead>\n",
       "    <tr style=\"text-align: right;\">\n",
       "      <th></th>\n",
       "      <th>year</th>\n",
       "      <th>model</th>\n",
       "      <th>price</th>\n",
       "      <th>transmission</th>\n",
       "      <th>mileage</th>\n",
       "      <th>fuelType</th>\n",
       "      <th>tax</th>\n",
       "      <th>mpg</th>\n",
       "      <th>engineSize</th>\n",
       "      <th>selling_price</th>\n",
       "    </tr>\n",
       "  </thead>\n",
       "  <tbody>\n",
       "    <tr>\n",
       "      <th>0</th>\n",
       "      <td>2015</td>\n",
       "      <td>1 Series</td>\n",
       "      <td>10388</td>\n",
       "      <td>Manual</td>\n",
       "      <td>28640</td>\n",
       "      <td>Diesel</td>\n",
       "      <td>0</td>\n",
       "      <td>83.1</td>\n",
       "      <td>1.5</td>\n",
       "      <td>4794.0620</td>\n",
       "    </tr>\n",
       "    <tr>\n",
       "      <th>1</th>\n",
       "      <td>2017</td>\n",
       "      <td>1 Series</td>\n",
       "      <td>22991</td>\n",
       "      <td>Semi-Auto</td>\n",
       "      <td>15709</td>\n",
       "      <td>Petrol</td>\n",
       "      <td>145</td>\n",
       "      <td>39.8</td>\n",
       "      <td>3.0</td>\n",
       "      <td>13532.5026</td>\n",
       "    </tr>\n",
       "    <tr>\n",
       "      <th>2</th>\n",
       "      <td>2019</td>\n",
       "      <td>1 Series</td>\n",
       "      <td>31790</td>\n",
       "      <td>Semi-Auto</td>\n",
       "      <td>8211</td>\n",
       "      <td>Petrol</td>\n",
       "      <td>145</td>\n",
       "      <td>34.5</td>\n",
       "      <td>2.0</td>\n",
       "      <td>24328.8870</td>\n",
       "    </tr>\n",
       "    <tr>\n",
       "      <th>3</th>\n",
       "      <td>2017</td>\n",
       "      <td>1 Series</td>\n",
       "      <td>19490</td>\n",
       "      <td>Manual</td>\n",
       "      <td>10</td>\n",
       "      <td>Petrol</td>\n",
       "      <td>125</td>\n",
       "      <td>53.3</td>\n",
       "      <td>1.5</td>\n",
       "      <td>11471.8140</td>\n",
       "    </tr>\n",
       "    <tr>\n",
       "      <th>4</th>\n",
       "      <td>2015</td>\n",
       "      <td>1 Series</td>\n",
       "      <td>9600</td>\n",
       "      <td>Manual</td>\n",
       "      <td>30755</td>\n",
       "      <td>Diesel</td>\n",
       "      <td>0</td>\n",
       "      <td>83.1</td>\n",
       "      <td>1.5</td>\n",
       "      <td>4430.4000</td>\n",
       "    </tr>\n",
       "  </tbody>\n",
       "</table>\n",
       "</div>"
      ],
      "text/plain": [
       "   year      model  price transmission  mileage fuelType  tax   mpg  \\\n",
       "0  2015   1 Series  10388       Manual    28640   Diesel    0  83.1   \n",
       "1  2017   1 Series  22991    Semi-Auto    15709   Petrol  145  39.8   \n",
       "2  2019   1 Series  31790    Semi-Auto     8211   Petrol  145  34.5   \n",
       "3  2017   1 Series  19490       Manual       10   Petrol  125  53.3   \n",
       "4  2015   1 Series   9600       Manual    30755   Diesel    0  83.1   \n",
       "\n",
       "   engineSize  selling_price  \n",
       "0         1.5      4794.0620  \n",
       "1         3.0     13532.5026  \n",
       "2         2.0     24328.8870  \n",
       "3         1.5     11471.8140  \n",
       "4         1.5      4430.4000  "
      ]
     },
     "execution_count": 3,
     "metadata": {},
     "output_type": "execute_result"
    }
   ],
   "source": [
    "#Importation des données et exploration\n",
    "data = pd.read_csv(\"bmw_prep.csv\")\n",
    "data.head()"
   ]
  },
  {
   "cell_type": "code",
   "execution_count": null,
   "id": "efe2d7d1-6280-4450-8c36-eb70320b30c7",
   "metadata": {},
   "outputs": [],
   "source": [
    "#Analyse statistique préliminaire :"
   ]
  },
  {
   "cell_type": "code",
   "execution_count": 69,
   "id": "12a71ee8-7dd6-4b91-8c61-1643e93dfb33",
   "metadata": {},
   "outputs": [
    {
     "data": {
      "text/plain": [
       "year             0\n",
       "model            0\n",
       "price            0\n",
       "transmission     0\n",
       "mileage          0\n",
       "fuelType         0\n",
       "tax              0\n",
       "mpg              0\n",
       "engineSize       0\n",
       "selling_price    0\n",
       "dtype: int64"
      ]
     },
     "execution_count": 69,
     "metadata": {},
     "output_type": "execute_result"
    }
   ],
   "source": [
    "# Check for missing values\n",
    "#Voir s'il y a des valeurs manquantes dans les enregistrements\n",
    "data.isnull().sum()\n",
    "#Nice :) c'est une donnée agréable et propre, très bonne avec laquelle travailler !"
   ]
  },
  {
   "cell_type": "code",
   "execution_count": 70,
   "id": "3e876246-0f58-42df-bf33-a823071c7fbc",
   "metadata": {},
   "outputs": [
    {
     "name": "stdout",
     "output_type": "stream",
     "text": [
      "<class 'pandas.core.frame.DataFrame'>\n",
      "RangeIndex: 10781 entries, 0 to 10780\n",
      "Data columns (total 10 columns):\n",
      " #   Column         Non-Null Count  Dtype  \n",
      "---  ------         --------------  -----  \n",
      " 0   year           10781 non-null  int64  \n",
      " 1   model          10781 non-null  object \n",
      " 2   price          10781 non-null  int64  \n",
      " 3   transmission   10781 non-null  object \n",
      " 4   mileage        10781 non-null  int64  \n",
      " 5   fuelType       10781 non-null  object \n",
      " 6   tax            10781 non-null  int64  \n",
      " 7   mpg            10781 non-null  float64\n",
      " 8   engineSize     10781 non-null  float64\n",
      " 9   selling_price  10781 non-null  float64\n",
      "dtypes: float64(3), int64(4), object(3)\n",
      "memory usage: 842.4+ KB\n"
     ]
    }
   ],
   "source": [
    "# check for the datatypes amd other info\n",
    "data.info()"
   ]
  },
  {
   "cell_type": "code",
   "execution_count": 63,
   "id": "aa3d1fb0-bddd-42f6-b366-588c3085b587",
   "metadata": {},
   "outputs": [
    {
     "data": {
      "text/plain": [
       "(10781, 10)"
      ]
     },
     "execution_count": 63,
     "metadata": {},
     "output_type": "execute_result"
    }
   ],
   "source": [
    "#Basic EDA\n",
    "# Check the shape of data\n",
    "data.shape"
   ]
  },
  {
   "cell_type": "code",
   "execution_count": 71,
   "id": "08db5e76-36b9-41c6-b887-07d4d2b407f1",
   "metadata": {},
   "outputs": [
    {
     "name": "stdout",
     "output_type": "stream",
     "text": [
      "               year          price        mileage           tax           mpg  \\\n",
      "count  10781.000000   10781.000000   10781.000000  10781.000000  10781.000000   \n",
      "mean    2017.078935   22733.408867   25496.986550    131.702068     56.399035   \n",
      "std        2.349038   11415.528189   25143.192559     61.510755     31.336958   \n",
      "min     1996.000000    1200.000000       1.000000      0.000000      5.500000   \n",
      "25%     2016.000000   14950.000000    5529.000000    135.000000     45.600000   \n",
      "50%     2017.000000   20462.000000   18347.000000    145.000000     53.300000   \n",
      "75%     2019.000000   27940.000000   38206.000000    145.000000     62.800000   \n",
      "max     2020.000000  123456.000000  214000.000000    580.000000    470.800000   \n",
      "\n",
      "         engineSize  selling_price  \n",
      "count  10781.000000   10781.000000  \n",
      "mean       2.167767   15289.092299  \n",
      "std        0.552054   10162.129757  \n",
      "min        0.000000     216.000000  \n",
      "25%        2.000000    7673.400000  \n",
      "50%        2.000000   12649.014000  \n",
      "75%        2.000000   20665.395900  \n",
      "max        6.600000   68800.470000  \n"
     ]
    }
   ],
   "source": [
    "# check the statistics of data\n",
    "print(data.describe())"
   ]
  },
  {
   "cell_type": "code",
   "execution_count": 64,
   "id": "56617957-7a9e-46d4-a7f3-d9b9369e521c",
   "metadata": {},
   "outputs": [
    {
     "data": {
      "text/plain": [
       "Index(['year', 'model', 'price', 'transmission', 'mileage', 'fuelType', 'tax',\n",
       "       'mpg', 'engineSize', 'selling_price'],\n",
       "      dtype='object')"
      ]
     },
     "execution_count": 64,
     "metadata": {},
     "output_type": "execute_result"
    }
   ],
   "source": [
    "# Check column names of the data\n",
    "data.columns"
   ]
  },
  {
   "cell_type": "code",
   "execution_count": 4,
   "id": "3b0e5f95-ae14-4d77-8fb5-7f8d619cae90",
   "metadata": {},
   "outputs": [
    {
     "data": {
      "text/plain": [
       "Diesel      7027\n",
       "Petrol      3417\n",
       "Hybrid       334\n",
       "Electric       3\n",
       "Name: fuelType, dtype: int64"
      ]
     },
     "execution_count": 4,
     "metadata": {},
     "output_type": "execute_result"
    }
   ],
   "source": [
    "data['fuelType'].value_counts()"
   ]
  },
  {
   "cell_type": "code",
   "execution_count": 38,
   "id": "aae063db-2e65-43ca-a025-5580b6d14337",
   "metadata": {},
   "outputs": [
    {
     "data": {
      "application/vnd.plotly.v1+json": {
       "config": {
        "plotlyServerURL": "https://plot.ly"
       },
       "data": [
        {
         "hole": 0.7,
         "labels": [
          "Diesel",
          "Petrol",
          "Hybrid",
          "Electric"
         ],
         "marker": {
          "colors": [
           "rgb(254, 252, 205)",
           "rgb(239, 225, 156)",
           "rgb(221, 201, 106)",
           "rgb(194, 182, 59)",
           "rgb(157, 167, 21)",
           "rgb(116, 153, 5)",
           "rgb(75, 138, 20)",
           "rgb(35, 121, 36)",
           "rgb(11, 100, 44)",
           "rgb(18, 78, 43)",
           "rgb(25, 56, 34)",
           "rgb(23, 35, 18)"
          ],
          "line": {
           "width": 0
          }
         },
         "title": {
          "text": "Fuel type most used in BMW cars"
         },
         "type": "pie",
         "values": [
          7027,
          3417,
          334,
          3
         ]
        }
       ],
       "layout": {
        "autosize": true,
        "font": {
         "color": "white"
        },
        "hoverlabel": {
         "bgcolor": "green",
         "font": {
          "family": "Lato, sans-serif",
          "size": 13
         }
        },
        "hovermode": "y unified",
        "legend": {
         "orientation": "h",
         "x": 0.5,
         "xanchor": "right",
         "y": 1,
         "yanchor": "bottom"
        },
        "margin": {
         "b": 0,
         "l": 70,
         "r": 40,
         "t": 80
        },
        "paper_bgcolor": "#333",
        "plot_bgcolor": "#333",
        "template": {
         "data": {
          "bar": [
           {
            "error_x": {
             "color": "#2a3f5f"
            },
            "error_y": {
             "color": "#2a3f5f"
            },
            "marker": {
             "line": {
              "color": "#E5ECF6",
              "width": 0.5
             },
             "pattern": {
              "fillmode": "overlay",
              "size": 10,
              "solidity": 0.2
             }
            },
            "type": "bar"
           }
          ],
          "barpolar": [
           {
            "marker": {
             "line": {
              "color": "#E5ECF6",
              "width": 0.5
             },
             "pattern": {
              "fillmode": "overlay",
              "size": 10,
              "solidity": 0.2
             }
            },
            "type": "barpolar"
           }
          ],
          "carpet": [
           {
            "aaxis": {
             "endlinecolor": "#2a3f5f",
             "gridcolor": "white",
             "linecolor": "white",
             "minorgridcolor": "white",
             "startlinecolor": "#2a3f5f"
            },
            "baxis": {
             "endlinecolor": "#2a3f5f",
             "gridcolor": "white",
             "linecolor": "white",
             "minorgridcolor": "white",
             "startlinecolor": "#2a3f5f"
            },
            "type": "carpet"
           }
          ],
          "choropleth": [
           {
            "colorbar": {
             "outlinewidth": 0,
             "ticks": ""
            },
            "type": "choropleth"
           }
          ],
          "contour": [
           {
            "colorbar": {
             "outlinewidth": 0,
             "ticks": ""
            },
            "colorscale": [
             [
              0,
              "#0d0887"
             ],
             [
              0.1111111111111111,
              "#46039f"
             ],
             [
              0.2222222222222222,
              "#7201a8"
             ],
             [
              0.3333333333333333,
              "#9c179e"
             ],
             [
              0.4444444444444444,
              "#bd3786"
             ],
             [
              0.5555555555555556,
              "#d8576b"
             ],
             [
              0.6666666666666666,
              "#ed7953"
             ],
             [
              0.7777777777777778,
              "#fb9f3a"
             ],
             [
              0.8888888888888888,
              "#fdca26"
             ],
             [
              1,
              "#f0f921"
             ]
            ],
            "type": "contour"
           }
          ],
          "contourcarpet": [
           {
            "colorbar": {
             "outlinewidth": 0,
             "ticks": ""
            },
            "type": "contourcarpet"
           }
          ],
          "heatmap": [
           {
            "colorbar": {
             "outlinewidth": 0,
             "ticks": ""
            },
            "colorscale": [
             [
              0,
              "#0d0887"
             ],
             [
              0.1111111111111111,
              "#46039f"
             ],
             [
              0.2222222222222222,
              "#7201a8"
             ],
             [
              0.3333333333333333,
              "#9c179e"
             ],
             [
              0.4444444444444444,
              "#bd3786"
             ],
             [
              0.5555555555555556,
              "#d8576b"
             ],
             [
              0.6666666666666666,
              "#ed7953"
             ],
             [
              0.7777777777777778,
              "#fb9f3a"
             ],
             [
              0.8888888888888888,
              "#fdca26"
             ],
             [
              1,
              "#f0f921"
             ]
            ],
            "type": "heatmap"
           }
          ],
          "heatmapgl": [
           {
            "colorbar": {
             "outlinewidth": 0,
             "ticks": ""
            },
            "colorscale": [
             [
              0,
              "#0d0887"
             ],
             [
              0.1111111111111111,
              "#46039f"
             ],
             [
              0.2222222222222222,
              "#7201a8"
             ],
             [
              0.3333333333333333,
              "#9c179e"
             ],
             [
              0.4444444444444444,
              "#bd3786"
             ],
             [
              0.5555555555555556,
              "#d8576b"
             ],
             [
              0.6666666666666666,
              "#ed7953"
             ],
             [
              0.7777777777777778,
              "#fb9f3a"
             ],
             [
              0.8888888888888888,
              "#fdca26"
             ],
             [
              1,
              "#f0f921"
             ]
            ],
            "type": "heatmapgl"
           }
          ],
          "histogram": [
           {
            "marker": {
             "pattern": {
              "fillmode": "overlay",
              "size": 10,
              "solidity": 0.2
             }
            },
            "type": "histogram"
           }
          ],
          "histogram2d": [
           {
            "colorbar": {
             "outlinewidth": 0,
             "ticks": ""
            },
            "colorscale": [
             [
              0,
              "#0d0887"
             ],
             [
              0.1111111111111111,
              "#46039f"
             ],
             [
              0.2222222222222222,
              "#7201a8"
             ],
             [
              0.3333333333333333,
              "#9c179e"
             ],
             [
              0.4444444444444444,
              "#bd3786"
             ],
             [
              0.5555555555555556,
              "#d8576b"
             ],
             [
              0.6666666666666666,
              "#ed7953"
             ],
             [
              0.7777777777777778,
              "#fb9f3a"
             ],
             [
              0.8888888888888888,
              "#fdca26"
             ],
             [
              1,
              "#f0f921"
             ]
            ],
            "type": "histogram2d"
           }
          ],
          "histogram2dcontour": [
           {
            "colorbar": {
             "outlinewidth": 0,
             "ticks": ""
            },
            "colorscale": [
             [
              0,
              "#0d0887"
             ],
             [
              0.1111111111111111,
              "#46039f"
             ],
             [
              0.2222222222222222,
              "#7201a8"
             ],
             [
              0.3333333333333333,
              "#9c179e"
             ],
             [
              0.4444444444444444,
              "#bd3786"
             ],
             [
              0.5555555555555556,
              "#d8576b"
             ],
             [
              0.6666666666666666,
              "#ed7953"
             ],
             [
              0.7777777777777778,
              "#fb9f3a"
             ],
             [
              0.8888888888888888,
              "#fdca26"
             ],
             [
              1,
              "#f0f921"
             ]
            ],
            "type": "histogram2dcontour"
           }
          ],
          "mesh3d": [
           {
            "colorbar": {
             "outlinewidth": 0,
             "ticks": ""
            },
            "type": "mesh3d"
           }
          ],
          "parcoords": [
           {
            "line": {
             "colorbar": {
              "outlinewidth": 0,
              "ticks": ""
             }
            },
            "type": "parcoords"
           }
          ],
          "pie": [
           {
            "automargin": true,
            "type": "pie"
           }
          ],
          "scatter": [
           {
            "marker": {
             "colorbar": {
              "outlinewidth": 0,
              "ticks": ""
             }
            },
            "type": "scatter"
           }
          ],
          "scatter3d": [
           {
            "line": {
             "colorbar": {
              "outlinewidth": 0,
              "ticks": ""
             }
            },
            "marker": {
             "colorbar": {
              "outlinewidth": 0,
              "ticks": ""
             }
            },
            "type": "scatter3d"
           }
          ],
          "scattercarpet": [
           {
            "marker": {
             "colorbar": {
              "outlinewidth": 0,
              "ticks": ""
             }
            },
            "type": "scattercarpet"
           }
          ],
          "scattergeo": [
           {
            "marker": {
             "colorbar": {
              "outlinewidth": 0,
              "ticks": ""
             }
            },
            "type": "scattergeo"
           }
          ],
          "scattergl": [
           {
            "marker": {
             "colorbar": {
              "outlinewidth": 0,
              "ticks": ""
             }
            },
            "type": "scattergl"
           }
          ],
          "scattermapbox": [
           {
            "marker": {
             "colorbar": {
              "outlinewidth": 0,
              "ticks": ""
             }
            },
            "type": "scattermapbox"
           }
          ],
          "scatterpolar": [
           {
            "marker": {
             "colorbar": {
              "outlinewidth": 0,
              "ticks": ""
             }
            },
            "type": "scatterpolar"
           }
          ],
          "scatterpolargl": [
           {
            "marker": {
             "colorbar": {
              "outlinewidth": 0,
              "ticks": ""
             }
            },
            "type": "scatterpolargl"
           }
          ],
          "scatterternary": [
           {
            "marker": {
             "colorbar": {
              "outlinewidth": 0,
              "ticks": ""
             }
            },
            "type": "scatterternary"
           }
          ],
          "surface": [
           {
            "colorbar": {
             "outlinewidth": 0,
             "ticks": ""
            },
            "colorscale": [
             [
              0,
              "#0d0887"
             ],
             [
              0.1111111111111111,
              "#46039f"
             ],
             [
              0.2222222222222222,
              "#7201a8"
             ],
             [
              0.3333333333333333,
              "#9c179e"
             ],
             [
              0.4444444444444444,
              "#bd3786"
             ],
             [
              0.5555555555555556,
              "#d8576b"
             ],
             [
              0.6666666666666666,
              "#ed7953"
             ],
             [
              0.7777777777777778,
              "#fb9f3a"
             ],
             [
              0.8888888888888888,
              "#fdca26"
             ],
             [
              1,
              "#f0f921"
             ]
            ],
            "type": "surface"
           }
          ],
          "table": [
           {
            "cells": {
             "fill": {
              "color": "#EBF0F8"
             },
             "line": {
              "color": "white"
             }
            },
            "header": {
             "fill": {
              "color": "#C8D4E3"
             },
             "line": {
              "color": "white"
             }
            },
            "type": "table"
           }
          ]
         },
         "layout": {
          "annotationdefaults": {
           "arrowcolor": "#2a3f5f",
           "arrowhead": 0,
           "arrowwidth": 1
          },
          "autotypenumbers": "strict",
          "coloraxis": {
           "colorbar": {
            "outlinewidth": 0,
            "ticks": ""
           }
          },
          "colorscale": {
           "diverging": [
            [
             0,
             "#8e0152"
            ],
            [
             0.1,
             "#c51b7d"
            ],
            [
             0.2,
             "#de77ae"
            ],
            [
             0.3,
             "#f1b6da"
            ],
            [
             0.4,
             "#fde0ef"
            ],
            [
             0.5,
             "#f7f7f7"
            ],
            [
             0.6,
             "#e6f5d0"
            ],
            [
             0.7,
             "#b8e186"
            ],
            [
             0.8,
             "#7fbc41"
            ],
            [
             0.9,
             "#4d9221"
            ],
            [
             1,
             "#276419"
            ]
           ],
           "sequential": [
            [
             0,
             "#0d0887"
            ],
            [
             0.1111111111111111,
             "#46039f"
            ],
            [
             0.2222222222222222,
             "#7201a8"
            ],
            [
             0.3333333333333333,
             "#9c179e"
            ],
            [
             0.4444444444444444,
             "#bd3786"
            ],
            [
             0.5555555555555556,
             "#d8576b"
            ],
            [
             0.6666666666666666,
             "#ed7953"
            ],
            [
             0.7777777777777778,
             "#fb9f3a"
            ],
            [
             0.8888888888888888,
             "#fdca26"
            ],
            [
             1,
             "#f0f921"
            ]
           ],
           "sequentialminus": [
            [
             0,
             "#0d0887"
            ],
            [
             0.1111111111111111,
             "#46039f"
            ],
            [
             0.2222222222222222,
             "#7201a8"
            ],
            [
             0.3333333333333333,
             "#9c179e"
            ],
            [
             0.4444444444444444,
             "#bd3786"
            ],
            [
             0.5555555555555556,
             "#d8576b"
            ],
            [
             0.6666666666666666,
             "#ed7953"
            ],
            [
             0.7777777777777778,
             "#fb9f3a"
            ],
            [
             0.8888888888888888,
             "#fdca26"
            ],
            [
             1,
             "#f0f921"
            ]
           ]
          },
          "colorway": [
           "#636efa",
           "#EF553B",
           "#00cc96",
           "#ab63fa",
           "#FFA15A",
           "#19d3f3",
           "#FF6692",
           "#B6E880",
           "#FF97FF",
           "#FECB52"
          ],
          "font": {
           "color": "#2a3f5f"
          },
          "geo": {
           "bgcolor": "white",
           "lakecolor": "white",
           "landcolor": "#E5ECF6",
           "showlakes": true,
           "showland": true,
           "subunitcolor": "white"
          },
          "hoverlabel": {
           "align": "left"
          },
          "hovermode": "closest",
          "mapbox": {
           "style": "light"
          },
          "paper_bgcolor": "white",
          "plot_bgcolor": "#E5ECF6",
          "polar": {
           "angularaxis": {
            "gridcolor": "white",
            "linecolor": "white",
            "ticks": ""
           },
           "bgcolor": "#E5ECF6",
           "radialaxis": {
            "gridcolor": "white",
            "linecolor": "white",
            "ticks": ""
           }
          },
          "scene": {
           "xaxis": {
            "backgroundcolor": "#E5ECF6",
            "gridcolor": "white",
            "gridwidth": 2,
            "linecolor": "white",
            "showbackground": true,
            "ticks": "",
            "zerolinecolor": "white"
           },
           "yaxis": {
            "backgroundcolor": "#E5ECF6",
            "gridcolor": "white",
            "gridwidth": 2,
            "linecolor": "white",
            "showbackground": true,
            "ticks": "",
            "zerolinecolor": "white"
           },
           "zaxis": {
            "backgroundcolor": "#E5ECF6",
            "gridcolor": "white",
            "gridwidth": 2,
            "linecolor": "white",
            "showbackground": true,
            "ticks": "",
            "zerolinecolor": "white"
           }
          },
          "shapedefaults": {
           "line": {
            "color": "#2a3f5f"
           }
          },
          "ternary": {
           "aaxis": {
            "gridcolor": "white",
            "linecolor": "white",
            "ticks": ""
           },
           "baxis": {
            "gridcolor": "white",
            "linecolor": "white",
            "ticks": ""
           },
           "bgcolor": "#E5ECF6",
           "caxis": {
            "gridcolor": "white",
            "linecolor": "white",
            "ticks": ""
           }
          },
          "title": {
           "x": 0.05
          },
          "xaxis": {
           "automargin": true,
           "gridcolor": "white",
           "linecolor": "white",
           "ticks": "",
           "title": {
            "standoff": 15
           },
           "zerolinecolor": "white",
           "zerolinewidth": 2
          },
          "yaxis": {
           "automargin": true,
           "gridcolor": "white",
           "linecolor": "white",
           "ticks": "",
           "title": {
            "standoff": 15
           },
           "zerolinecolor": "white",
           "zerolinewidth": 2
          }
         }
        },
        "title": {
         "font": {
          "color": "white",
          "family": "Lato, sans-serif",
          "size": 25
         },
         "text": "Show the Fuel Type:"
        },
        "xaxis": {
         "showgrid": false,
         "title": {
          "text": " "
         }
        },
        "yaxis": {
         "categoryorder": "total ascending",
         "showgrid": false,
         "showline": false,
         "ticksuffix": " ",
         "title": {
          "text": " "
         }
        }
       }
      },
      "image/png": "[encoded data removed]",
      "text/html": [
       "<div>                            <div id=\"4b59a8c2-62e3-42e8-a465-de430bac5818\" class=\"plotly-graph-div\" style=\"height:400px; width:100%;\"></div>            <script type=\"text/javascript\">                require([\"plotly\"], function(Plotly) {                    window.PLOTLYENV=window.PLOTLYENV || {};                                    if (document.getElementById(\"4b59a8c2-62e3-42e8-a465-de430bac5818\")) {                    Plotly.newPlot(                        \"4b59a8c2-62e3-42e8-a465-de430bac5818\",                        [{\"hole\":0.7,\"labels\":[\"Diesel\",\"Petrol\",\"Hybrid\",\"Electric\"],\"marker\":{\"colors\":[\"rgb(254, 252, 205)\",\"rgb(239, 225, 156)\",\"rgb(221, 201, 106)\",\"rgb(194, 182, 59)\",\"rgb(157, 167, 21)\",\"rgb(116, 153, 5)\",\"rgb(75, 138, 20)\",\"rgb(35, 121, 36)\",\"rgb(11, 100, 44)\",\"rgb(18, 78, 43)\",\"rgb(25, 56, 34)\",\"rgb(23, 35, 18)\"],\"line\":{\"width\":0}},\"title\":{\"text\":\"Fuel type most used in BMW cars\"},\"values\":[7027,3417,334,3],\"type\":\"pie\"}],                        {\"template\":{\"data\":{\"bar\":[{\"error_x\":{\"color\":\"#2a3f5f\"},\"error_y\":{\"color\":\"#2a3f5f\"},\"marker\":{\"line\":{\"color\":\"#E5ECF6\",\"width\":0.5},\"pattern\":{\"fillmode\":\"overlay\",\"size\":10,\"solidity\":0.2}},\"type\":\"bar\"}],\"barpolar\":[{\"marker\":{\"line\":{\"color\":\"#E5ECF6\",\"width\":0.5},\"pattern\":{\"fillmode\":\"overlay\",\"size\":10,\"solidity\":0.2}},\"type\":\"barpolar\"}],\"carpet\":[{\"aaxis\":{\"endlinecolor\":\"#2a3f5f\",\"gridcolor\":\"white\",\"linecolor\":\"white\",\"minorgridcolor\":\"white\",\"startlinecolor\":\"#2a3f5f\"},\"baxis\":{\"endlinecolor\":\"#2a3f5f\",\"gridcolor\":\"white\",\"linecolor\":\"white\",\"minorgridcolor\":\"white\",\"startlinecolor\":\"#2a3f5f\"},\"type\":\"carpet\"}],\"choropleth\":[{\"colorbar\":{\"outlinewidth\":0,\"ticks\":\"\"},\"type\":\"choropleth\"}],\"contour\":[{\"colorbar\":{\"outlinewidth\":0,\"ticks\":\"\"},\"colorscale\":[[0.0,\"#0d0887\"],[0.1111111111111111,\"#46039f\"],[0.2222222222222222,\"#7201a8\"],[0.3333333333333333,\"#9c179e\"],[0.4444444444444444,\"#bd3786\"],[0.5555555555555556,\"#d8576b\"],[0.6666666666666666,\"#ed7953\"],[0.7777777777777778,\"#fb9f3a\"],[0.8888888888888888,\"#fdca26\"],[1.0,\"#f0f921\"]],\"type\":\"contour\"}],\"contourcarpet\":[{\"colorbar\":{\"outlinewidth\":0,\"ticks\":\"\"},\"type\":\"contourcarpet\"}],\"heatmap\":[{\"colorbar\":{\"outlinewidth\":0,\"ticks\":\"\"},\"colorscale\":[[0.0,\"#0d0887\"],[0.1111111111111111,\"#46039f\"],[0.2222222222222222,\"#7201a8\"],[0.3333333333333333,\"#9c179e\"],[0.4444444444444444,\"#bd3786\"],[0.5555555555555556,\"#d8576b\"],[0.6666666666666666,\"#ed7953\"],[0.7777777777777778,\"#fb9f3a\"],[0.8888888888888888,\"#fdca26\"],[1.0,\"#f0f921\"]],\"type\":\"heatmap\"}],\"heatmapgl\":[{\"colorbar\":{\"outlinewidth\":0,\"ticks\":\"\"},\"colorscale\":[[0.0,\"#0d0887\"],[0.1111111111111111,\"#46039f\"],[0.2222222222222222,\"#7201a8\"],[0.3333333333333333,\"#9c179e\"],[0.4444444444444444,\"#bd3786\"],[0.5555555555555556,\"#d8576b\"],[0.6666666666666666,\"#ed7953\"],[0.7777777777777778,\"#fb9f3a\"],[0.8888888888888888,\"#fdca26\"],[1.0,\"#f0f921\"]],\"type\":\"heatmapgl\"}],\"histogram\":[{\"marker\":{\"pattern\":{\"fillmode\":\"overlay\",\"size\":10,\"solidity\":0.2}},\"type\":\"histogram\"}],\"histogram2d\":[{\"colorbar\":{\"outlinewidth\":0,\"ticks\":\"\"},\"colorscale\":[[0.0,\"#0d0887\"],[0.1111111111111111,\"#46039f\"],[0.2222222222222222,\"#7201a8\"],[0.3333333333333333,\"#9c179e\"],[0.4444444444444444,\"#bd3786\"],[0.5555555555555556,\"#d8576b\"],[0.6666666666666666,\"#ed7953\"],[0.7777777777777778,\"#fb9f3a\"],[0.8888888888888888,\"#fdca26\"],[1.0,\"#f0f921\"]],\"type\":\"histogram2d\"}],\"histogram2dcontour\":[{\"colorbar\":{\"outlinewidth\":0,\"ticks\":\"\"},\"colorscale\":[[0.0,\"#0d0887\"],[0.1111111111111111,\"#46039f\"],[0.2222222222222222,\"#7201a8\"],[0.3333333333333333,\"#9c179e\"],[0.4444444444444444,\"#bd3786\"],[0.5555555555555556,\"#d8576b\"],[0.6666666666666666,\"#ed7953\"],[0.7777777777777778,\"#fb9f3a\"],[0.8888888888888888,\"#fdca26\"],[1.0,\"#f0f921\"]],\"type\":\"histogram2dcontour\"}],\"mesh3d\":[{\"colorbar\":{\"outlinewidth\":0,\"ticks\":\"\"},\"type\":\"mesh3d\"}],\"parcoords\":[{\"line\":{\"colorbar\":{\"outlinewidth\":0,\"ticks\":\"\"}},\"type\":\"parcoords\"}],\"pie\":[{\"automargin\":true,\"type\":\"pie\"}],\"scatter\":[{\"marker\":{\"colorbar\":{\"outlinewidth\":0,\"ticks\":\"\"}},\"type\":\"scatter\"}],\"scatter3d\":[{\"line\":{\"colorbar\":{\"outlinewidth\":0,\"ticks\":\"\"}},\"marker\":{\"colorbar\":{\"outlinewidth\":0,\"ticks\":\"\"}},\"type\":\"scatter3d\"}],\"scattercarpet\":[{\"marker\":{\"colorbar\":{\"outlinewidth\":0,\"ticks\":\"\"}},\"type\":\"scattercarpet\"}],\"scattergeo\":[{\"marker\":{\"colorbar\":{\"outlinewidth\":0,\"ticks\":\"\"}},\"type\":\"scattergeo\"}],\"scattergl\":[{\"marker\":{\"colorbar\":{\"outlinewidth\":0,\"ticks\":\"\"}},\"type\":\"scattergl\"}],\"scattermapbox\":[{\"marker\":{\"colorbar\":{\"outlinewidth\":0,\"ticks\":\"\"}},\"type\":\"scattermapbox\"}],\"scatterpolar\":[{\"marker\":{\"colorbar\":{\"outlinewidth\":0,\"ticks\":\"\"}},\"type\":\"scatterpolar\"}],\"scatterpolargl\":[{\"marker\":{\"colorbar\":{\"outlinewidth\":0,\"ticks\":\"\"}},\"type\":\"scatterpolargl\"}],\"scatterternary\":[{\"marker\":{\"colorbar\":{\"outlinewidth\":0,\"ticks\":\"\"}},\"type\":\"scatterternary\"}],\"surface\":[{\"colorbar\":{\"outlinewidth\":0,\"ticks\":\"\"},\"colorscale\":[[0.0,\"#0d0887\"],[0.1111111111111111,\"#46039f\"],[0.2222222222222222,\"#7201a8\"],[0.3333333333333333,\"#9c179e\"],[0.4444444444444444,\"#bd3786\"],[0.5555555555555556,\"#d8576b\"],[0.6666666666666666,\"#ed7953\"],[0.7777777777777778,\"#fb9f3a\"],[0.8888888888888888,\"#fdca26\"],[1.0,\"#f0f921\"]],\"type\":\"surface\"}],\"table\":[{\"cells\":{\"fill\":{\"color\":\"#EBF0F8\"},\"line\":{\"color\":\"white\"}},\"header\":{\"fill\":{\"color\":\"#C8D4E3\"},\"line\":{\"color\":\"white\"}},\"type\":\"table\"}]},\"layout\":{\"annotationdefaults\":{\"arrowcolor\":\"#2a3f5f\",\"arrowhead\":0,\"arrowwidth\":1},\"autotypenumbers\":\"strict\",\"coloraxis\":{\"colorbar\":{\"outlinewidth\":0,\"ticks\":\"\"}},\"colorscale\":{\"diverging\":[[0,\"#8e0152\"],[0.1,\"#c51b7d\"],[0.2,\"#de77ae\"],[0.3,\"#f1b6da\"],[0.4,\"#fde0ef\"],[0.5,\"#f7f7f7\"],[0.6,\"#e6f5d0\"],[0.7,\"#b8e186\"],[0.8,\"#7fbc41\"],[0.9,\"#4d9221\"],[1,\"#276419\"]],\"sequential\":[[0.0,\"#0d0887\"],[0.1111111111111111,\"#46039f\"],[0.2222222222222222,\"#7201a8\"],[0.3333333333333333,\"#9c179e\"],[0.4444444444444444,\"#bd3786\"],[0.5555555555555556,\"#d8576b\"],[0.6666666666666666,\"#ed7953\"],[0.7777777777777778,\"#fb9f3a\"],[0.8888888888888888,\"#fdca26\"],[1.0,\"#f0f921\"]],\"sequentialminus\":[[0.0,\"#0d0887\"],[0.1111111111111111,\"#46039f\"],[0.2222222222222222,\"#7201a8\"],[0.3333333333333333,\"#9c179e\"],[0.4444444444444444,\"#bd3786\"],[0.5555555555555556,\"#d8576b\"],[0.6666666666666666,\"#ed7953\"],[0.7777777777777778,\"#fb9f3a\"],[0.8888888888888888,\"#fdca26\"],[1.0,\"#f0f921\"]]},\"colorway\":[\"#636efa\",\"#EF553B\",\"#00cc96\",\"#ab63fa\",\"#FFA15A\",\"#19d3f3\",\"#FF6692\",\"#B6E880\",\"#FF97FF\",\"#FECB52\"],\"font\":{\"color\":\"#2a3f5f\"},\"geo\":{\"bgcolor\":\"white\",\"lakecolor\":\"white\",\"landcolor\":\"#E5ECF6\",\"showlakes\":true,\"showland\":true,\"subunitcolor\":\"white\"},\"hoverlabel\":{\"align\":\"left\"},\"hovermode\":\"closest\",\"mapbox\":{\"style\":\"light\"},\"paper_bgcolor\":\"white\",\"plot_bgcolor\":\"#E5ECF6\",\"polar\":{\"angularaxis\":{\"gridcolor\":\"white\",\"linecolor\":\"white\",\"ticks\":\"\"},\"bgcolor\":\"#E5ECF6\",\"radialaxis\":{\"gridcolor\":\"white\",\"linecolor\":\"white\",\"ticks\":\"\"}},\"scene\":{\"xaxis\":{\"backgroundcolor\":\"#E5ECF6\",\"gridcolor\":\"white\",\"gridwidth\":2,\"linecolor\":\"white\",\"showbackground\":true,\"ticks\":\"\",\"zerolinecolor\":\"white\"},\"yaxis\":{\"backgroundcolor\":\"#E5ECF6\",\"gridcolor\":\"white\",\"gridwidth\":2,\"linecolor\":\"white\",\"showbackground\":true,\"ticks\":\"\",\"zerolinecolor\":\"white\"},\"zaxis\":{\"backgroundcolor\":\"#E5ECF6\",\"gridcolor\":\"white\",\"gridwidth\":2,\"linecolor\":\"white\",\"showbackground\":true,\"ticks\":\"\",\"zerolinecolor\":\"white\"}},\"shapedefaults\":{\"line\":{\"color\":\"#2a3f5f\"}},\"ternary\":{\"aaxis\":{\"gridcolor\":\"white\",\"linecolor\":\"white\",\"ticks\":\"\"},\"baxis\":{\"gridcolor\":\"white\",\"linecolor\":\"white\",\"ticks\":\"\"},\"bgcolor\":\"#E5ECF6\",\"caxis\":{\"gridcolor\":\"white\",\"linecolor\":\"white\",\"ticks\":\"\"}},\"title\":{\"x\":0.05},\"xaxis\":{\"automargin\":true,\"gridcolor\":\"white\",\"linecolor\":\"white\",\"ticks\":\"\",\"title\":{\"standoff\":15},\"zerolinecolor\":\"white\",\"zerolinewidth\":2},\"yaxis\":{\"automargin\":true,\"gridcolor\":\"white\",\"linecolor\":\"white\",\"ticks\":\"\",\"title\":{\"standoff\":15},\"zerolinecolor\":\"white\",\"zerolinewidth\":2}}},\"title\":{\"text\":\"Show the Fuel Type:\",\"font\":{\"size\":25,\"color\":\"white\",\"family\":\"Lato, sans-serif\"}},\"xaxis\":{\"showgrid\":false,\"title\":{\"text\":\" \"}},\"yaxis\":{\"showgrid\":false,\"categoryorder\":\"total ascending\",\"ticksuffix\":\" \",\"showline\":false,\"title\":{\"text\":\" \"}},\"margin\":{\"t\":80,\"b\":0,\"l\":70,\"r\":40},\"font\":{\"color\":\"white\"},\"legend\":{\"orientation\":\"h\",\"yanchor\":\"bottom\",\"y\":1,\"xanchor\":\"right\",\"x\":0.5},\"hoverlabel\":{\"font\":{\"size\":13,\"family\":\"Lato, sans-serif\"},\"bgcolor\":\"green\"},\"hovermode\":\"y unified\",\"height\":400,\"plot_bgcolor\":\"#333\",\"paper_bgcolor\":\"#333\"},                        {\"responsive\": true}                    ).then(function(){\n",
       "                            \n",
       "var gd = document.getElementById('4b59a8c2-62e3-42e8-a465-de430bac5818');\n",
       "var x = new MutationObserver(function (mutations, observer) {{\n",
       "        var display = window.getComputedStyle(gd).display;\n",
       "        if (!display || display === 'none') {{\n",
       "            console.log([gd, 'removed!']);\n",
       "            Plotly.purge(gd);\n",
       "            observer.disconnect();\n",
       "        }}\n",
       "}});\n",
       "\n",
       "// Listen for the removal of the full notebook cells\n",
       "var notebookContainer = gd.closest('#notebook-container');\n",
       "if (notebookContainer) {{\n",
       "    x.observe(notebookContainer, {childList: true});\n",
       "}}\n",
       "\n",
       "// Listen for the clearing of the current output cell\n",
       "var outputEl = gd.closest('.output');\n",
       "if (outputEl) {{\n",
       "    x.observe(outputEl, {childList: true});\n",
       "}}\n",
       "\n",
       "                        })                };                });            </script>        </div>"
      ]
     },
     "metadata": {},
     "output_type": "display_data"
    }
   ],
   "source": [
    "fuel=pd.DataFrame(data[\"fuelType\"].value_counts().reset_index().rename(columns={\"index\":\"Fuel_type\",\"fuelType\":\"Total\"}))\n",
    "\n",
    "fig=go.Figure(data=[go.Pie(labels=fuel[\"Fuel_type\"],\n",
    "                          values=fuel[\"Total\"],\n",
    "                          hole=.7,\n",
    "                          title=\"Fuel type most used in BMW cars\",\n",
    "                          marker_colors=px.colors.sequential.speed,)])\n",
    "fig.update_layout(title=\"Show the Fuel Type:\")\n",
    "\n",
    "fig.update_xaxes(showgrid=False)\n",
    "\n",
    "fig.update_yaxes(showgrid=False, categoryorder='total ascending', ticksuffix=' ', showline=False)\n",
    "\n",
    "fig.update_traces(hovertemplate=None, marker=dict(line=dict(width=0)))\n",
    "\n",
    "fig.update_layout(margin=dict(t=80, b=0, l=70, r=40),hovermode=\"y unified\",\n",
    "                  xaxis_title=' ', yaxis_title=\" \", height=400,plot_bgcolor='#333', paper_bgcolor='#333',\n",
    "title_font=dict(size=25, color='white', family=\"Lato, sans-serif\"),\n",
    " font=dict(color='white'),\n",
    "                  legend=dict(orientation=\"h\", yanchor=\"bottom\", y=1, xanchor=\"right\", x=0.5),\n",
    "                  hoverlabel=dict(bgcolor=\"green\", font_size=13, font_family=\"Lato, sans-serif\"))\n",
    "                 \n",
    "\n",
    "\n",
    "fig.show()"
   ]
  },
  {
   "cell_type": "code",
   "execution_count": 57,
   "id": "ec0e4811-7731-46fa-bce0-11473b69fd89",
   "metadata": {},
   "outputs": [
    {
     "data": {
      "text/plain": [
       "<AxesSubplot:xlabel='fuelType', ylabel='price'>"
      ]
     },
     "execution_count": 57,
     "metadata": {},
     "output_type": "execute_result"
    },
    {
     "data": {
      "image/png": "[encoded data removed]",
      "text/plain": [
       "<Figure size 708.661x566.929 with 1 Axes>"
      ]
     },
     "metadata": {
      "needs_background": "light"
     },
     "output_type": "display_data"
    }
   ],
   "source": [
    "plt.figure(figsize=(cm_to_inch(25),cm_to_inch(20)))\n",
    "sns.boxplot(x = 'fuelType', y = 'price', data = data,palette='Accent')"
   ]
  },
  {
   "cell_type": "code",
   "execution_count": 66,
   "id": "e388a6b2-2ad0-4976-910c-e0e9cce82281",
   "metadata": {},
   "outputs": [
    {
     "data": {
      "text/plain": [
       "Semi-Auto    4666\n",
       "Automatic    3588\n",
       "Manual       2527\n",
       "Name: transmission, dtype: int64"
      ]
     },
     "execution_count": 66,
     "metadata": {},
     "output_type": "execute_result"
    }
   ],
   "source": [
    "#Vérifions quelle transmission est la plus populaire\n",
    "data['transmission'].value_counts()"
   ]
  },
  {
   "cell_type": "code",
   "execution_count": 39,
   "id": "df9dcdd9-3aba-4390-ad91-ae5c4bfa3716",
   "metadata": {},
   "outputs": [
    {
     "name": "stderr",
     "output_type": "stream",
     "text": [
      "C:\\ProgramData\\Anaconda3\\lib\\site-packages\\seaborn\\_decorators.py:36: FutureWarning:\n",
      "\n",
      "Pass the following variable as a keyword arg: x. From version 0.12, the only valid positional argument will be `data`, and passing other arguments without an explicit keyword will result in an error or misinterpretation.\n",
      "\n"
     ]
    },
    {
     "data": {
      "text/plain": [
       "<AxesSubplot:xlabel='transmission', ylabel='count'>"
      ]
     },
     "execution_count": 39,
     "metadata": {},
     "output_type": "execute_result"
    },
    {
     "data": {
      "image/png": "[encoded data removed]",
      "text/plain": [
       "<Figure size 432x288 with 1 Axes>"
      ]
     },
     "metadata": {
      "needs_background": "light"
     },
     "output_type": "display_data"
    }
   ],
   "source": [
    "#Most of the cars on the dataset are with semi-automatic transmission, then cars in automatic and the least manual transmission\n",
    "sns.countplot(data[\"transmission\"])"
   ]
  },
  {
   "cell_type": "code",
   "execution_count": 44,
   "id": "367729a4-cc62-4f0b-badc-eeb8b6a8afeb",
   "metadata": {},
   "outputs": [],
   "source": [
    "#Matplotlib/PyPlot don't currently support metric sizes, though, \n",
    "#it's easy to write a helper function to convert between the two:\n",
    "def cm_to_inch(value):\n",
    "    return value/2.54"
   ]
  },
  {
   "cell_type": "code",
   "execution_count": 46,
   "id": "e82f2cb5-25ca-48e5-9270-43f1a8699740",
   "metadata": {},
   "outputs": [
    {
     "name": "stdout",
     "output_type": "stream",
     "text": [
      " 3 Series    0.226602\n",
      " 1 Series    0.182636\n",
      " 2 Series    0.113997\n",
      " 5 Series    0.097950\n",
      " 4 Series    0.092292\n",
      " X1          0.074576\n",
      " X3          0.051108\n",
      " X5          0.043410\n",
      " X2          0.026714\n",
      " X4          0.016603\n",
      " M4          0.011594\n",
      " Z4          0.010018\n",
      " 6 Series    0.010018\n",
      " 7 Series    0.009832\n",
      " X6          0.009832\n",
      " X7          0.005102\n",
      " i3          0.003988\n",
      " 8 Series    0.003617\n",
      " M5          0.002690\n",
      " M3          0.002504\n",
      " M2          0.001948\n",
      " i8          0.001577\n",
      " M6          0.000742\n",
      " Z3          0.000649\n",
      "Name: model, dtype: float64\n"
     ]
    },
    {
     "data": {
      "text/plain": [
       "<AxesSubplot:xlabel='count', ylabel='model'>"
      ]
     },
     "execution_count": 46,
     "metadata": {},
     "output_type": "execute_result"
    },
    {
     "data": {
      "image/png": "[encoded data removed]",
      "text/plain": [
       "<Figure size 708.661x425.197 with 1 Axes>"
      ]
     },
     "metadata": {
      "needs_background": "light"
     },
     "output_type": "display_data"
    }
   ],
   "source": [
    "print(data[\"model\"].value_counts() / len(data))\n",
    "plt.figure(figsize=(cm_to_inch(25),cm_to_inch(15)))\n",
    "sns.countplot(y = data[\"model\"])\n",
    "#Top 3 cars are 3 Series, 1 Series and 2 Series on the dataset constuite 52% of all the BMW cars, with all other cars contributing to 48%"
   ]
  },
  {
   "cell_type": "code",
   "execution_count": 74,
   "id": "54d42aba-ee44-43c8-b0a5-1a0accc061a8",
   "metadata": {},
   "outputs": [
    {
     "name": "stderr",
     "output_type": "stream",
     "text": [
      "C:\\ProgramData\\Anaconda3\\lib\\site-packages\\plotly\\express\\_core.py:1637: FutureWarning:\n",
      "\n",
      "The frame.append method is deprecated and will be removed from pandas in a future version. Use pandas.concat instead.\n",
      "\n"
     ]
    },
    {
     "data": {
      "application/vnd.plotly.v1+json": {
       "config": {
        "plotlyServerURL": "https://plot.ly"
       },
       "data": [
        {
         "branchvalues": "total",
         "domain": {
          "x": [
           0,
           1
          ],
          "y": [
           0,
           1
          ]
         },
         "hovertemplate": "labels=%{label}<br>count=%{value}<br>parent=%{parent}<br>id=%{id}<extra></extra>",
         "ids": [
          " 1 Series",
          " 2 Series",
          " 3 Series",
          " 4 Series",
          " 5 Series",
          " 6 Series",
          " 7 Series",
          " 8 Series",
          " M2",
          " M3",
          " M4",
          " M5",
          " M6",
          " X1",
          " X2",
          " X3",
          " X4",
          " X5",
          " X6",
          " X7",
          " Z3",
          " Z4",
          " i3",
          " i8"
         ],
         "labels": [
          " 1 Series",
          " 2 Series",
          " 3 Series",
          " 4 Series",
          " 5 Series",
          " 6 Series",
          " 7 Series",
          " 8 Series",
          " M2",
          " M3",
          " M4",
          " M5",
          " M6",
          " X1",
          " X2",
          " X3",
          " X4",
          " X5",
          " X6",
          " X7",
          " Z3",
          " Z4",
          " i3",
          " i8"
         ],
         "name": "",
         "parents": [
          "",
          "",
          "",
          "",
          "",
          "",
          "",
          "",
          "",
          "",
          "",
          "",
          "",
          "",
          "",
          "",
          "",
          "",
          "",
          "",
          "",
          "",
          "",
          ""
         ],
         "type": "treemap",
         "values": [
          1969,
          1229,
          2443,
          995,
          1056,
          108,
          106,
          39,
          21,
          27,
          125,
          29,
          8,
          804,
          288,
          551,
          179,
          468,
          106,
          55,
          7,
          108,
          43,
          17
         ]
        }
       ],
       "layout": {
        "autosize": true,
        "legend": {
         "tracegroupgap": 0
        },
        "template": {
         "data": {
          "bar": [
           {
            "error_x": {
             "color": "#2a3f5f"
            },
            "error_y": {
             "color": "#2a3f5f"
            },
            "marker": {
             "line": {
              "color": "#E5ECF6",
              "width": 0.5
             },
             "pattern": {
              "fillmode": "overlay",
              "size": 10,
              "solidity": 0.2
             }
            },
            "type": "bar"
           }
          ],
          "barpolar": [
           {
            "marker": {
             "line": {
              "color": "#E5ECF6",
              "width": 0.5
             },
             "pattern": {
              "fillmode": "overlay",
              "size": 10,
              "solidity": 0.2
             }
            },
            "type": "barpolar"
           }
          ],
          "carpet": [
           {
            "aaxis": {
             "endlinecolor": "#2a3f5f",
             "gridcolor": "white",
             "linecolor": "white",
             "minorgridcolor": "white",
             "startlinecolor": "#2a3f5f"
            },
            "baxis": {
             "endlinecolor": "#2a3f5f",
             "gridcolor": "white",
             "linecolor": "white",
             "minorgridcolor": "white",
             "startlinecolor": "#2a3f5f"
            },
            "type": "carpet"
           }
          ],
          "choropleth": [
           {
            "colorbar": {
             "outlinewidth": 0,
             "ticks": ""
            },
            "type": "choropleth"
           }
          ],
          "contour": [
           {
            "colorbar": {
             "outlinewidth": 0,
             "ticks": ""
            },
            "colorscale": [
             [
              0,
              "#0d0887"
             ],
             [
              0.1111111111111111,
              "#46039f"
             ],
             [
              0.2222222222222222,
              "#7201a8"
             ],
             [
              0.3333333333333333,
              "#9c179e"
             ],
             [
              0.4444444444444444,
              "#bd3786"
             ],
             [
              0.5555555555555556,
              "#d8576b"
             ],
             [
              0.6666666666666666,
              "#ed7953"
             ],
             [
              0.7777777777777778,
              "#fb9f3a"
             ],
             [
              0.8888888888888888,
              "#fdca26"
             ],
             [
              1,
              "#f0f921"
             ]
            ],
            "type": "contour"
           }
          ],
          "contourcarpet": [
           {
            "colorbar": {
             "outlinewidth": 0,
             "ticks": ""
            },
            "type": "contourcarpet"
           }
          ],
          "heatmap": [
           {
            "colorbar": {
             "outlinewidth": 0,
             "ticks": ""
            },
            "colorscale": [
             [
              0,
              "#0d0887"
             ],
             [
              0.1111111111111111,
              "#46039f"
             ],
             [
              0.2222222222222222,
              "#7201a8"
             ],
             [
              0.3333333333333333,
              "#9c179e"
             ],
             [
              0.4444444444444444,
              "#bd3786"
             ],
             [
              0.5555555555555556,
              "#d8576b"
             ],
             [
              0.6666666666666666,
              "#ed7953"
             ],
             [
              0.7777777777777778,
              "#fb9f3a"
             ],
             [
              0.8888888888888888,
              "#fdca26"
             ],
             [
              1,
              "#f0f921"
             ]
            ],
            "type": "heatmap"
           }
          ],
          "heatmapgl": [
           {
            "colorbar": {
             "outlinewidth": 0,
             "ticks": ""
            },
            "colorscale": [
             [
              0,
              "#0d0887"
             ],
             [
              0.1111111111111111,
              "#46039f"
             ],
             [
              0.2222222222222222,
              "#7201a8"
             ],
             [
              0.3333333333333333,
              "#9c179e"
             ],
             [
              0.4444444444444444,
              "#bd3786"
             ],
             [
              0.5555555555555556,
              "#d8576b"
             ],
             [
              0.6666666666666666,
              "#ed7953"
             ],
             [
              0.7777777777777778,
              "#fb9f3a"
             ],
             [
              0.8888888888888888,
              "#fdca26"
             ],
             [
              1,
              "#f0f921"
             ]
            ],
            "type": "heatmapgl"
           }
          ],
          "histogram": [
           {
            "marker": {
             "pattern": {
              "fillmode": "overlay",
              "size": 10,
              "solidity": 0.2
             }
            },
            "type": "histogram"
           }
          ],
          "histogram2d": [
           {
            "colorbar": {
             "outlinewidth": 0,
             "ticks": ""
            },
            "colorscale": [
             [
              0,
              "#0d0887"
             ],
             [
              0.1111111111111111,
              "#46039f"
             ],
             [
              0.2222222222222222,
              "#7201a8"
             ],
             [
              0.3333333333333333,
              "#9c179e"
             ],
             [
              0.4444444444444444,
              "#bd3786"
             ],
             [
              0.5555555555555556,
              "#d8576b"
             ],
             [
              0.6666666666666666,
              "#ed7953"
             ],
             [
              0.7777777777777778,
              "#fb9f3a"
             ],
             [
              0.8888888888888888,
              "#fdca26"
             ],
             [
              1,
              "#f0f921"
             ]
            ],
            "type": "histogram2d"
           }
          ],
          "histogram2dcontour": [
           {
            "colorbar": {
             "outlinewidth": 0,
             "ticks": ""
            },
            "colorscale": [
             [
              0,
              "#0d0887"
             ],
             [
              0.1111111111111111,
              "#46039f"
             ],
             [
              0.2222222222222222,
              "#7201a8"
             ],
             [
              0.3333333333333333,
              "#9c179e"
             ],
             [
              0.4444444444444444,
              "#bd3786"
             ],
             [
              0.5555555555555556,
              "#d8576b"
             ],
             [
              0.6666666666666666,
              "#ed7953"
             ],
             [
              0.7777777777777778,
              "#fb9f3a"
             ],
             [
              0.8888888888888888,
              "#fdca26"
             ],
             [
              1,
              "#f0f921"
             ]
            ],
            "type": "histogram2dcontour"
           }
          ],
          "mesh3d": [
           {
            "colorbar": {
             "outlinewidth": 0,
             "ticks": ""
            },
            "type": "mesh3d"
           }
          ],
          "parcoords": [
           {
            "line": {
             "colorbar": {
              "outlinewidth": 0,
              "ticks": ""
             }
            },
            "type": "parcoords"
           }
          ],
          "pie": [
           {
            "automargin": true,
            "type": "pie"
           }
          ],
          "scatter": [
           {
            "marker": {
             "colorbar": {
              "outlinewidth": 0,
              "ticks": ""
             }
            },
            "type": "scatter"
           }
          ],
          "scatter3d": [
           {
            "line": {
             "colorbar": {
              "outlinewidth": 0,
              "ticks": ""
             }
            },
            "marker": {
             "colorbar": {
              "outlinewidth": 0,
              "ticks": ""
             }
            },
            "type": "scatter3d"
           }
          ],
          "scattercarpet": [
           {
            "marker": {
             "colorbar": {
              "outlinewidth": 0,
              "ticks": ""
             }
            },
            "type": "scattercarpet"
           }
          ],
          "scattergeo": [
           {
            "marker": {
             "colorbar": {
              "outlinewidth": 0,
              "ticks": ""
             }
            },
            "type": "scattergeo"
           }
          ],
          "scattergl": [
           {
            "marker": {
             "colorbar": {
              "outlinewidth": 0,
              "ticks": ""
             }
            },
            "type": "scattergl"
           }
          ],
          "scattermapbox": [
           {
            "marker": {
             "colorbar": {
              "outlinewidth": 0,
              "ticks": ""
             }
            },
            "type": "scattermapbox"
           }
          ],
          "scatterpolar": [
           {
            "marker": {
             "colorbar": {
              "outlinewidth": 0,
              "ticks": ""
             }
            },
            "type": "scatterpolar"
           }
          ],
          "scatterpolargl": [
           {
            "marker": {
             "colorbar": {
              "outlinewidth": 0,
              "ticks": ""
             }
            },
            "type": "scatterpolargl"
           }
          ],
          "scatterternary": [
           {
            "marker": {
             "colorbar": {
              "outlinewidth": 0,
              "ticks": ""
             }
            },
            "type": "scatterternary"
           }
          ],
          "surface": [
           {
            "colorbar": {
             "outlinewidth": 0,
             "ticks": ""
            },
            "colorscale": [
             [
              0,
              "#0d0887"
             ],
             [
              0.1111111111111111,
              "#46039f"
             ],
             [
              0.2222222222222222,
              "#7201a8"
             ],
             [
              0.3333333333333333,
              "#9c179e"
             ],
             [
              0.4444444444444444,
              "#bd3786"
             ],
             [
              0.5555555555555556,
              "#d8576b"
             ],
             [
              0.6666666666666666,
              "#ed7953"
             ],
             [
              0.7777777777777778,
              "#fb9f3a"
             ],
             [
              0.8888888888888888,
              "#fdca26"
             ],
             [
              1,
              "#f0f921"
             ]
            ],
            "type": "surface"
           }
          ],
          "table": [
           {
            "cells": {
             "fill": {
              "color": "#EBF0F8"
             },
             "line": {
              "color": "white"
             }
            },
            "header": {
             "fill": {
              "color": "#C8D4E3"
             },
             "line": {
              "color": "white"
             }
            },
            "type": "table"
           }
          ]
         },
         "layout": {
          "annotationdefaults": {
           "arrowcolor": "#2a3f5f",
           "arrowhead": 0,
           "arrowwidth": 1
          },
          "autotypenumbers": "strict",
          "coloraxis": {
           "colorbar": {
            "outlinewidth": 0,
            "ticks": ""
           }
          },
          "colorscale": {
           "diverging": [
            [
             0,
             "#8e0152"
            ],
            [
             0.1,
             "#c51b7d"
            ],
            [
             0.2,
             "#de77ae"
            ],
            [
             0.3,
             "#f1b6da"
            ],
            [
             0.4,
             "#fde0ef"
            ],
            [
             0.5,
             "#f7f7f7"
            ],
            [
             0.6,
             "#e6f5d0"
            ],
            [
             0.7,
             "#b8e186"
            ],
            [
             0.8,
             "#7fbc41"
            ],
            [
             0.9,
             "#4d9221"
            ],
            [
             1,
             "#276419"
            ]
           ],
           "sequential": [
            [
             0,
             "#0d0887"
            ],
            [
             0.1111111111111111,
             "#46039f"
            ],
            [
             0.2222222222222222,
             "#7201a8"
            ],
            [
             0.3333333333333333,
             "#9c179e"
            ],
            [
             0.4444444444444444,
             "#bd3786"
            ],
            [
             0.5555555555555556,
             "#d8576b"
            ],
            [
             0.6666666666666666,
             "#ed7953"
            ],
            [
             0.7777777777777778,
             "#fb9f3a"
            ],
            [
             0.8888888888888888,
             "#fdca26"
            ],
            [
             1,
             "#f0f921"
            ]
           ],
           "sequentialminus": [
            [
             0,
             "#0d0887"
            ],
            [
             0.1111111111111111,
             "#46039f"
            ],
            [
             0.2222222222222222,
             "#7201a8"
            ],
            [
             0.3333333333333333,
             "#9c179e"
            ],
            [
             0.4444444444444444,
             "#bd3786"
            ],
            [
             0.5555555555555556,
             "#d8576b"
            ],
            [
             0.6666666666666666,
             "#ed7953"
            ],
            [
             0.7777777777777778,
             "#fb9f3a"
            ],
            [
             0.8888888888888888,
             "#fdca26"
            ],
            [
             1,
             "#f0f921"
            ]
           ]
          },
          "colorway": [
           "#636efa",
           "#EF553B",
           "#00cc96",
           "#ab63fa",
           "#FFA15A",
           "#19d3f3",
           "#FF6692",
           "#B6E880",
           "#FF97FF",
           "#FECB52"
          ],
          "font": {
           "color": "#2a3f5f"
          },
          "geo": {
           "bgcolor": "white",
           "lakecolor": "white",
           "landcolor": "#E5ECF6",
           "showlakes": true,
           "showland": true,
           "subunitcolor": "white"
          },
          "hoverlabel": {
           "align": "left"
          },
          "hovermode": "closest",
          "mapbox": {
           "style": "light"
          },
          "paper_bgcolor": "white",
          "plot_bgcolor": "#E5ECF6",
          "polar": {
           "angularaxis": {
            "gridcolor": "white",
            "linecolor": "white",
            "ticks": ""
           },
           "bgcolor": "#E5ECF6",
           "radialaxis": {
            "gridcolor": "white",
            "linecolor": "white",
            "ticks": ""
           }
          },
          "scene": {
           "xaxis": {
            "backgroundcolor": "#E5ECF6",
            "gridcolor": "white",
            "gridwidth": 2,
            "linecolor": "white",
            "showbackground": true,
            "ticks": "",
            "zerolinecolor": "white"
           },
           "yaxis": {
            "backgroundcolor": "#E5ECF6",
            "gridcolor": "white",
            "gridwidth": 2,
            "linecolor": "white",
            "showbackground": true,
            "ticks": "",
            "zerolinecolor": "white"
           },
           "zaxis": {
            "backgroundcolor": "#E5ECF6",
            "gridcolor": "white",
            "gridwidth": 2,
            "linecolor": "white",
            "showbackground": true,
            "ticks": "",
            "zerolinecolor": "white"
           }
          },
          "shapedefaults": {
           "line": {
            "color": "#2a3f5f"
           }
          },
          "ternary": {
           "aaxis": {
            "gridcolor": "white",
            "linecolor": "white",
            "ticks": ""
           },
           "baxis": {
            "gridcolor": "white",
            "linecolor": "white",
            "ticks": ""
           },
           "bgcolor": "#E5ECF6",
           "caxis": {
            "gridcolor": "white",
            "linecolor": "white",
            "ticks": ""
           }
          },
          "title": {
           "x": 0.05
          },
          "xaxis": {
           "automargin": true,
           "gridcolor": "white",
           "linecolor": "white",
           "ticks": "",
           "title": {
            "standoff": 15
           },
           "zerolinecolor": "white",
           "zerolinewidth": 2
          },
          "yaxis": {
           "automargin": true,
           "gridcolor": "white",
           "linecolor": "white",
           "ticks": "",
           "title": {
            "standoff": 15
           },
           "zerolinecolor": "white",
           "zerolinewidth": 2
          }
         }
        },
        "title": {
         "text": "Popularity of the bought car models:"
        }
       }
      },
      "image/png": "[encoded data removed]",
      "text/html": [
       "<div>                            <div id=\"bc4205e5-388e-4e83-8fa5-1f68c1e18868\" class=\"plotly-graph-div\" style=\"height:525px; width:100%;\"></div>            <script type=\"text/javascript\">                require([\"plotly\"], function(Plotly) {                    window.PLOTLYENV=window.PLOTLYENV || {};                                    if (document.getElementById(\"bc4205e5-388e-4e83-8fa5-1f68c1e18868\")) {                    Plotly.newPlot(                        \"bc4205e5-388e-4e83-8fa5-1f68c1e18868\",                        [{\"branchvalues\":\"total\",\"domain\":{\"x\":[0.0,1.0],\"y\":[0.0,1.0]},\"hovertemplate\":\"labels=%{label}<br>count=%{value}<br>parent=%{parent}<br>id=%{id}<extra></extra>\",\"ids\":[\" 1 Series\",\" 2 Series\",\" 3 Series\",\" 4 Series\",\" 5 Series\",\" 6 Series\",\" 7 Series\",\" 8 Series\",\" M2\",\" M3\",\" M4\",\" M5\",\" M6\",\" X1\",\" X2\",\" X3\",\" X4\",\" X5\",\" X6\",\" X7\",\" Z3\",\" Z4\",\" i3\",\" i8\"],\"labels\":[\" 1 Series\",\" 2 Series\",\" 3 Series\",\" 4 Series\",\" 5 Series\",\" 6 Series\",\" 7 Series\",\" 8 Series\",\" M2\",\" M3\",\" M4\",\" M5\",\" M6\",\" X1\",\" X2\",\" X3\",\" X4\",\" X5\",\" X6\",\" X7\",\" Z3\",\" Z4\",\" i3\",\" i8\"],\"name\":\"\",\"parents\":[\"\",\"\",\"\",\"\",\"\",\"\",\"\",\"\",\"\",\"\",\"\",\"\",\"\",\"\",\"\",\"\",\"\",\"\",\"\",\"\",\"\",\"\",\"\",\"\"],\"values\":[1969,1229,2443,995,1056,108,106,39,21,27,125,29,8,804,288,551,179,468,106,55,7,108,43,17],\"type\":\"treemap\"}],                        {\"template\":{\"data\":{\"bar\":[{\"error_x\":{\"color\":\"#2a3f5f\"},\"error_y\":{\"color\":\"#2a3f5f\"},\"marker\":{\"line\":{\"color\":\"#E5ECF6\",\"width\":0.5},\"pattern\":{\"fillmode\":\"overlay\",\"size\":10,\"solidity\":0.2}},\"type\":\"bar\"}],\"barpolar\":[{\"marker\":{\"line\":{\"color\":\"#E5ECF6\",\"width\":0.5},\"pattern\":{\"fillmode\":\"overlay\",\"size\":10,\"solidity\":0.2}},\"type\":\"barpolar\"}],\"carpet\":[{\"aaxis\":{\"endlinecolor\":\"#2a3f5f\",\"gridcolor\":\"white\",\"linecolor\":\"white\",\"minorgridcolor\":\"white\",\"startlinecolor\":\"#2a3f5f\"},\"baxis\":{\"endlinecolor\":\"#2a3f5f\",\"gridcolor\":\"white\",\"linecolor\":\"white\",\"minorgridcolor\":\"white\",\"startlinecolor\":\"#2a3f5f\"},\"type\":\"carpet\"}],\"choropleth\":[{\"colorbar\":{\"outlinewidth\":0,\"ticks\":\"\"},\"type\":\"choropleth\"}],\"contour\":[{\"colorbar\":{\"outlinewidth\":0,\"ticks\":\"\"},\"colorscale\":[[0.0,\"#0d0887\"],[0.1111111111111111,\"#46039f\"],[0.2222222222222222,\"#7201a8\"],[0.3333333333333333,\"#9c179e\"],[0.4444444444444444,\"#bd3786\"],[0.5555555555555556,\"#d8576b\"],[0.6666666666666666,\"#ed7953\"],[0.7777777777777778,\"#fb9f3a\"],[0.8888888888888888,\"#fdca26\"],[1.0,\"#f0f921\"]],\"type\":\"contour\"}],\"contourcarpet\":[{\"colorbar\":{\"outlinewidth\":0,\"ticks\":\"\"},\"type\":\"contourcarpet\"}],\"heatmap\":[{\"colorbar\":{\"outlinewidth\":0,\"ticks\":\"\"},\"colorscale\":[[0.0,\"#0d0887\"],[0.1111111111111111,\"#46039f\"],[0.2222222222222222,\"#7201a8\"],[0.3333333333333333,\"#9c179e\"],[0.4444444444444444,\"#bd3786\"],[0.5555555555555556,\"#d8576b\"],[0.6666666666666666,\"#ed7953\"],[0.7777777777777778,\"#fb9f3a\"],[0.8888888888888888,\"#fdca26\"],[1.0,\"#f0f921\"]],\"type\":\"heatmap\"}],\"heatmapgl\":[{\"colorbar\":{\"outlinewidth\":0,\"ticks\":\"\"},\"colorscale\":[[0.0,\"#0d0887\"],[0.1111111111111111,\"#46039f\"],[0.2222222222222222,\"#7201a8\"],[0.3333333333333333,\"#9c179e\"],[0.4444444444444444,\"#bd3786\"],[0.5555555555555556,\"#d8576b\"],[0.6666666666666666,\"#ed7953\"],[0.7777777777777778,\"#fb9f3a\"],[0.8888888888888888,\"#fdca26\"],[1.0,\"#f0f921\"]],\"type\":\"heatmapgl\"}],\"histogram\":[{\"marker\":{\"pattern\":{\"fillmode\":\"overlay\",\"size\":10,\"solidity\":0.2}},\"type\":\"histogram\"}],\"histogram2d\":[{\"colorbar\":{\"outlinewidth\":0,\"ticks\":\"\"},\"colorscale\":[[0.0,\"#0d0887\"],[0.1111111111111111,\"#46039f\"],[0.2222222222222222,\"#7201a8\"],[0.3333333333333333,\"#9c179e\"],[0.4444444444444444,\"#bd3786\"],[0.5555555555555556,\"#d8576b\"],[0.6666666666666666,\"#ed7953\"],[0.7777777777777778,\"#fb9f3a\"],[0.8888888888888888,\"#fdca26\"],[1.0,\"#f0f921\"]],\"type\":\"histogram2d\"}],\"histogram2dcontour\":[{\"colorbar\":{\"outlinewidth\":0,\"ticks\":\"\"},\"colorscale\":[[0.0,\"#0d0887\"],[0.1111111111111111,\"#46039f\"],[0.2222222222222222,\"#7201a8\"],[0.3333333333333333,\"#9c179e\"],[0.4444444444444444,\"#bd3786\"],[0.5555555555555556,\"#d8576b\"],[0.6666666666666666,\"#ed7953\"],[0.7777777777777778,\"#fb9f3a\"],[0.8888888888888888,\"#fdca26\"],[1.0,\"#f0f921\"]],\"type\":\"histogram2dcontour\"}],\"mesh3d\":[{\"colorbar\":{\"outlinewidth\":0,\"ticks\":\"\"},\"type\":\"mesh3d\"}],\"parcoords\":[{\"line\":{\"colorbar\":{\"outlinewidth\":0,\"ticks\":\"\"}},\"type\":\"parcoords\"}],\"pie\":[{\"automargin\":true,\"type\":\"pie\"}],\"scatter\":[{\"marker\":{\"colorbar\":{\"outlinewidth\":0,\"ticks\":\"\"}},\"type\":\"scatter\"}],\"scatter3d\":[{\"line\":{\"colorbar\":{\"outlinewidth\":0,\"ticks\":\"\"}},\"marker\":{\"colorbar\":{\"outlinewidth\":0,\"ticks\":\"\"}},\"type\":\"scatter3d\"}],\"scattercarpet\":[{\"marker\":{\"colorbar\":{\"outlinewidth\":0,\"ticks\":\"\"}},\"type\":\"scattercarpet\"}],\"scattergeo\":[{\"marker\":{\"colorbar\":{\"outlinewidth\":0,\"ticks\":\"\"}},\"type\":\"scattergeo\"}],\"scattergl\":[{\"marker\":{\"colorbar\":{\"outlinewidth\":0,\"ticks\":\"\"}},\"type\":\"scattergl\"}],\"scattermapbox\":[{\"marker\":{\"colorbar\":{\"outlinewidth\":0,\"ticks\":\"\"}},\"type\":\"scattermapbox\"}],\"scatterpolar\":[{\"marker\":{\"colorbar\":{\"outlinewidth\":0,\"ticks\":\"\"}},\"type\":\"scatterpolar\"}],\"scatterpolargl\":[{\"marker\":{\"colorbar\":{\"outlinewidth\":0,\"ticks\":\"\"}},\"type\":\"scatterpolargl\"}],\"scatterternary\":[{\"marker\":{\"colorbar\":{\"outlinewidth\":0,\"ticks\":\"\"}},\"type\":\"scatterternary\"}],\"surface\":[{\"colorbar\":{\"outlinewidth\":0,\"ticks\":\"\"},\"colorscale\":[[0.0,\"#0d0887\"],[0.1111111111111111,\"#46039f\"],[0.2222222222222222,\"#7201a8\"],[0.3333333333333333,\"#9c179e\"],[0.4444444444444444,\"#bd3786\"],[0.5555555555555556,\"#d8576b\"],[0.6666666666666666,\"#ed7953\"],[0.7777777777777778,\"#fb9f3a\"],[0.8888888888888888,\"#fdca26\"],[1.0,\"#f0f921\"]],\"type\":\"surface\"}],\"table\":[{\"cells\":{\"fill\":{\"color\":\"#EBF0F8\"},\"line\":{\"color\":\"white\"}},\"header\":{\"fill\":{\"color\":\"#C8D4E3\"},\"line\":{\"color\":\"white\"}},\"type\":\"table\"}]},\"layout\":{\"annotationdefaults\":{\"arrowcolor\":\"#2a3f5f\",\"arrowhead\":0,\"arrowwidth\":1},\"autotypenumbers\":\"strict\",\"coloraxis\":{\"colorbar\":{\"outlinewidth\":0,\"ticks\":\"\"}},\"colorscale\":{\"diverging\":[[0,\"#8e0152\"],[0.1,\"#c51b7d\"],[0.2,\"#de77ae\"],[0.3,\"#f1b6da\"],[0.4,\"#fde0ef\"],[0.5,\"#f7f7f7\"],[0.6,\"#e6f5d0\"],[0.7,\"#b8e186\"],[0.8,\"#7fbc41\"],[0.9,\"#4d9221\"],[1,\"#276419\"]],\"sequential\":[[0.0,\"#0d0887\"],[0.1111111111111111,\"#46039f\"],[0.2222222222222222,\"#7201a8\"],[0.3333333333333333,\"#9c179e\"],[0.4444444444444444,\"#bd3786\"],[0.5555555555555556,\"#d8576b\"],[0.6666666666666666,\"#ed7953\"],[0.7777777777777778,\"#fb9f3a\"],[0.8888888888888888,\"#fdca26\"],[1.0,\"#f0f921\"]],\"sequentialminus\":[[0.0,\"#0d0887\"],[0.1111111111111111,\"#46039f\"],[0.2222222222222222,\"#7201a8\"],[0.3333333333333333,\"#9c179e\"],[0.4444444444444444,\"#bd3786\"],[0.5555555555555556,\"#d8576b\"],[0.6666666666666666,\"#ed7953\"],[0.7777777777777778,\"#fb9f3a\"],[0.8888888888888888,\"#fdca26\"],[1.0,\"#f0f921\"]]},\"colorway\":[\"#636efa\",\"#EF553B\",\"#00cc96\",\"#ab63fa\",\"#FFA15A\",\"#19d3f3\",\"#FF6692\",\"#B6E880\",\"#FF97FF\",\"#FECB52\"],\"font\":{\"color\":\"#2a3f5f\"},\"geo\":{\"bgcolor\":\"white\",\"lakecolor\":\"white\",\"landcolor\":\"#E5ECF6\",\"showlakes\":true,\"showland\":true,\"subunitcolor\":\"white\"},\"hoverlabel\":{\"align\":\"left\"},\"hovermode\":\"closest\",\"mapbox\":{\"style\":\"light\"},\"paper_bgcolor\":\"white\",\"plot_bgcolor\":\"#E5ECF6\",\"polar\":{\"angularaxis\":{\"gridcolor\":\"white\",\"linecolor\":\"white\",\"ticks\":\"\"},\"bgcolor\":\"#E5ECF6\",\"radialaxis\":{\"gridcolor\":\"white\",\"linecolor\":\"white\",\"ticks\":\"\"}},\"scene\":{\"xaxis\":{\"backgroundcolor\":\"#E5ECF6\",\"gridcolor\":\"white\",\"gridwidth\":2,\"linecolor\":\"white\",\"showbackground\":true,\"ticks\":\"\",\"zerolinecolor\":\"white\"},\"yaxis\":{\"backgroundcolor\":\"#E5ECF6\",\"gridcolor\":\"white\",\"gridwidth\":2,\"linecolor\":\"white\",\"showbackground\":true,\"ticks\":\"\",\"zerolinecolor\":\"white\"},\"zaxis\":{\"backgroundcolor\":\"#E5ECF6\",\"gridcolor\":\"white\",\"gridwidth\":2,\"linecolor\":\"white\",\"showbackground\":true,\"ticks\":\"\",\"zerolinecolor\":\"white\"}},\"shapedefaults\":{\"line\":{\"color\":\"#2a3f5f\"}},\"ternary\":{\"aaxis\":{\"gridcolor\":\"white\",\"linecolor\":\"white\",\"ticks\":\"\"},\"baxis\":{\"gridcolor\":\"white\",\"linecolor\":\"white\",\"ticks\":\"\"},\"bgcolor\":\"#E5ECF6\",\"caxis\":{\"gridcolor\":\"white\",\"linecolor\":\"white\",\"ticks\":\"\"}},\"title\":{\"x\":0.05},\"xaxis\":{\"automargin\":true,\"gridcolor\":\"white\",\"linecolor\":\"white\",\"ticks\":\"\",\"title\":{\"standoff\":15},\"zerolinecolor\":\"white\",\"zerolinewidth\":2},\"yaxis\":{\"automargin\":true,\"gridcolor\":\"white\",\"linecolor\":\"white\",\"ticks\":\"\",\"title\":{\"standoff\":15},\"zerolinecolor\":\"white\",\"zerolinewidth\":2}}},\"legend\":{\"tracegroupgap\":0},\"title\":{\"text\":\"Popularity of the bought car models:\"}},                        {\"responsive\": true}                    ).then(function(){\n",
       "                            \n",
       "var gd = document.getElementById('bc4205e5-388e-4e83-8fa5-1f68c1e18868');\n",
       "var x = new MutationObserver(function (mutations, observer) {{\n",
       "        var display = window.getComputedStyle(gd).display;\n",
       "        if (!display || display === 'none') {{\n",
       "            console.log([gd, 'removed!']);\n",
       "            Plotly.purge(gd);\n",
       "            observer.disconnect();\n",
       "        }}\n",
       "}});\n",
       "\n",
       "// Listen for the removal of the full notebook cells\n",
       "var notebookContainer = gd.closest('#notebook-container');\n",
       "if (notebookContainer) {{\n",
       "    x.observe(notebookContainer, {childList: true});\n",
       "}}\n",
       "\n",
       "// Listen for the clearing of the current output cell\n",
       "var outputEl = gd.closest('.output');\n",
       "if (outputEl) {{\n",
       "    x.observe(outputEl, {childList: true});\n",
       "}}\n",
       "\n",
       "                        })                };                });            </script>        </div>"
      ]
     },
     "metadata": {},
     "output_type": "display_data"
    }
   ],
   "source": [
    "model_count=data\n",
    "ax2= px.treemap(model_count,path=[\"model\"],title=\"Popularity of the bought car models:\")\n",
    "ax2.show()"
   ]
  },
  {
   "cell_type": "code",
   "execution_count": 65,
   "id": "b5a637ab-27cb-4bde-8889-628f909c096b",
   "metadata": {},
   "outputs": [
    {
     "data": {
      "application/vnd.plotly.v1+json": {
       "config": {
        "plotlyServerURL": "https://plot.ly"
       },
       "data": [
        {
         "alignmentgroup": "True",
         "legendgroup": "",
         "marker": {
          "color": "blue",
          "line": {
           "width": 0
          },
          "pattern": {
           "shape": ""
          }
         },
         "name": "",
         "offsetgroup": "",
         "orientation": "v",
         "showlegend": false,
         "text": [
          214000,
          190000,
          178987,
          167000,
          141300,
          134000,
          133670,
          130000,
          130000,
          126054,
          115000,
          114000,
          96000,
          95408,
          89000,
          79830,
          74282,
          63660,
          55241,
          48800,
          34697,
          19548,
          17561,
          11111
         ],
         "textposition": "auto",
         "type": "bar",
         "x": [
          " X5",
          " 3 Series",
          " 5 Series",
          " 1 Series",
          " 4 Series",
          " 7 Series",
          " 2 Series",
          " X3",
          " X1",
          " 6 Series",
          " M3",
          " Z4",
          " X6",
          " X4",
          " M6",
          " i3",
          " Z3",
          " M4",
          " M5",
          " i8",
          " X2",
          " M2",
          " X7",
          " 8 Series"
         ],
         "xaxis": "x",
         "y": [
          214000,
          190000,
          178987,
          167000,
          141300,
          134000,
          133670,
          130000,
          130000,
          126054,
          115000,
          114000,
          96000,
          95408,
          89000,
          79830,
          74282,
          63660,
          55241,
          48800,
          34697,
          19548,
          17561,
          11111
         ],
         "yaxis": "y"
        }
       ],
       "layout": {
        "autosize": true,
        "barmode": "relative",
        "font": {
         "color": "#8a8d93"
        },
        "hoverlabel": {
         "bgcolor": "black",
         "font": {
          "family": "Lato, sans-serif",
          "size": 13
         }
        },
        "hovermode": "y unified",
        "legend": {
         "orientation": "h",
         "tracegroupgap": 0,
         "x": 0.5,
         "xanchor": "right",
         "y": 1,
         "yanchor": "bottom"
        },
        "margin": {
         "b": 0,
         "l": 70,
         "r": 40,
         "t": 80
        },
        "paper_bgcolor": "#333",
        "plot_bgcolor": "#333",
        "template": {
         "data": {
          "bar": [
           {
            "error_x": {
             "color": "#2a3f5f"
            },
            "error_y": {
             "color": "#2a3f5f"
            },
            "marker": {
             "line": {
              "color": "#E5ECF6",
              "width": 0.5
             },
             "pattern": {
              "fillmode": "overlay",
              "size": 10,
              "solidity": 0.2
             }
            },
            "type": "bar"
           }
          ],
          "barpolar": [
           {
            "marker": {
             "line": {
              "color": "#E5ECF6",
              "width": 0.5
             },
             "pattern": {
              "fillmode": "overlay",
              "size": 10,
              "solidity": 0.2
             }
            },
            "type": "barpolar"
           }
          ],
          "carpet": [
           {
            "aaxis": {
             "endlinecolor": "#2a3f5f",
             "gridcolor": "white",
             "linecolor": "white",
             "minorgridcolor": "white",
             "startlinecolor": "#2a3f5f"
            },
            "baxis": {
             "endlinecolor": "#2a3f5f",
             "gridcolor": "white",
             "linecolor": "white",
             "minorgridcolor": "white",
             "startlinecolor": "#2a3f5f"
            },
            "type": "carpet"
           }
          ],
          "choropleth": [
           {
            "colorbar": {
             "outlinewidth": 0,
             "ticks": ""
            },
            "type": "choropleth"
           }
          ],
          "contour": [
           {
            "colorbar": {
             "outlinewidth": 0,
             "ticks": ""
            },
            "colorscale": [
             [
              0,
              "#0d0887"
             ],
             [
              0.1111111111111111,
              "#46039f"
             ],
             [
              0.2222222222222222,
              "#7201a8"
             ],
             [
              0.3333333333333333,
              "#9c179e"
             ],
             [
              0.4444444444444444,
              "#bd3786"
             ],
             [
              0.5555555555555556,
              "#d8576b"
             ],
             [
              0.6666666666666666,
              "#ed7953"
             ],
             [
              0.7777777777777778,
              "#fb9f3a"
             ],
             [
              0.8888888888888888,
              "#fdca26"
             ],
             [
              1,
              "#f0f921"
             ]
            ],
            "type": "contour"
           }
          ],
          "contourcarpet": [
           {
            "colorbar": {
             "outlinewidth": 0,
             "ticks": ""
            },
            "type": "contourcarpet"
           }
          ],
          "heatmap": [
           {
            "colorbar": {
             "outlinewidth": 0,
             "ticks": ""
            },
            "colorscale": [
             [
              0,
              "#0d0887"
             ],
             [
              0.1111111111111111,
              "#46039f"
             ],
             [
              0.2222222222222222,
              "#7201a8"
             ],
             [
              0.3333333333333333,
              "#9c179e"
             ],
             [
              0.4444444444444444,
              "#bd3786"
             ],
             [
              0.5555555555555556,
              "#d8576b"
             ],
             [
              0.6666666666666666,
              "#ed7953"
             ],
             [
              0.7777777777777778,
              "#fb9f3a"
             ],
             [
              0.8888888888888888,
              "#fdca26"
             ],
             [
              1,
              "#f0f921"
             ]
            ],
            "type": "heatmap"
           }
          ],
          "heatmapgl": [
           {
            "colorbar": {
             "outlinewidth": 0,
             "ticks": ""
            },
            "colorscale": [
             [
              0,
              "#0d0887"
             ],
             [
              0.1111111111111111,
              "#46039f"
             ],
             [
              0.2222222222222222,
              "#7201a8"
             ],
             [
              0.3333333333333333,
              "#9c179e"
             ],
             [
              0.4444444444444444,
              "#bd3786"
             ],
             [
              0.5555555555555556,
              "#d8576b"
             ],
             [
              0.6666666666666666,
              "#ed7953"
             ],
             [
              0.7777777777777778,
              "#fb9f3a"
             ],
             [
              0.8888888888888888,
              "#fdca26"
             ],
             [
              1,
              "#f0f921"
             ]
            ],
            "type": "heatmapgl"
           }
          ],
          "histogram": [
           {
            "marker": {
             "pattern": {
              "fillmode": "overlay",
              "size": 10,
              "solidity": 0.2
             }
            },
            "type": "histogram"
           }
          ],
          "histogram2d": [
           {
            "colorbar": {
             "outlinewidth": 0,
             "ticks": ""
            },
            "colorscale": [
             [
              0,
              "#0d0887"
             ],
             [
              0.1111111111111111,
              "#46039f"
             ],
             [
              0.2222222222222222,
              "#7201a8"
             ],
             [
              0.3333333333333333,
              "#9c179e"
             ],
             [
              0.4444444444444444,
              "#bd3786"
             ],
             [
              0.5555555555555556,
              "#d8576b"
             ],
             [
              0.6666666666666666,
              "#ed7953"
             ],
             [
              0.7777777777777778,
              "#fb9f3a"
             ],
             [
              0.8888888888888888,
              "#fdca26"
             ],
             [
              1,
              "#f0f921"
             ]
            ],
            "type": "histogram2d"
           }
          ],
          "histogram2dcontour": [
           {
            "colorbar": {
             "outlinewidth": 0,
             "ticks": ""
            },
            "colorscale": [
             [
              0,
              "#0d0887"
             ],
             [
              0.1111111111111111,
              "#46039f"
             ],
             [
              0.2222222222222222,
              "#7201a8"
             ],
             [
              0.3333333333333333,
              "#9c179e"
             ],
             [
              0.4444444444444444,
              "#bd3786"
             ],
             [
              0.5555555555555556,
              "#d8576b"
             ],
             [
              0.6666666666666666,
              "#ed7953"
             ],
             [
              0.7777777777777778,
              "#fb9f3a"
             ],
             [
              0.8888888888888888,
              "#fdca26"
             ],
             [
              1,
              "#f0f921"
             ]
            ],
            "type": "histogram2dcontour"
           }
          ],
          "mesh3d": [
           {
            "colorbar": {
             "outlinewidth": 0,
             "ticks": ""
            },
            "type": "mesh3d"
           }
          ],
          "parcoords": [
           {
            "line": {
             "colorbar": {
              "outlinewidth": 0,
              "ticks": ""
             }
            },
            "type": "parcoords"
           }
          ],
          "pie": [
           {
            "automargin": true,
            "type": "pie"
           }
          ],
          "scatter": [
           {
            "marker": {
             "colorbar": {
              "outlinewidth": 0,
              "ticks": ""
             }
            },
            "type": "scatter"
           }
          ],
          "scatter3d": [
           {
            "line": {
             "colorbar": {
              "outlinewidth": 0,
              "ticks": ""
             }
            },
            "marker": {
             "colorbar": {
              "outlinewidth": 0,
              "ticks": ""
             }
            },
            "type": "scatter3d"
           }
          ],
          "scattercarpet": [
           {
            "marker": {
             "colorbar": {
              "outlinewidth": 0,
              "ticks": ""
             }
            },
            "type": "scattercarpet"
           }
          ],
          "scattergeo": [
           {
            "marker": {
             "colorbar": {
              "outlinewidth": 0,
              "ticks": ""
             }
            },
            "type": "scattergeo"
           }
          ],
          "scattergl": [
           {
            "marker": {
             "colorbar": {
              "outlinewidth": 0,
              "ticks": ""
             }
            },
            "type": "scattergl"
           }
          ],
          "scattermapbox": [
           {
            "marker": {
             "colorbar": {
              "outlinewidth": 0,
              "ticks": ""
             }
            },
            "type": "scattermapbox"
           }
          ],
          "scatterpolar": [
           {
            "marker": {
             "colorbar": {
              "outlinewidth": 0,
              "ticks": ""
             }
            },
            "type": "scatterpolar"
           }
          ],
          "scatterpolargl": [
           {
            "marker": {
             "colorbar": {
              "outlinewidth": 0,
              "ticks": ""
             }
            },
            "type": "scatterpolargl"
           }
          ],
          "scatterternary": [
           {
            "marker": {
             "colorbar": {
              "outlinewidth": 0,
              "ticks": ""
             }
            },
            "type": "scatterternary"
           }
          ],
          "surface": [
           {
            "colorbar": {
             "outlinewidth": 0,
             "ticks": ""
            },
            "colorscale": [
             [
              0,
              "#0d0887"
             ],
             [
              0.1111111111111111,
              "#46039f"
             ],
             [
              0.2222222222222222,
              "#7201a8"
             ],
             [
              0.3333333333333333,
              "#9c179e"
             ],
             [
              0.4444444444444444,
              "#bd3786"
             ],
             [
              0.5555555555555556,
              "#d8576b"
             ],
             [
              0.6666666666666666,
              "#ed7953"
             ],
             [
              0.7777777777777778,
              "#fb9f3a"
             ],
             [
              0.8888888888888888,
              "#fdca26"
             ],
             [
              1,
              "#f0f921"
             ]
            ],
            "type": "surface"
           }
          ],
          "table": [
           {
            "cells": {
             "fill": {
              "color": "#EBF0F8"
             },
             "line": {
              "color": "white"
             }
            },
            "header": {
             "fill": {
              "color": "#C8D4E3"
             },
             "line": {
              "color": "white"
             }
            },
            "type": "table"
           }
          ]
         },
         "layout": {
          "annotationdefaults": {
           "arrowcolor": "#2a3f5f",
           "arrowhead": 0,
           "arrowwidth": 1
          },
          "autotypenumbers": "strict",
          "coloraxis": {
           "colorbar": {
            "outlinewidth": 0,
            "ticks": ""
           }
          },
          "colorscale": {
           "diverging": [
            [
             0,
             "#8e0152"
            ],
            [
             0.1,
             "#c51b7d"
            ],
            [
             0.2,
             "#de77ae"
            ],
            [
             0.3,
             "#f1b6da"
            ],
            [
             0.4,
             "#fde0ef"
            ],
            [
             0.5,
             "#f7f7f7"
            ],
            [
             0.6,
             "#e6f5d0"
            ],
            [
             0.7,
             "#b8e186"
            ],
            [
             0.8,
             "#7fbc41"
            ],
            [
             0.9,
             "#4d9221"
            ],
            [
             1,
             "#276419"
            ]
           ],
           "sequential": [
            [
             0,
             "#0d0887"
            ],
            [
             0.1111111111111111,
             "#46039f"
            ],
            [
             0.2222222222222222,
             "#7201a8"
            ],
            [
             0.3333333333333333,
             "#9c179e"
            ],
            [
             0.4444444444444444,
             "#bd3786"
            ],
            [
             0.5555555555555556,
             "#d8576b"
            ],
            [
             0.6666666666666666,
             "#ed7953"
            ],
            [
             0.7777777777777778,
             "#fb9f3a"
            ],
            [
             0.8888888888888888,
             "#fdca26"
            ],
            [
             1,
             "#f0f921"
            ]
           ],
           "sequentialminus": [
            [
             0,
             "#0d0887"
            ],
            [
             0.1111111111111111,
             "#46039f"
            ],
            [
             0.2222222222222222,
             "#7201a8"
            ],
            [
             0.3333333333333333,
             "#9c179e"
            ],
            [
             0.4444444444444444,
             "#bd3786"
            ],
            [
             0.5555555555555556,
             "#d8576b"
            ],
            [
             0.6666666666666666,
             "#ed7953"
            ],
            [
             0.7777777777777778,
             "#fb9f3a"
            ],
            [
             0.8888888888888888,
             "#fdca26"
            ],
            [
             1,
             "#f0f921"
            ]
           ]
          },
          "colorway": [
           "#636efa",
           "#EF553B",
           "#00cc96",
           "#ab63fa",
           "#FFA15A",
           "#19d3f3",
           "#FF6692",
           "#B6E880",
           "#FF97FF",
           "#FECB52"
          ],
          "font": {
           "color": "#2a3f5f"
          },
          "geo": {
           "bgcolor": "white",
           "lakecolor": "white",
           "landcolor": "#E5ECF6",
           "showlakes": true,
           "showland": true,
           "subunitcolor": "white"
          },
          "hoverlabel": {
           "align": "left"
          },
          "hovermode": "closest",
          "mapbox": {
           "style": "light"
          },
          "paper_bgcolor": "white",
          "plot_bgcolor": "#E5ECF6",
          "polar": {
           "angularaxis": {
            "gridcolor": "white",
            "linecolor": "white",
            "ticks": ""
           },
           "bgcolor": "#E5ECF6",
           "radialaxis": {
            "gridcolor": "white",
            "linecolor": "white",
            "ticks": ""
           }
          },
          "scene": {
           "xaxis": {
            "backgroundcolor": "#E5ECF6",
            "gridcolor": "white",
            "gridwidth": 2,
            "linecolor": "white",
            "showbackground": true,
            "ticks": "",
            "zerolinecolor": "white"
           },
           "yaxis": {
            "backgroundcolor": "#E5ECF6",
            "gridcolor": "white",
            "gridwidth": 2,
            "linecolor": "white",
            "showbackground": true,
            "ticks": "",
            "zerolinecolor": "white"
           },
           "zaxis": {
            "backgroundcolor": "#E5ECF6",
            "gridcolor": "white",
            "gridwidth": 2,
            "linecolor": "white",
            "showbackground": true,
            "ticks": "",
            "zerolinecolor": "white"
           }
          },
          "shapedefaults": {
           "line": {
            "color": "#2a3f5f"
           }
          },
          "ternary": {
           "aaxis": {
            "gridcolor": "white",
            "linecolor": "white",
            "ticks": ""
           },
           "baxis": {
            "gridcolor": "white",
            "linecolor": "white",
            "ticks": ""
           },
           "bgcolor": "#E5ECF6",
           "caxis": {
            "gridcolor": "white",
            "linecolor": "white",
            "ticks": ""
           }
          },
          "title": {
           "x": 0.05
          },
          "xaxis": {
           "automargin": true,
           "gridcolor": "white",
           "linecolor": "white",
           "ticks": "",
           "title": {
            "standoff": 15
           },
           "zerolinecolor": "white",
           "zerolinewidth": 2
          },
          "yaxis": {
           "automargin": true,
           "gridcolor": "white",
           "linecolor": "white",
           "ticks": "",
           "title": {
            "standoff": 15
           },
           "zerolinecolor": "white",
           "zerolinewidth": 2
          }
         }
        },
        "title": {
         "font": {
          "color": "#8a8d93",
          "family": "Lato, sans-serif",
          "size": 25
         },
         "text": "Which model has the higest Mileage"
        },
        "xaxis": {
         "anchor": "y",
         "autorange": true,
         "domain": [
          0,
          1
         ],
         "range": [
          -0.5,
          23.5
         ],
         "showgrid": false,
         "title": {
          "text": " "
         },
         "type": "category"
        },
        "yaxis": {
         "anchor": "x",
         "autorange": true,
         "categoryorder": "total ascending",
         "domain": [
          0,
          1
         ],
         "range": [
          0,
          225263.15789473685
         ],
         "showgrid": false,
         "showline": false,
         "ticksuffix": " ",
         "title": {
          "text": " "
         },
         "type": "linear"
        }
       }
      },
      "image/png": "[encoded data removed]",
      "text/html": [
       "<div>                            <div id=\"1d24501c-8e4c-4801-bea2-b066877c4a6d\" class=\"plotly-graph-div\" style=\"height:350px; width:100%;\"></div>            <script type=\"text/javascript\">                require([\"plotly\"], function(Plotly) {                    window.PLOTLYENV=window.PLOTLYENV || {};                                    if (document.getElementById(\"1d24501c-8e4c-4801-bea2-b066877c4a6d\")) {                    Plotly.newPlot(                        \"1d24501c-8e4c-4801-bea2-b066877c4a6d\",                        [{\"alignmentgroup\":\"True\",\"legendgroup\":\"\",\"marker\":{\"color\":\"blue\",\"pattern\":{\"shape\":\"\"},\"line\":{\"width\":0}},\"name\":\"\",\"offsetgroup\":\"\",\"orientation\":\"v\",\"showlegend\":false,\"text\":[214000.0,190000.0,178987.0,167000.0,141300.0,134000.0,133670.0,130000.0,130000.0,126054.0,115000.0,114000.0,96000.0,95408.0,89000.0,79830.0,74282.0,63660.0,55241.0,48800.0,34697.0,19548.0,17561.0,11111.0],\"textposition\":\"auto\",\"x\":[\" X5\",\" 3 Series\",\" 5 Series\",\" 1 Series\",\" 4 Series\",\" 7 Series\",\" 2 Series\",\" X3\",\" X1\",\" 6 Series\",\" M3\",\" Z4\",\" X6\",\" X4\",\" M6\",\" i3\",\" Z3\",\" M4\",\" M5\",\" i8\",\" X2\",\" M2\",\" X7\",\" 8 Series\"],\"xaxis\":\"x\",\"y\":[214000,190000,178987,167000,141300,134000,133670,130000,130000,126054,115000,114000,96000,95408,89000,79830,74282,63660,55241,48800,34697,19548,17561,11111],\"yaxis\":\"y\",\"type\":\"bar\"}],                        {\"template\":{\"data\":{\"bar\":[{\"error_x\":{\"color\":\"#2a3f5f\"},\"error_y\":{\"color\":\"#2a3f5f\"},\"marker\":{\"line\":{\"color\":\"#E5ECF6\",\"width\":0.5},\"pattern\":{\"fillmode\":\"overlay\",\"size\":10,\"solidity\":0.2}},\"type\":\"bar\"}],\"barpolar\":[{\"marker\":{\"line\":{\"color\":\"#E5ECF6\",\"width\":0.5},\"pattern\":{\"fillmode\":\"overlay\",\"size\":10,\"solidity\":0.2}},\"type\":\"barpolar\"}],\"carpet\":[{\"aaxis\":{\"endlinecolor\":\"#2a3f5f\",\"gridcolor\":\"white\",\"linecolor\":\"white\",\"minorgridcolor\":\"white\",\"startlinecolor\":\"#2a3f5f\"},\"baxis\":{\"endlinecolor\":\"#2a3f5f\",\"gridcolor\":\"white\",\"linecolor\":\"white\",\"minorgridcolor\":\"white\",\"startlinecolor\":\"#2a3f5f\"},\"type\":\"carpet\"}],\"choropleth\":[{\"colorbar\":{\"outlinewidth\":0,\"ticks\":\"\"},\"type\":\"choropleth\"}],\"contour\":[{\"colorbar\":{\"outlinewidth\":0,\"ticks\":\"\"},\"colorscale\":[[0.0,\"#0d0887\"],[0.1111111111111111,\"#46039f\"],[0.2222222222222222,\"#7201a8\"],[0.3333333333333333,\"#9c179e\"],[0.4444444444444444,\"#bd3786\"],[0.5555555555555556,\"#d8576b\"],[0.6666666666666666,\"#ed7953\"],[0.7777777777777778,\"#fb9f3a\"],[0.8888888888888888,\"#fdca26\"],[1.0,\"#f0f921\"]],\"type\":\"contour\"}],\"contourcarpet\":[{\"colorbar\":{\"outlinewidth\":0,\"ticks\":\"\"},\"type\":\"contourcarpet\"}],\"heatmap\":[{\"colorbar\":{\"outlinewidth\":0,\"ticks\":\"\"},\"colorscale\":[[0.0,\"#0d0887\"],[0.1111111111111111,\"#46039f\"],[0.2222222222222222,\"#7201a8\"],[0.3333333333333333,\"#9c179e\"],[0.4444444444444444,\"#bd3786\"],[0.5555555555555556,\"#d8576b\"],[0.6666666666666666,\"#ed7953\"],[0.7777777777777778,\"#fb9f3a\"],[0.8888888888888888,\"#fdca26\"],[1.0,\"#f0f921\"]],\"type\":\"heatmap\"}],\"heatmapgl\":[{\"colorbar\":{\"outlinewidth\":0,\"ticks\":\"\"},\"colorscale\":[[0.0,\"#0d0887\"],[0.1111111111111111,\"#46039f\"],[0.2222222222222222,\"#7201a8\"],[0.3333333333333333,\"#9c179e\"],[0.4444444444444444,\"#bd3786\"],[0.5555555555555556,\"#d8576b\"],[0.6666666666666666,\"#ed7953\"],[0.7777777777777778,\"#fb9f3a\"],[0.8888888888888888,\"#fdca26\"],[1.0,\"#f0f921\"]],\"type\":\"heatmapgl\"}],\"histogram\":[{\"marker\":{\"pattern\":{\"fillmode\":\"overlay\",\"size\":10,\"solidity\":0.2}},\"type\":\"histogram\"}],\"histogram2d\":[{\"colorbar\":{\"outlinewidth\":0,\"ticks\":\"\"},\"colorscale\":[[0.0,\"#0d0887\"],[0.1111111111111111,\"#46039f\"],[0.2222222222222222,\"#7201a8\"],[0.3333333333333333,\"#9c179e\"],[0.4444444444444444,\"#bd3786\"],[0.5555555555555556,\"#d8576b\"],[0.6666666666666666,\"#ed7953\"],[0.7777777777777778,\"#fb9f3a\"],[0.8888888888888888,\"#fdca26\"],[1.0,\"#f0f921\"]],\"type\":\"histogram2d\"}],\"histogram2dcontour\":[{\"colorbar\":{\"outlinewidth\":0,\"ticks\":\"\"},\"colorscale\":[[0.0,\"#0d0887\"],[0.1111111111111111,\"#46039f\"],[0.2222222222222222,\"#7201a8\"],[0.3333333333333333,\"#9c179e\"],[0.4444444444444444,\"#bd3786\"],[0.5555555555555556,\"#d8576b\"],[0.6666666666666666,\"#ed7953\"],[0.7777777777777778,\"#fb9f3a\"],[0.8888888888888888,\"#fdca26\"],[1.0,\"#f0f921\"]],\"type\":\"histogram2dcontour\"}],\"mesh3d\":[{\"colorbar\":{\"outlinewidth\":0,\"ticks\":\"\"},\"type\":\"mesh3d\"}],\"parcoords\":[{\"line\":{\"colorbar\":{\"outlinewidth\":0,\"ticks\":\"\"}},\"type\":\"parcoords\"}],\"pie\":[{\"automargin\":true,\"type\":\"pie\"}],\"scatter\":[{\"marker\":{\"colorbar\":{\"outlinewidth\":0,\"ticks\":\"\"}},\"type\":\"scatter\"}],\"scatter3d\":[{\"line\":{\"colorbar\":{\"outlinewidth\":0,\"ticks\":\"\"}},\"marker\":{\"colorbar\":{\"outlinewidth\":0,\"ticks\":\"\"}},\"type\":\"scatter3d\"}],\"scattercarpet\":[{\"marker\":{\"colorbar\":{\"outlinewidth\":0,\"ticks\":\"\"}},\"type\":\"scattercarpet\"}],\"scattergeo\":[{\"marker\":{\"colorbar\":{\"outlinewidth\":0,\"ticks\":\"\"}},\"type\":\"scattergeo\"}],\"scattergl\":[{\"marker\":{\"colorbar\":{\"outlinewidth\":0,\"ticks\":\"\"}},\"type\":\"scattergl\"}],\"scattermapbox\":[{\"marker\":{\"colorbar\":{\"outlinewidth\":0,\"ticks\":\"\"}},\"type\":\"scattermapbox\"}],\"scatterpolar\":[{\"marker\":{\"colorbar\":{\"outlinewidth\":0,\"ticks\":\"\"}},\"type\":\"scatterpolar\"}],\"scatterpolargl\":[{\"marker\":{\"colorbar\":{\"outlinewidth\":0,\"ticks\":\"\"}},\"type\":\"scatterpolargl\"}],\"scatterternary\":[{\"marker\":{\"colorbar\":{\"outlinewidth\":0,\"ticks\":\"\"}},\"type\":\"scatterternary\"}],\"surface\":[{\"colorbar\":{\"outlinewidth\":0,\"ticks\":\"\"},\"colorscale\":[[0.0,\"#0d0887\"],[0.1111111111111111,\"#46039f\"],[0.2222222222222222,\"#7201a8\"],[0.3333333333333333,\"#9c179e\"],[0.4444444444444444,\"#bd3786\"],[0.5555555555555556,\"#d8576b\"],[0.6666666666666666,\"#ed7953\"],[0.7777777777777778,\"#fb9f3a\"],[0.8888888888888888,\"#fdca26\"],[1.0,\"#f0f921\"]],\"type\":\"surface\"}],\"table\":[{\"cells\":{\"fill\":{\"color\":\"#EBF0F8\"},\"line\":{\"color\":\"white\"}},\"header\":{\"fill\":{\"color\":\"#C8D4E3\"},\"line\":{\"color\":\"white\"}},\"type\":\"table\"}]},\"layout\":{\"annotationdefaults\":{\"arrowcolor\":\"#2a3f5f\",\"arrowhead\":0,\"arrowwidth\":1},\"autotypenumbers\":\"strict\",\"coloraxis\":{\"colorbar\":{\"outlinewidth\":0,\"ticks\":\"\"}},\"colorscale\":{\"diverging\":[[0,\"#8e0152\"],[0.1,\"#c51b7d\"],[0.2,\"#de77ae\"],[0.3,\"#f1b6da\"],[0.4,\"#fde0ef\"],[0.5,\"#f7f7f7\"],[0.6,\"#e6f5d0\"],[0.7,\"#b8e186\"],[0.8,\"#7fbc41\"],[0.9,\"#4d9221\"],[1,\"#276419\"]],\"sequential\":[[0.0,\"#0d0887\"],[0.1111111111111111,\"#46039f\"],[0.2222222222222222,\"#7201a8\"],[0.3333333333333333,\"#9c179e\"],[0.4444444444444444,\"#bd3786\"],[0.5555555555555556,\"#d8576b\"],[0.6666666666666666,\"#ed7953\"],[0.7777777777777778,\"#fb9f3a\"],[0.8888888888888888,\"#fdca26\"],[1.0,\"#f0f921\"]],\"sequentialminus\":[[0.0,\"#0d0887\"],[0.1111111111111111,\"#46039f\"],[0.2222222222222222,\"#7201a8\"],[0.3333333333333333,\"#9c179e\"],[0.4444444444444444,\"#bd3786\"],[0.5555555555555556,\"#d8576b\"],[0.6666666666666666,\"#ed7953\"],[0.7777777777777778,\"#fb9f3a\"],[0.8888888888888888,\"#fdca26\"],[1.0,\"#f0f921\"]]},\"colorway\":[\"#636efa\",\"#EF553B\",\"#00cc96\",\"#ab63fa\",\"#FFA15A\",\"#19d3f3\",\"#FF6692\",\"#B6E880\",\"#FF97FF\",\"#FECB52\"],\"font\":{\"color\":\"#2a3f5f\"},\"geo\":{\"bgcolor\":\"white\",\"lakecolor\":\"white\",\"landcolor\":\"#E5ECF6\",\"showlakes\":true,\"showland\":true,\"subunitcolor\":\"white\"},\"hoverlabel\":{\"align\":\"left\"},\"hovermode\":\"closest\",\"mapbox\":{\"style\":\"light\"},\"paper_bgcolor\":\"white\",\"plot_bgcolor\":\"#E5ECF6\",\"polar\":{\"angularaxis\":{\"gridcolor\":\"white\",\"linecolor\":\"white\",\"ticks\":\"\"},\"bgcolor\":\"#E5ECF6\",\"radialaxis\":{\"gridcolor\":\"white\",\"linecolor\":\"white\",\"ticks\":\"\"}},\"scene\":{\"xaxis\":{\"backgroundcolor\":\"#E5ECF6\",\"gridcolor\":\"white\",\"gridwidth\":2,\"linecolor\":\"white\",\"showbackground\":true,\"ticks\":\"\",\"zerolinecolor\":\"white\"},\"yaxis\":{\"backgroundcolor\":\"#E5ECF6\",\"gridcolor\":\"white\",\"gridwidth\":2,\"linecolor\":\"white\",\"showbackground\":true,\"ticks\":\"\",\"zerolinecolor\":\"white\"},\"zaxis\":{\"backgroundcolor\":\"#E5ECF6\",\"gridcolor\":\"white\",\"gridwidth\":2,\"linecolor\":\"white\",\"showbackground\":true,\"ticks\":\"\",\"zerolinecolor\":\"white\"}},\"shapedefaults\":{\"line\":{\"color\":\"#2a3f5f\"}},\"ternary\":{\"aaxis\":{\"gridcolor\":\"white\",\"linecolor\":\"white\",\"ticks\":\"\"},\"baxis\":{\"gridcolor\":\"white\",\"linecolor\":\"white\",\"ticks\":\"\"},\"bgcolor\":\"#E5ECF6\",\"caxis\":{\"gridcolor\":\"white\",\"linecolor\":\"white\",\"ticks\":\"\"}},\"title\":{\"x\":0.05},\"xaxis\":{\"automargin\":true,\"gridcolor\":\"white\",\"linecolor\":\"white\",\"ticks\":\"\",\"title\":{\"standoff\":15},\"zerolinecolor\":\"white\",\"zerolinewidth\":2},\"yaxis\":{\"automargin\":true,\"gridcolor\":\"white\",\"linecolor\":\"white\",\"ticks\":\"\",\"title\":{\"standoff\":15},\"zerolinecolor\":\"white\",\"zerolinewidth\":2}}},\"xaxis\":{\"anchor\":\"y\",\"domain\":[0.0,1.0],\"title\":{\"text\":\" \"},\"showgrid\":false},\"yaxis\":{\"anchor\":\"x\",\"domain\":[0.0,1.0],\"title\":{\"text\":\" \"},\"showgrid\":false,\"categoryorder\":\"total ascending\",\"ticksuffix\":\" \",\"showline\":false},\"legend\":{\"tracegroupgap\":0,\"orientation\":\"h\",\"yanchor\":\"bottom\",\"y\":1,\"xanchor\":\"right\",\"x\":0.5},\"title\":{\"text\":\"Which model has the higest Mileage\",\"font\":{\"size\":25,\"color\":\"#8a8d93\",\"family\":\"Lato, sans-serif\"}},\"barmode\":\"relative\",\"margin\":{\"t\":80,\"b\":0,\"l\":70,\"r\":40},\"font\":{\"color\":\"#8a8d93\"},\"hoverlabel\":{\"font\":{\"size\":13,\"family\":\"Lato, sans-serif\"},\"bgcolor\":\"black\"},\"hovermode\":\"y unified\",\"height\":350,\"plot_bgcolor\":\"#333\",\"paper_bgcolor\":\"#333\"},                        {\"responsive\": true}                    ).then(function(){\n",
       "                            \n",
       "var gd = document.getElementById('1d24501c-8e4c-4801-bea2-b066877c4a6d');\n",
       "var x = new MutationObserver(function (mutations, observer) {{\n",
       "        var display = window.getComputedStyle(gd).display;\n",
       "        if (!display || display === 'none') {{\n",
       "            console.log([gd, 'removed!']);\n",
       "            Plotly.purge(gd);\n",
       "            observer.disconnect();\n",
       "        }}\n",
       "}});\n",
       "\n",
       "// Listen for the removal of the full notebook cells\n",
       "var notebookContainer = gd.closest('#notebook-container');\n",
       "if (notebookContainer) {{\n",
       "    x.observe(notebookContainer, {childList: true});\n",
       "}}\n",
       "\n",
       "// Listen for the clearing of the current output cell\n",
       "var outputEl = gd.closest('.output');\n",
       "if (outputEl) {{\n",
       "    x.observe(outputEl, {childList: true});\n",
       "}}\n",
       "\n",
       "                        })                };                });            </script>        </div>"
      ]
     },
     "metadata": {},
     "output_type": "display_data"
    }
   ],
   "source": [
    "mileage=data.groupby([\"model\"])[\"mileage\"].max().sort_values(ascending=False).reset_index()\n",
    "\n",
    "fig=px.bar(mileage,x=\"model\",y=\"mileage\",title=\"Which model has the higest Mileage\",text=\"mileage\",color_discrete_sequence=[\"blue\"])\n",
    "fig.update_xaxes(showgrid=False)\n",
    "\n",
    "fig.update_yaxes(showgrid=False, categoryorder='total ascending', ticksuffix=' ', showline=False)\n",
    "\n",
    "fig.update_traces(hovertemplate=None, marker=dict(line=dict(width=0)))\n",
    "\n",
    "fig.update_layout(margin=dict(t=80, b=0, l=70, r=40),hovermode=\"y unified\",\n",
    "                  xaxis_title=' ', yaxis_title=\" \", height=350,plot_bgcolor='#333', paper_bgcolor='#333',\n",
    "title_font=dict(size=25, color='#8a8d93', family=\"Lato, sans-serif\"),\n",
    " font=dict(color='#8a8d93'),\n",
    "                  legend=dict(orientation=\"h\", yanchor=\"bottom\", y=1, xanchor=\"right\", x=0.5),\n",
    "                  hoverlabel=dict(bgcolor=\"black\", font_size=13, font_family=\"Lato, sans-serif\"))\n",
    "                 \n",
    "                  \n",
    "\n",
    "fig.show()"
   ]
  },
  {
   "cell_type": "code",
   "execution_count": 68,
   "id": "1971842a-6e98-4be6-90a1-daba60d42029",
   "metadata": {},
   "outputs": [
    {
     "name": "stderr",
     "output_type": "stream",
     "text": [
      "C:\\ProgramData\\Anaconda3\\lib\\site-packages\\seaborn\\_decorators.py:36: FutureWarning:\n",
      "\n",
      "Pass the following variables as keyword args: x, y. From version 0.12, the only valid positional argument will be `data`, and passing other arguments without an explicit keyword will result in an error or misinterpretation.\n",
      "\n"
     ]
    },
    {
     "data": {
      "text/plain": [
       "<AxesSubplot:xlabel='mileage', ylabel='price'>"
      ]
     },
     "execution_count": 68,
     "metadata": {},
     "output_type": "execute_result"
    },
    {
     "data": {
      "image/png": "[encoded data removed]",
      "text/plain": [
       "<Figure size 1080x360 with 1 Axes>"
      ]
     },
     "metadata": {},
     "output_type": "display_data"
    }
   ],
   "source": [
    "plt.figure(figsize=(15,5),facecolor='w') \n",
    "sns.scatterplot(data[\"mileage\"], data[\"price\"], hue = data[\"fuelType\"])"
   ]
  },
  {
   "cell_type": "code",
   "execution_count": 48,
   "id": "87404a90-a2b3-42a0-8c85-669e08dc2b7d",
   "metadata": {},
   "outputs": [
    {
     "data": {
      "text/plain": [
       "<AxesSubplot:xlabel='year', ylabel='count'>"
      ]
     },
     "execution_count": 48,
     "metadata": {},
     "output_type": "execute_result"
    },
    {
     "data": {
      "image/png": "[encoded data removed]",
      "text/plain": [
       "<Figure size 992.126x425.197 with 1 Axes>"
      ]
     },
     "metadata": {
      "needs_background": "light"
     },
     "output_type": "display_data"
    }
   ],
   "source": [
    "#Vérification de l'année à partir de laquelle les voitures sont les plus populaires :\n",
    "plt.figure(figsize=(cm_to_inch(35),cm_to_inch(15)))\n",
    "sns.countplot(data=data, x = data[\"year\"], palette='YlOrRd')\n",
    "# We can see that 3,500 cars were registered in 2019"
   ]
  },
  {
   "cell_type": "code",
   "execution_count": null,
   "id": "75740917-956c-4c19-9c43-3558893ba8e4",
   "metadata": {},
   "outputs": [],
   "source": [
    "#Comme nous pouvons le voir au Royaume-Uni, l'année automobile la plus populaire est 2019.\n",
    "#Les gens préfèrent acheter des voitures des 4 dernières années plutôt qu'un véhicule neuf"
   ]
  },
  {
   "cell_type": "code",
   "execution_count": 51,
   "id": "75defdc2-29a0-46d2-ad39-e8c8eb718b23",
   "metadata": {},
   "outputs": [
    {
     "data": {
      "text/plain": [
       "<AxesSubplot:xlabel='model', ylabel='price'>"
      ]
     },
     "execution_count": 51,
     "metadata": {},
     "output_type": "execute_result"
    },
    {
     "data": {
      "image/png": "[encoded data removed]",
      "text/plain": [
       "<Figure size 1275.59x425.197 with 1 Axes>"
      ]
     },
     "metadata": {
      "needs_background": "light"
     },
     "output_type": "display_data"
    }
   ],
   "source": [
    "plt.figure(figsize=(cm_to_inch(45),cm_to_inch(15)))\n",
    "sns.boxplot(x = 'model', y = 'price', data = data,palette='Pastel1')"
   ]
  },
  {
   "cell_type": "code",
   "execution_count": null,
   "id": "4ee7ef18-c83e-4e4f-9936-c554d55b8f7d",
   "metadata": {},
   "outputs": [],
   "source": [
    "#Selon les graphiques ci-dessus, il existe des valeurs aberrantes dans l'ensemble de données qui peuvent affecter les performances du modèle"
   ]
  },
  {
   "cell_type": "code",
   "execution_count": 73,
   "id": "b78d82d9-d3d3-4ba0-b397-c54b2bf19742",
   "metadata": {},
   "outputs": [
    {
     "data": {
      "image/png": "[encoded data removed]",
      "text/plain": [
       "<Figure size 807.375x720 with 20 Axes>"
      ]
     },
     "metadata": {
      "needs_background": "light"
     },
     "output_type": "display_data"
    }
   ],
   "source": [
    "plot = sns.pairplot(data.drop([\"tax\", \"mpg\", \"selling_price\"], axis= 1), hue= \"transmission\", palette = sns.color_palette(\"Set2\", 3))\n",
    "#sns.boxplot(x = 'engineSize', y = 'price', data = data,palette='Accent')"
   ]
  },
  {
   "cell_type": "code",
   "execution_count": 70,
   "id": "6cce5674-de8f-4210-a66e-7ccfb3b9597a",
   "metadata": {},
   "outputs": [
    {
     "name": "stdout",
     "output_type": "stream",
     "text": [
      "                   year     price   mileage       tax       mpg  engineSize  \\\n",
      "year           1.000000  0.623756 -0.774382  0.025200 -0.071762   -0.026337   \n",
      "price          0.623756  1.000000 -0.605397  0.263484 -0.204882    0.460196   \n",
      "mileage       -0.774382 -0.605397  1.000000 -0.170747  0.118609   -0.002540   \n",
      "tax            0.025200  0.263484 -0.170747  1.000000 -0.351798    0.429616   \n",
      "mpg           -0.071762 -0.204882  0.118609 -0.351798  1.000000   -0.399844   \n",
      "engineSize    -0.026337  0.460196 -0.002540  0.429616 -0.399844    1.000000   \n",
      "selling_price  0.715037  0.976227 -0.661548  0.221773 -0.204086    0.356246   \n",
      "\n",
      "               selling_price  \n",
      "year                0.715037  \n",
      "price               0.976227  \n",
      "mileage            -0.661548  \n",
      "tax                 0.221773  \n",
      "mpg                -0.204086  \n",
      "engineSize          0.356246  \n",
      "selling_price       1.000000  \n"
     ]
    }
   ],
   "source": [
    "# lets see the Correlation between the features\n",
    "print(data.corr())"
   ]
  },
  {
   "cell_type": "code",
   "execution_count": 71,
   "id": "a28b6896-dfa7-48c5-b703-b17ddeef5733",
   "metadata": {},
   "outputs": [
    {
     "data": {
      "image/png": "[encoded data removed]",
      "text/plain": [
       "<Figure size 864x288 with 2 Axes>"
      ]
     },
     "metadata": {
      "needs_background": "light"
     },
     "output_type": "display_data"
    }
   ],
   "source": [
    "# Plot the heatmap\n",
    "plt.figure(figsize=(12, 4))\n",
    "correlations = data.corr()\n",
    "sns.heatmap(correlations, cmap=\"coolwarm\", annot=True)\n",
    "plt.show()"
   ]
  },
  {
   "cell_type": "code",
   "execution_count": 72,
   "id": "0951f641-f235-463a-8533-7b6ee9d02f6f",
   "metadata": {},
   "outputs": [
    {
     "data": {
      "text/html": [
       "<div>\n",
       "<style scoped>\n",
       "    .dataframe tbody tr th:only-of-type {\n",
       "        vertical-align: middle;\n",
       "    }\n",
       "\n",
       "    .dataframe tbody tr th {\n",
       "        vertical-align: top;\n",
       "    }\n",
       "\n",
       "    .dataframe thead th {\n",
       "        text-align: right;\n",
       "    }\n",
       "</style>\n",
       "<table border=\"1\" class=\"dataframe\">\n",
       "  <thead>\n",
       "    <tr style=\"text-align: right;\">\n",
       "      <th></th>\n",
       "      <th>year</th>\n",
       "      <th>model</th>\n",
       "      <th>price</th>\n",
       "      <th>transmission</th>\n",
       "      <th>mileage</th>\n",
       "      <th>fuelType</th>\n",
       "      <th>tax</th>\n",
       "      <th>mpg</th>\n",
       "      <th>engineSize</th>\n",
       "      <th>selling_price</th>\n",
       "    </tr>\n",
       "  </thead>\n",
       "  <tbody>\n",
       "    <tr>\n",
       "      <th>0</th>\n",
       "      <td>2015</td>\n",
       "      <td>1 Series</td>\n",
       "      <td>10388</td>\n",
       "      <td>1</td>\n",
       "      <td>28640</td>\n",
       "      <td>0</td>\n",
       "      <td>0</td>\n",
       "      <td>83.1</td>\n",
       "      <td>1.5</td>\n",
       "      <td>4794.0620</td>\n",
       "    </tr>\n",
       "    <tr>\n",
       "      <th>1</th>\n",
       "      <td>2017</td>\n",
       "      <td>1 Series</td>\n",
       "      <td>22991</td>\n",
       "      <td>2</td>\n",
       "      <td>15709</td>\n",
       "      <td>3</td>\n",
       "      <td>145</td>\n",
       "      <td>39.8</td>\n",
       "      <td>3.0</td>\n",
       "      <td>13532.5026</td>\n",
       "    </tr>\n",
       "    <tr>\n",
       "      <th>2</th>\n",
       "      <td>2019</td>\n",
       "      <td>1 Series</td>\n",
       "      <td>31790</td>\n",
       "      <td>2</td>\n",
       "      <td>8211</td>\n",
       "      <td>3</td>\n",
       "      <td>145</td>\n",
       "      <td>34.5</td>\n",
       "      <td>2.0</td>\n",
       "      <td>24328.8870</td>\n",
       "    </tr>\n",
       "    <tr>\n",
       "      <th>3</th>\n",
       "      <td>2017</td>\n",
       "      <td>1 Series</td>\n",
       "      <td>19490</td>\n",
       "      <td>1</td>\n",
       "      <td>10</td>\n",
       "      <td>3</td>\n",
       "      <td>125</td>\n",
       "      <td>53.3</td>\n",
       "      <td>1.5</td>\n",
       "      <td>11471.8140</td>\n",
       "    </tr>\n",
       "    <tr>\n",
       "      <th>4</th>\n",
       "      <td>2015</td>\n",
       "      <td>1 Series</td>\n",
       "      <td>9600</td>\n",
       "      <td>1</td>\n",
       "      <td>30755</td>\n",
       "      <td>0</td>\n",
       "      <td>0</td>\n",
       "      <td>83.1</td>\n",
       "      <td>1.5</td>\n",
       "      <td>4430.4000</td>\n",
       "    </tr>\n",
       "  </tbody>\n",
       "</table>\n",
       "</div>"
      ],
      "text/plain": [
       "   year      model  price  transmission  mileage  fuelType  tax   mpg  \\\n",
       "0  2015   1 Series  10388             1    28640         0    0  83.1   \n",
       "1  2017   1 Series  22991             2    15709         3  145  39.8   \n",
       "2  2019   1 Series  31790             2     8211         3  145  34.5   \n",
       "3  2017   1 Series  19490             1       10         3  125  53.3   \n",
       "4  2015   1 Series   9600             1    30755         0    0  83.1   \n",
       "\n",
       "   engineSize  selling_price  \n",
       "0         1.5      4794.0620  \n",
       "1         3.0     13532.5026  \n",
       "2         2.0     24328.8870  \n",
       "3         1.5     11471.8140  \n",
       "4         1.5      4430.4000  "
      ]
     },
     "execution_count": 72,
     "metadata": {},
     "output_type": "execute_result"
    }
   ],
   "source": [
    "#Basic Preprocessing\n",
    "# Lets encode the text features using Label Encoding\n",
    "le = LabelEncoder()\n",
    "data['fuelType'] = le.fit_transform(data.fuelType.values)\n",
    "\n",
    "data['transmission'] = le.fit_transform(data.transmission.values)\n",
    "data.head()"
   ]
  },
  {
   "cell_type": "code",
   "execution_count": 61,
   "id": "b472f96b-8564-4fa6-8f8f-803110f5ac54",
   "metadata": {},
   "outputs": [
    {
     "data": {
      "text/plain": [
       "array([0, 3, 2, 1])"
      ]
     },
     "execution_count": 61,
     "metadata": {},
     "output_type": "execute_result"
    }
   ],
   "source": [
    "#Petrol=3, Hybrid=2, Electric=1, Diesel=0\n",
    "data['fuelType'].values\n",
    "data.fuelType.unique()"
   ]
  },
  {
   "cell_type": "code",
   "execution_count": 73,
   "id": "651ea977-68f4-4c0c-bb80-304078ced0ae",
   "metadata": {},
   "outputs": [
    {
     "data": {
      "text/plain": [
       "array([1, 2, 0])"
      ]
     },
     "execution_count": 73,
     "metadata": {},
     "output_type": "execute_result"
    }
   ],
   "source": [
    "#Automatic=0, Manual=1, Semi-Auto=2\n",
    "data.transmission.unique()"
   ]
  },
  {
   "cell_type": "code",
   "execution_count": 74,
   "id": "305ec35f-6430-4159-842f-83e5a3a2432d",
   "metadata": {},
   "outputs": [],
   "source": [
    "# Target column is Selling Price\n",
    "predict = \"selling_price\"\n",
    "data = data[[\"year\", \"mileage\", \n",
    "             \"price\", \"fuelType\", \"transmission\", \n",
    "             \"engineSize\", \"selling_price\"]]"
   ]
  },
  {
   "cell_type": "code",
   "execution_count": 75,
   "id": "b1bf0d9c-4883-4b23-8c07-7323fd295d6f",
   "metadata": {},
   "outputs": [
    {
     "name": "stderr",
     "output_type": "stream",
     "text": [
      "C:\\Users\\Administrateur\\AppData\\Local\\Temp\\ipykernel_4032\\757806913.py:2: FutureWarning: In a future version of pandas all arguments of DataFrame.drop except for the argument 'labels' will be keyword-only.\n",
      "  x = np.array(data.drop([predict], 1))\n"
     ]
    }
   ],
   "source": [
    "# Split dataset into input (other than selling price) and output (Selling Price)\n",
    "x = np.array(data.drop([predict], 1))\n",
    "y = np.array(data[predict])"
   ]
  },
  {
   "cell_type": "code",
   "execution_count": 76,
   "id": "0d6c549e-d629-4e17-aaf2-63b06b3cf3ab",
   "metadata": {},
   "outputs": [],
   "source": [
    "# Now split data into train and test\n",
    "x_train, x_test, y_train, y_test = train_test_split(x, y, test_size=0.2)"
   ]
  },
  {
   "cell_type": "code",
   "execution_count": 19,
   "id": "f7978c36-14e6-477e-b4bc-d3d5406f633f",
   "metadata": {},
   "outputs": [],
   "source": [
    "#Model Building"
   ]
  },
  {
   "cell_type": "code",
   "execution_count": 77,
   "id": "bdd4ba5f-7032-40ea-852a-1c3e0f38886d",
   "metadata": {},
   "outputs": [
    {
     "name": "stdout",
     "output_type": "stream",
     "text": [
      "Learning rate set to 0.057547\n",
      "0:\tlearn: 9592.5891087\ttotal: 2.89ms\tremaining: 2.89s\n",
      "1:\tlearn: 9091.9423006\ttotal: 5.13ms\tremaining: 2.56s\n",
      "2:\tlearn: 8624.4911275\ttotal: 7.21ms\tremaining: 2.39s\n",
      "3:\tlearn: 8172.6169382\ttotal: 9.35ms\tremaining: 2.33s\n",
      "4:\tlearn: 7752.2281927\ttotal: 11.5ms\tremaining: 2.29s\n",
      "5:\tlearn: 7360.4450301\ttotal: 13.6ms\tremaining: 2.25s\n",
      "6:\tlearn: 6982.3110016\ttotal: 15.7ms\tremaining: 2.22s\n",
      "7:\tlearn: 6615.5951658\ttotal: 17.9ms\tremaining: 2.22s\n",
      "8:\tlearn: 6289.4145724\ttotal: 20ms\tremaining: 2.2s\n",
      "9:\tlearn: 5983.6235489\ttotal: 22ms\tremaining: 2.18s\n",
      "10:\tlearn: 5680.9588651\ttotal: 24.1ms\tremaining: 2.17s\n",
      "11:\tlearn: 5405.7636632\ttotal: 26.1ms\tremaining: 2.15s\n",
      "12:\tlearn: 5132.7966513\ttotal: 28.5ms\tremaining: 2.16s\n",
      "13:\tlearn: 4874.3930059\ttotal: 30.8ms\tremaining: 2.17s\n",
      "14:\tlearn: 4631.6617578\ttotal: 32.9ms\tremaining: 2.16s\n",
      "15:\tlearn: 4398.7720628\ttotal: 35.2ms\tremaining: 2.16s\n",
      "16:\tlearn: 4186.3520698\ttotal: 37.4ms\tremaining: 2.16s\n",
      "17:\tlearn: 3982.2632790\ttotal: 39.4ms\tremaining: 2.15s\n",
      "18:\tlearn: 3787.3799870\ttotal: 41.7ms\tremaining: 2.15s\n",
      "19:\tlearn: 3602.5318798\ttotal: 44ms\tremaining: 2.15s\n",
      "20:\tlearn: 3430.2576738\ttotal: 46ms\tremaining: 2.15s\n",
      "21:\tlearn: 3265.7282863\ttotal: 48.1ms\tremaining: 2.14s\n",
      "22:\tlearn: 3107.7099840\ttotal: 50.1ms\tremaining: 2.13s\n",
      "23:\tlearn: 2961.0813978\ttotal: 52ms\tremaining: 2.11s\n",
      "24:\tlearn: 2820.7655986\ttotal: 53.9ms\tremaining: 2.1s\n",
      "25:\tlearn: 2687.8343136\ttotal: 56.1ms\tremaining: 2.1s\n",
      "26:\tlearn: 2562.1079857\ttotal: 58.2ms\tremaining: 2.1s\n",
      "27:\tlearn: 2442.3284511\ttotal: 60.1ms\tremaining: 2.08s\n",
      "28:\tlearn: 2329.0554366\ttotal: 62.2ms\tremaining: 2.08s\n",
      "29:\tlearn: 2221.9190454\ttotal: 64.4ms\tremaining: 2.08s\n",
      "30:\tlearn: 2120.8818064\ttotal: 66.6ms\tremaining: 2.08s\n",
      "31:\tlearn: 2027.3630489\ttotal: 68.4ms\tremaining: 2.07s\n",
      "32:\tlearn: 1934.1934646\ttotal: 70.4ms\tremaining: 2.06s\n",
      "33:\tlearn: 1846.5286388\ttotal: 72.5ms\tremaining: 2.06s\n",
      "34:\tlearn: 1766.3357679\ttotal: 74.5ms\tremaining: 2.05s\n",
      "35:\tlearn: 1690.8229814\ttotal: 76.7ms\tremaining: 2.05s\n",
      "36:\tlearn: 1620.9868402\ttotal: 78.8ms\tremaining: 2.05s\n",
      "37:\tlearn: 1551.9116423\ttotal: 80.8ms\tremaining: 2.04s\n",
      "38:\tlearn: 1484.1786584\ttotal: 82.6ms\tremaining: 2.04s\n",
      "39:\tlearn: 1421.7286071\ttotal: 84.6ms\tremaining: 2.03s\n",
      "40:\tlearn: 1360.6077507\ttotal: 86.8ms\tremaining: 2.03s\n",
      "41:\tlearn: 1303.6202851\ttotal: 88.9ms\tremaining: 2.03s\n",
      "42:\tlearn: 1249.9433342\ttotal: 90.8ms\tremaining: 2.02s\n",
      "43:\tlearn: 1200.0341327\ttotal: 92.7ms\tremaining: 2.01s\n",
      "44:\tlearn: 1151.6379915\ttotal: 94.7ms\tremaining: 2.01s\n",
      "45:\tlearn: 1106.0257256\ttotal: 96.7ms\tremaining: 2.01s\n",
      "46:\tlearn: 1063.1381981\ttotal: 98.8ms\tremaining: 2s\n",
      "47:\tlearn: 1022.7221056\ttotal: 101ms\tremaining: 2s\n",
      "48:\tlearn: 984.0673085\ttotal: 103ms\tremaining: 1.99s\n",
      "49:\tlearn: 949.6814147\ttotal: 105ms\tremaining: 1.99s\n",
      "50:\tlearn: 917.9982931\ttotal: 106ms\tremaining: 1.98s\n",
      "51:\tlearn: 887.0749120\ttotal: 108ms\tremaining: 1.98s\n",
      "52:\tlearn: 856.9699207\ttotal: 110ms\tremaining: 1.97s\n",
      "53:\tlearn: 830.7478347\ttotal: 113ms\tremaining: 1.97s\n",
      "54:\tlearn: 805.9478972\ttotal: 115ms\tremaining: 1.97s\n",
      "55:\tlearn: 781.2207976\ttotal: 117ms\tremaining: 1.97s\n",
      "56:\tlearn: 758.2879956\ttotal: 119ms\tremaining: 1.96s\n",
      "57:\tlearn: 736.6486907\ttotal: 120ms\tremaining: 1.95s\n",
      "58:\tlearn: 717.6473153\ttotal: 122ms\tremaining: 1.95s\n",
      "59:\tlearn: 698.8861247\ttotal: 124ms\tremaining: 1.94s\n",
      "60:\tlearn: 681.2431035\ttotal: 126ms\tremaining: 1.94s\n",
      "61:\tlearn: 665.2808035\ttotal: 128ms\tremaining: 1.93s\n",
      "62:\tlearn: 650.3994379\ttotal: 130ms\tremaining: 1.93s\n",
      "63:\tlearn: 634.9065129\ttotal: 132ms\tremaining: 1.93s\n",
      "64:\tlearn: 621.2488842\ttotal: 134ms\tremaining: 1.92s\n",
      "65:\tlearn: 608.3831854\ttotal: 135ms\tremaining: 1.92s\n",
      "66:\tlearn: 596.8170218\ttotal: 137ms\tremaining: 1.91s\n",
      "67:\tlearn: 585.8469786\ttotal: 140ms\tremaining: 1.91s\n",
      "68:\tlearn: 574.6589717\ttotal: 142ms\tremaining: 1.91s\n",
      "69:\tlearn: 565.3120017\ttotal: 144ms\tremaining: 1.91s\n",
      "70:\tlearn: 556.4097041\ttotal: 146ms\tremaining: 1.9s\n",
      "71:\tlearn: 547.2266568\ttotal: 147ms\tremaining: 1.9s\n",
      "72:\tlearn: 539.8340057\ttotal: 149ms\tremaining: 1.9s\n",
      "73:\tlearn: 531.4991339\ttotal: 151ms\tremaining: 1.89s\n",
      "74:\tlearn: 524.2822290\ttotal: 154ms\tremaining: 1.9s\n",
      "75:\tlearn: 517.4873900\ttotal: 156ms\tremaining: 1.89s\n",
      "76:\tlearn: 511.4593688\ttotal: 157ms\tremaining: 1.89s\n",
      "77:\tlearn: 504.9340152\ttotal: 160ms\tremaining: 1.89s\n",
      "78:\tlearn: 499.5111814\ttotal: 161ms\tremaining: 1.88s\n",
      "79:\tlearn: 493.6693220\ttotal: 163ms\tremaining: 1.88s\n",
      "80:\tlearn: 488.5008114\ttotal: 165ms\tremaining: 1.88s\n",
      "81:\tlearn: 483.3096591\ttotal: 167ms\tremaining: 1.87s\n",
      "82:\tlearn: 478.4468287\ttotal: 170ms\tremaining: 1.87s\n",
      "83:\tlearn: 473.0995379\ttotal: 172ms\tremaining: 1.87s\n",
      "84:\tlearn: 468.4230483\ttotal: 174ms\tremaining: 1.87s\n",
      "85:\tlearn: 463.3988632\ttotal: 176ms\tremaining: 1.87s\n",
      "86:\tlearn: 459.9829939\ttotal: 178ms\tremaining: 1.86s\n",
      "87:\tlearn: 456.2699703\ttotal: 180ms\tremaining: 1.86s\n",
      "88:\tlearn: 452.2417672\ttotal: 181ms\tremaining: 1.85s\n",
      "89:\tlearn: 449.4138176\ttotal: 183ms\tremaining: 1.85s\n",
      "90:\tlearn: 446.2705142\ttotal: 185ms\tremaining: 1.85s\n",
      "91:\tlearn: 443.3066559\ttotal: 188ms\tremaining: 1.86s\n",
      "92:\tlearn: 439.4013644\ttotal: 191ms\tremaining: 1.86s\n",
      "93:\tlearn: 436.5461143\ttotal: 193ms\tremaining: 1.86s\n",
      "94:\tlearn: 433.1236913\ttotal: 195ms\tremaining: 1.85s\n",
      "95:\tlearn: 430.2765502\ttotal: 196ms\tremaining: 1.85s\n",
      "96:\tlearn: 426.6509757\ttotal: 198ms\tremaining: 1.84s\n",
      "97:\tlearn: 424.3161012\ttotal: 200ms\tremaining: 1.84s\n",
      "98:\tlearn: 421.3493754\ttotal: 202ms\tremaining: 1.84s\n",
      "99:\tlearn: 418.3497490\ttotal: 205ms\tremaining: 1.84s\n",
      "100:\tlearn: 415.6144302\ttotal: 207ms\tremaining: 1.84s\n",
      "101:\tlearn: 413.2399164\ttotal: 209ms\tremaining: 1.84s\n",
      "102:\tlearn: 410.5734570\ttotal: 211ms\tremaining: 1.84s\n",
      "103:\tlearn: 408.1762162\ttotal: 213ms\tremaining: 1.83s\n",
      "104:\tlearn: 405.7292057\ttotal: 215ms\tremaining: 1.83s\n",
      "105:\tlearn: 403.4872308\ttotal: 217ms\tremaining: 1.83s\n",
      "106:\tlearn: 401.4185434\ttotal: 219ms\tremaining: 1.83s\n",
      "107:\tlearn: 399.7363838\ttotal: 222ms\tremaining: 1.83s\n",
      "108:\tlearn: 398.0189449\ttotal: 224ms\tremaining: 1.83s\n",
      "109:\tlearn: 395.8853984\ttotal: 226ms\tremaining: 1.82s\n",
      "110:\tlearn: 394.1429686\ttotal: 227ms\tremaining: 1.82s\n",
      "111:\tlearn: 391.9353340\ttotal: 230ms\tremaining: 1.82s\n",
      "112:\tlearn: 390.1057446\ttotal: 231ms\tremaining: 1.82s\n",
      "113:\tlearn: 388.3716260\ttotal: 233ms\tremaining: 1.81s\n",
      "114:\tlearn: 386.6429830\ttotal: 235ms\tremaining: 1.81s\n",
      "115:\tlearn: 384.8340976\ttotal: 237ms\tremaining: 1.81s\n",
      "116:\tlearn: 382.4507776\ttotal: 239ms\tremaining: 1.8s\n",
      "117:\tlearn: 380.4845165\ttotal: 241ms\tremaining: 1.8s\n",
      "118:\tlearn: 379.2238235\ttotal: 243ms\tremaining: 1.8s\n",
      "119:\tlearn: 377.8803142\ttotal: 245ms\tremaining: 1.8s\n",
      "120:\tlearn: 376.4802719\ttotal: 247ms\tremaining: 1.79s\n",
      "121:\tlearn: 375.3772976\ttotal: 249ms\tremaining: 1.79s\n",
      "122:\tlearn: 373.8314789\ttotal: 251ms\tremaining: 1.79s\n",
      "123:\tlearn: 372.3872844\ttotal: 253ms\tremaining: 1.79s\n",
      "124:\tlearn: 370.7983752\ttotal: 255ms\tremaining: 1.79s\n",
      "125:\tlearn: 369.6517087\ttotal: 257ms\tremaining: 1.78s\n",
      "126:\tlearn: 368.4233381\ttotal: 259ms\tremaining: 1.78s\n",
      "127:\tlearn: 367.0828235\ttotal: 261ms\tremaining: 1.78s\n",
      "128:\tlearn: 365.7483933\ttotal: 263ms\tremaining: 1.77s\n",
      "129:\tlearn: 364.9213844\ttotal: 265ms\tremaining: 1.77s\n",
      "130:\tlearn: 363.4234331\ttotal: 267ms\tremaining: 1.77s\n",
      "131:\tlearn: 362.6843553\ttotal: 269ms\tremaining: 1.77s\n",
      "132:\tlearn: 361.5555189\ttotal: 271ms\tremaining: 1.76s\n",
      "133:\tlearn: 359.7681550\ttotal: 273ms\tremaining: 1.76s\n",
      "134:\tlearn: 358.7552544\ttotal: 275ms\tremaining: 1.76s\n",
      "135:\tlearn: 356.5334794\ttotal: 276ms\tremaining: 1.76s\n",
      "136:\tlearn: 355.4709773\ttotal: 279ms\tremaining: 1.75s\n",
      "137:\tlearn: 354.4396937\ttotal: 281ms\tremaining: 1.75s\n",
      "138:\tlearn: 353.1257887\ttotal: 283ms\tremaining: 1.75s\n",
      "139:\tlearn: 352.1082315\ttotal: 284ms\tremaining: 1.75s\n",
      "140:\tlearn: 350.8752165\ttotal: 286ms\tremaining: 1.74s\n",
      "141:\tlearn: 350.0196798\ttotal: 288ms\tremaining: 1.74s\n",
      "142:\tlearn: 349.2642460\ttotal: 290ms\tremaining: 1.74s\n",
      "143:\tlearn: 348.0885415\ttotal: 292ms\tremaining: 1.74s\n",
      "144:\tlearn: 347.0699969\ttotal: 294ms\tremaining: 1.74s\n",
      "145:\tlearn: 345.8020242\ttotal: 296ms\tremaining: 1.73s\n",
      "146:\tlearn: 344.7584657\ttotal: 301ms\tremaining: 1.75s\n",
      "147:\tlearn: 342.9053377\ttotal: 303ms\tremaining: 1.75s\n",
      "148:\tlearn: 342.0517279\ttotal: 305ms\tremaining: 1.74s\n",
      "149:\tlearn: 341.3724856\ttotal: 307ms\tremaining: 1.74s\n",
      "150:\tlearn: 339.8985369\ttotal: 309ms\tremaining: 1.74s\n",
      "151:\tlearn: 339.2537930\ttotal: 311ms\tremaining: 1.74s\n",
      "152:\tlearn: 338.5625663\ttotal: 313ms\tremaining: 1.73s\n",
      "153:\tlearn: 337.3731414\ttotal: 315ms\tremaining: 1.73s\n",
      "154:\tlearn: 335.9945330\ttotal: 317ms\tremaining: 1.73s\n",
      "155:\tlearn: 334.6819082\ttotal: 319ms\tremaining: 1.73s\n",
      "156:\tlearn: 333.8278680\ttotal: 321ms\tremaining: 1.72s\n",
      "157:\tlearn: 332.4073464\ttotal: 323ms\tremaining: 1.72s\n",
      "158:\tlearn: 331.5265217\ttotal: 325ms\tremaining: 1.72s\n",
      "159:\tlearn: 330.8021791\ttotal: 327ms\tremaining: 1.72s\n",
      "160:\tlearn: 329.8236718\ttotal: 329ms\tremaining: 1.71s\n",
      "161:\tlearn: 329.1251988\ttotal: 331ms\tremaining: 1.71s\n",
      "162:\tlearn: 327.9257018\ttotal: 333ms\tremaining: 1.71s\n",
      "163:\tlearn: 327.2709327\ttotal: 335ms\tremaining: 1.71s\n",
      "164:\tlearn: 326.2516865\ttotal: 337ms\tremaining: 1.71s\n",
      "165:\tlearn: 325.2371518\ttotal: 339ms\tremaining: 1.7s\n",
      "166:\tlearn: 324.6489492\ttotal: 341ms\tremaining: 1.7s\n",
      "167:\tlearn: 323.6136673\ttotal: 343ms\tremaining: 1.7s\n",
      "168:\tlearn: 322.4885645\ttotal: 345ms\tremaining: 1.7s\n",
      "169:\tlearn: 320.6588053\ttotal: 347ms\tremaining: 1.69s\n",
      "170:\tlearn: 319.9640930\ttotal: 349ms\tremaining: 1.69s\n",
      "171:\tlearn: 319.3115831\ttotal: 351ms\tremaining: 1.69s\n",
      "172:\tlearn: 318.0806876\ttotal: 353ms\tremaining: 1.69s\n",
      "173:\tlearn: 317.3617381\ttotal: 355ms\tremaining: 1.68s\n",
      "174:\tlearn: 316.7548737\ttotal: 357ms\tremaining: 1.68s\n",
      "175:\tlearn: 315.7135448\ttotal: 359ms\tremaining: 1.68s\n",
      "176:\tlearn: 315.0566121\ttotal: 361ms\tremaining: 1.68s\n",
      "177:\tlearn: 314.4655875\ttotal: 363ms\tremaining: 1.68s\n",
      "178:\tlearn: 313.1420105\ttotal: 365ms\tremaining: 1.67s\n",
      "179:\tlearn: 312.0419994\ttotal: 366ms\tremaining: 1.67s\n",
      "180:\tlearn: 310.4562450\ttotal: 368ms\tremaining: 1.67s\n",
      "181:\tlearn: 309.7741808\ttotal: 370ms\tremaining: 1.66s\n",
      "182:\tlearn: 308.6944042\ttotal: 372ms\tremaining: 1.66s\n",
      "183:\tlearn: 307.5967853\ttotal: 374ms\tremaining: 1.66s\n",
      "184:\tlearn: 306.1302121\ttotal: 376ms\tremaining: 1.66s\n",
      "185:\tlearn: 305.5520130\ttotal: 379ms\tremaining: 1.66s\n",
      "186:\tlearn: 304.9538433\ttotal: 381ms\tremaining: 1.65s\n",
      "187:\tlearn: 304.1299390\ttotal: 383ms\tremaining: 1.65s\n",
      "188:\tlearn: 303.0685584\ttotal: 384ms\tremaining: 1.65s\n",
      "189:\tlearn: 302.1463715\ttotal: 386ms\tremaining: 1.65s\n",
      "190:\tlearn: 301.1562704\ttotal: 388ms\tremaining: 1.65s\n",
      "191:\tlearn: 299.7993444\ttotal: 390ms\tremaining: 1.64s\n",
      "192:\tlearn: 299.2035502\ttotal: 392ms\tremaining: 1.64s\n",
      "193:\tlearn: 298.6945532\ttotal: 394ms\tremaining: 1.64s\n",
      "194:\tlearn: 297.7297749\ttotal: 396ms\tremaining: 1.64s\n",
      "195:\tlearn: 296.7345670\ttotal: 398ms\tremaining: 1.63s\n",
      "196:\tlearn: 296.0045873\ttotal: 401ms\tremaining: 1.63s\n",
      "197:\tlearn: 295.5834327\ttotal: 403ms\tremaining: 1.63s\n",
      "198:\tlearn: 294.2936118\ttotal: 404ms\tremaining: 1.63s\n",
      "199:\tlearn: 293.5249093\ttotal: 406ms\tremaining: 1.63s\n",
      "200:\tlearn: 292.9253674\ttotal: 408ms\tremaining: 1.62s\n",
      "201:\tlearn: 292.5031724\ttotal: 411ms\tremaining: 1.62s\n",
      "202:\tlearn: 291.8605165\ttotal: 412ms\tremaining: 1.62s\n",
      "203:\tlearn: 291.2300126\ttotal: 414ms\tremaining: 1.62s\n",
      "204:\tlearn: 290.8320503\ttotal: 416ms\tremaining: 1.61s\n",
      "205:\tlearn: 290.3707633\ttotal: 418ms\tremaining: 1.61s\n",
      "206:\tlearn: 289.4949812\ttotal: 420ms\tremaining: 1.61s\n",
      "207:\tlearn: 288.3991097\ttotal: 422ms\tremaining: 1.61s\n",
      "208:\tlearn: 287.8107219\ttotal: 424ms\tremaining: 1.6s\n",
      "209:\tlearn: 287.0326300\ttotal: 426ms\tremaining: 1.6s\n",
      "210:\tlearn: 286.2482953\ttotal: 428ms\tremaining: 1.6s\n",
      "211:\tlearn: 285.7734179\ttotal: 430ms\tremaining: 1.6s\n",
      "212:\tlearn: 285.2006904\ttotal: 433ms\tremaining: 1.6s\n",
      "213:\tlearn: 283.9234029\ttotal: 434ms\tremaining: 1.59s\n",
      "214:\tlearn: 283.1077234\ttotal: 436ms\tremaining: 1.59s\n",
      "215:\tlearn: 281.8218964\ttotal: 438ms\tremaining: 1.59s\n",
      "216:\tlearn: 281.3748606\ttotal: 440ms\tremaining: 1.59s\n",
      "217:\tlearn: 280.6439954\ttotal: 442ms\tremaining: 1.59s\n",
      "218:\tlearn: 279.8061963\ttotal: 445ms\tremaining: 1.58s\n",
      "219:\tlearn: 279.4696871\ttotal: 447ms\tremaining: 1.58s\n",
      "220:\tlearn: 278.9662523\ttotal: 449ms\tremaining: 1.58s\n",
      "221:\tlearn: 277.7367985\ttotal: 450ms\tremaining: 1.58s\n",
      "222:\tlearn: 277.0397590\ttotal: 453ms\tremaining: 1.58s\n",
      "223:\tlearn: 276.4059117\ttotal: 454ms\tremaining: 1.57s\n",
      "224:\tlearn: 275.6927001\ttotal: 457ms\tremaining: 1.57s\n",
      "225:\tlearn: 275.0632483\ttotal: 459ms\tremaining: 1.57s\n",
      "226:\tlearn: 274.7184529\ttotal: 461ms\tremaining: 1.57s\n",
      "227:\tlearn: 273.4799073\ttotal: 462ms\tremaining: 1.56s\n",
      "228:\tlearn: 273.0179143\ttotal: 465ms\tremaining: 1.56s\n",
      "229:\tlearn: 272.6734587\ttotal: 467ms\tremaining: 1.56s\n",
      "230:\tlearn: 271.9671936\ttotal: 468ms\tremaining: 1.56s\n",
      "231:\tlearn: 271.5855150\ttotal: 471ms\tremaining: 1.56s\n",
      "232:\tlearn: 271.0882310\ttotal: 472ms\tremaining: 1.55s\n",
      "233:\tlearn: 269.9587457\ttotal: 474ms\tremaining: 1.55s\n",
      "234:\tlearn: 269.6010366\ttotal: 476ms\tremaining: 1.55s\n",
      "235:\tlearn: 268.7830928\ttotal: 478ms\tremaining: 1.55s\n",
      "236:\tlearn: 268.5129391\ttotal: 480ms\tremaining: 1.54s\n",
      "237:\tlearn: 268.0275445\ttotal: 482ms\tremaining: 1.54s\n",
      "238:\tlearn: 267.5854142\ttotal: 484ms\tremaining: 1.54s\n",
      "239:\tlearn: 267.3284877\ttotal: 486ms\tremaining: 1.54s\n",
      "240:\tlearn: 266.2775402\ttotal: 488ms\tremaining: 1.54s\n",
      "241:\tlearn: 265.9114230\ttotal: 490ms\tremaining: 1.53s\n",
      "242:\tlearn: 265.2159630\ttotal: 492ms\tremaining: 1.53s\n",
      "243:\tlearn: 264.8239046\ttotal: 494ms\tremaining: 1.53s\n",
      "244:\tlearn: 264.2477796\ttotal: 495ms\tremaining: 1.53s\n",
      "245:\tlearn: 263.2410760\ttotal: 497ms\tremaining: 1.52s\n",
      "246:\tlearn: 262.7466127\ttotal: 499ms\tremaining: 1.52s\n",
      "247:\tlearn: 262.4414602\ttotal: 501ms\tremaining: 1.52s\n",
      "248:\tlearn: 261.6919775\ttotal: 503ms\tremaining: 1.52s\n",
      "249:\tlearn: 260.9827374\ttotal: 505ms\tremaining: 1.51s\n",
      "250:\tlearn: 260.5936567\ttotal: 507ms\tremaining: 1.51s\n",
      "251:\tlearn: 259.8812800\ttotal: 509ms\tremaining: 1.51s\n",
      "252:\tlearn: 259.6535196\ttotal: 511ms\tremaining: 1.51s\n",
      "253:\tlearn: 259.3007871\ttotal: 513ms\tremaining: 1.51s\n",
      "254:\tlearn: 258.9445119\ttotal: 515ms\tremaining: 1.5s\n",
      "255:\tlearn: 258.3901188\ttotal: 517ms\tremaining: 1.5s\n",
      "256:\tlearn: 257.9541934\ttotal: 519ms\tremaining: 1.5s\n",
      "257:\tlearn: 256.9638739\ttotal: 521ms\tremaining: 1.5s\n",
      "258:\tlearn: 256.7604572\ttotal: 523ms\tremaining: 1.5s\n",
      "259:\tlearn: 256.0941433\ttotal: 525ms\tremaining: 1.49s\n",
      "260:\tlearn: 255.5029009\ttotal: 527ms\tremaining: 1.49s\n",
      "261:\tlearn: 255.0378691\ttotal: 529ms\tremaining: 1.49s\n",
      "262:\tlearn: 254.7323100\ttotal: 531ms\tremaining: 1.49s\n",
      "263:\tlearn: 254.0326399\ttotal: 533ms\tremaining: 1.49s\n",
      "264:\tlearn: 253.5831080\ttotal: 536ms\tremaining: 1.49s\n",
      "265:\tlearn: 253.3750820\ttotal: 538ms\tremaining: 1.48s\n",
      "266:\tlearn: 253.1447697\ttotal: 540ms\tremaining: 1.48s\n",
      "267:\tlearn: 252.7732802\ttotal: 542ms\tremaining: 1.48s\n",
      "268:\tlearn: 252.2556152\ttotal: 544ms\tremaining: 1.48s\n",
      "269:\tlearn: 251.6952333\ttotal: 547ms\tremaining: 1.48s\n",
      "270:\tlearn: 251.2861905\ttotal: 549ms\tremaining: 1.48s\n",
      "271:\tlearn: 250.3525692\ttotal: 552ms\tremaining: 1.48s\n",
      "272:\tlearn: 250.0050992\ttotal: 554ms\tremaining: 1.47s\n",
      "273:\tlearn: 249.6211800\ttotal: 555ms\tremaining: 1.47s\n",
      "274:\tlearn: 249.2884170\ttotal: 557ms\tremaining: 1.47s\n",
      "275:\tlearn: 248.8425396\ttotal: 559ms\tremaining: 1.47s\n",
      "276:\tlearn: 248.2878359\ttotal: 561ms\tremaining: 1.46s\n",
      "277:\tlearn: 247.9235948\ttotal: 563ms\tremaining: 1.46s\n",
      "278:\tlearn: 247.4850533\ttotal: 565ms\tremaining: 1.46s\n",
      "279:\tlearn: 247.3187671\ttotal: 567ms\tremaining: 1.46s\n",
      "280:\tlearn: 246.7046253\ttotal: 569ms\tremaining: 1.45s\n",
      "281:\tlearn: 246.1770785\ttotal: 570ms\tremaining: 1.45s\n",
      "282:\tlearn: 245.7653923\ttotal: 572ms\tremaining: 1.45s\n",
      "283:\tlearn: 245.3586665\ttotal: 574ms\tremaining: 1.45s\n",
      "284:\tlearn: 245.0485916\ttotal: 576ms\tremaining: 1.45s\n",
      "285:\tlearn: 244.6865816\ttotal: 578ms\tremaining: 1.44s\n",
      "286:\tlearn: 244.3538789\ttotal: 580ms\tremaining: 1.44s\n",
      "287:\tlearn: 243.8076574\ttotal: 582ms\tremaining: 1.44s\n",
      "288:\tlearn: 243.6187529\ttotal: 584ms\tremaining: 1.44s\n",
      "289:\tlearn: 242.7203432\ttotal: 586ms\tremaining: 1.43s\n",
      "290:\tlearn: 242.3825037\ttotal: 588ms\tremaining: 1.43s\n",
      "291:\tlearn: 242.0687688\ttotal: 590ms\tremaining: 1.43s\n",
      "292:\tlearn: 241.7291229\ttotal: 592ms\tremaining: 1.43s\n",
      "293:\tlearn: 241.5747663\ttotal: 594ms\tremaining: 1.43s\n",
      "294:\tlearn: 241.2036540\ttotal: 596ms\tremaining: 1.42s\n",
      "295:\tlearn: 240.9281909\ttotal: 598ms\tremaining: 1.42s\n",
      "296:\tlearn: 240.3819806\ttotal: 600ms\tremaining: 1.42s\n",
      "297:\tlearn: 239.8658698\ttotal: 602ms\tremaining: 1.42s\n",
      "298:\tlearn: 239.3853358\ttotal: 604ms\tremaining: 1.42s\n",
      "299:\tlearn: 239.1070678\ttotal: 607ms\tremaining: 1.42s\n",
      "300:\tlearn: 238.7614325\ttotal: 609ms\tremaining: 1.41s\n",
      "301:\tlearn: 238.3894426\ttotal: 610ms\tremaining: 1.41s\n",
      "302:\tlearn: 238.2334681\ttotal: 612ms\tremaining: 1.41s\n",
      "303:\tlearn: 237.8353671\ttotal: 614ms\tremaining: 1.41s\n",
      "304:\tlearn: 237.5107254\ttotal: 616ms\tremaining: 1.4s\n",
      "305:\tlearn: 237.0191768\ttotal: 618ms\tremaining: 1.4s\n",
      "306:\tlearn: 236.7407670\ttotal: 620ms\tremaining: 1.4s\n",
      "307:\tlearn: 235.8887692\ttotal: 622ms\tremaining: 1.4s\n",
      "308:\tlearn: 235.3411921\ttotal: 624ms\tremaining: 1.39s\n",
      "309:\tlearn: 234.9356462\ttotal: 626ms\tremaining: 1.39s\n",
      "310:\tlearn: 234.6252131\ttotal: 628ms\tremaining: 1.39s\n",
      "311:\tlearn: 234.2775966\ttotal: 631ms\tremaining: 1.39s\n",
      "312:\tlearn: 234.1432542\ttotal: 633ms\tremaining: 1.39s\n",
      "313:\tlearn: 233.9137772\ttotal: 634ms\tremaining: 1.39s\n",
      "314:\tlearn: 233.7775762\ttotal: 636ms\tremaining: 1.38s\n",
      "315:\tlearn: 232.9604035\ttotal: 638ms\tremaining: 1.38s\n",
      "316:\tlearn: 232.8244078\ttotal: 640ms\tremaining: 1.38s\n",
      "317:\tlearn: 232.6064304\ttotal: 643ms\tremaining: 1.38s\n",
      "318:\tlearn: 232.2228713\ttotal: 645ms\tremaining: 1.38s\n",
      "319:\tlearn: 231.9273412\ttotal: 647ms\tremaining: 1.37s\n",
      "320:\tlearn: 231.6206988\ttotal: 649ms\tremaining: 1.37s\n",
      "321:\tlearn: 231.3834939\ttotal: 651ms\tremaining: 1.37s\n",
      "322:\tlearn: 230.9796390\ttotal: 653ms\tremaining: 1.37s\n",
      "323:\tlearn: 230.5589547\ttotal: 655ms\tremaining: 1.36s\n",
      "324:\tlearn: 230.2029565\ttotal: 657ms\tremaining: 1.36s\n",
      "325:\tlearn: 230.0999855\ttotal: 658ms\tremaining: 1.36s\n",
      "326:\tlearn: 229.3248296\ttotal: 660ms\tremaining: 1.36s\n",
      "327:\tlearn: 229.0722875\ttotal: 662ms\tremaining: 1.36s\n",
      "328:\tlearn: 228.8497138\ttotal: 664ms\tremaining: 1.35s\n",
      "329:\tlearn: 228.5088266\ttotal: 666ms\tremaining: 1.35s\n",
      "330:\tlearn: 228.1672121\ttotal: 668ms\tremaining: 1.35s\n",
      "331:\tlearn: 227.7053894\ttotal: 670ms\tremaining: 1.35s\n",
      "332:\tlearn: 227.5397330\ttotal: 672ms\tremaining: 1.34s\n",
      "333:\tlearn: 227.4040204\ttotal: 674ms\tremaining: 1.34s\n",
      "334:\tlearn: 227.1274245\ttotal: 676ms\tremaining: 1.34s\n",
      "335:\tlearn: 227.0345300\ttotal: 678ms\tremaining: 1.34s\n",
      "336:\tlearn: 226.7871554\ttotal: 680ms\tremaining: 1.34s\n",
      "337:\tlearn: 226.0510498\ttotal: 681ms\tremaining: 1.33s\n",
      "338:\tlearn: 225.6591850\ttotal: 683ms\tremaining: 1.33s\n",
      "339:\tlearn: 225.5622248\ttotal: 685ms\tremaining: 1.33s\n",
      "340:\tlearn: 225.3410842\ttotal: 687ms\tremaining: 1.33s\n",
      "341:\tlearn: 225.0408908\ttotal: 689ms\tremaining: 1.32s\n",
      "342:\tlearn: 224.8390854\ttotal: 691ms\tremaining: 1.32s\n",
      "343:\tlearn: 224.6566572\ttotal: 693ms\tremaining: 1.32s\n",
      "344:\tlearn: 224.5130912\ttotal: 695ms\tremaining: 1.32s\n",
      "345:\tlearn: 224.1330320\ttotal: 697ms\tremaining: 1.32s\n",
      "346:\tlearn: 223.7309781\ttotal: 698ms\tremaining: 1.31s\n",
      "347:\tlearn: 223.5320699\ttotal: 700ms\tremaining: 1.31s\n",
      "348:\tlearn: 223.1490216\ttotal: 702ms\tremaining: 1.31s\n",
      "349:\tlearn: 222.5901302\ttotal: 704ms\tremaining: 1.31s\n",
      "350:\tlearn: 222.4949555\ttotal: 707ms\tremaining: 1.31s\n",
      "351:\tlearn: 222.2478945\ttotal: 709ms\tremaining: 1.31s\n",
      "352:\tlearn: 221.9479076\ttotal: 712ms\tremaining: 1.3s\n",
      "353:\tlearn: 221.2507849\ttotal: 714ms\tremaining: 1.3s\n",
      "354:\tlearn: 220.8050915\ttotal: 716ms\tremaining: 1.3s\n",
      "355:\tlearn: 220.7270772\ttotal: 718ms\tremaining: 1.3s\n",
      "356:\tlearn: 220.4438110\ttotal: 720ms\tremaining: 1.3s\n",
      "357:\tlearn: 220.3377555\ttotal: 722ms\tremaining: 1.29s\n",
      "358:\tlearn: 220.0749912\ttotal: 724ms\tremaining: 1.29s\n",
      "359:\tlearn: 219.8227732\ttotal: 727ms\tremaining: 1.29s\n",
      "360:\tlearn: 219.6944334\ttotal: 729ms\tremaining: 1.29s\n",
      "361:\tlearn: 219.4442385\ttotal: 731ms\tremaining: 1.29s\n",
      "362:\tlearn: 219.2752801\ttotal: 733ms\tremaining: 1.29s\n",
      "363:\tlearn: 218.9159044\ttotal: 735ms\tremaining: 1.28s\n",
      "364:\tlearn: 218.7275386\ttotal: 737ms\tremaining: 1.28s\n",
      "365:\tlearn: 218.5186431\ttotal: 739ms\tremaining: 1.28s\n",
      "366:\tlearn: 218.2728683\ttotal: 741ms\tremaining: 1.28s\n",
      "367:\tlearn: 218.0402840\ttotal: 743ms\tremaining: 1.28s\n",
      "368:\tlearn: 217.9589661\ttotal: 745ms\tremaining: 1.27s\n",
      "369:\tlearn: 217.7241559\ttotal: 747ms\tremaining: 1.27s\n",
      "370:\tlearn: 217.5349732\ttotal: 749ms\tremaining: 1.27s\n",
      "371:\tlearn: 217.2695505\ttotal: 751ms\tremaining: 1.27s\n",
      "372:\tlearn: 217.0511869\ttotal: 753ms\tremaining: 1.26s\n",
      "373:\tlearn: 216.5376705\ttotal: 755ms\tremaining: 1.26s\n",
      "374:\tlearn: 216.2937674\ttotal: 757ms\tremaining: 1.26s\n",
      "375:\tlearn: 216.0799757\ttotal: 759ms\tremaining: 1.26s\n",
      "376:\tlearn: 215.7539964\ttotal: 762ms\tremaining: 1.26s\n",
      "377:\tlearn: 215.5522158\ttotal: 764ms\tremaining: 1.26s\n",
      "378:\tlearn: 215.3447200\ttotal: 766ms\tremaining: 1.25s\n",
      "379:\tlearn: 214.9987206\ttotal: 768ms\tremaining: 1.25s\n",
      "380:\tlearn: 214.7935149\ttotal: 770ms\tremaining: 1.25s\n",
      "381:\tlearn: 214.3490098\ttotal: 772ms\tremaining: 1.25s\n",
      "382:\tlearn: 214.0876921\ttotal: 774ms\tremaining: 1.25s\n",
      "383:\tlearn: 213.9120738\ttotal: 776ms\tremaining: 1.24s\n",
      "384:\tlearn: 213.6850961\ttotal: 778ms\tremaining: 1.24s\n",
      "385:\tlearn: 213.5133912\ttotal: 780ms\tremaining: 1.24s\n",
      "386:\tlearn: 212.8649190\ttotal: 782ms\tremaining: 1.24s\n",
      "387:\tlearn: 212.5767085\ttotal: 784ms\tremaining: 1.24s\n",
      "388:\tlearn: 212.3768546\ttotal: 786ms\tremaining: 1.23s\n",
      "389:\tlearn: 212.2565259\ttotal: 787ms\tremaining: 1.23s\n",
      "390:\tlearn: 212.1161288\ttotal: 789ms\tremaining: 1.23s\n",
      "391:\tlearn: 211.9584502\ttotal: 791ms\tremaining: 1.23s\n",
      "392:\tlearn: 211.3305322\ttotal: 793ms\tremaining: 1.23s\n",
      "393:\tlearn: 211.0203173\ttotal: 795ms\tremaining: 1.22s\n",
      "394:\tlearn: 210.6769748\ttotal: 798ms\tremaining: 1.22s\n",
      "395:\tlearn: 210.5530180\ttotal: 800ms\tremaining: 1.22s\n",
      "396:\tlearn: 210.2813317\ttotal: 802ms\tremaining: 1.22s\n",
      "397:\tlearn: 210.1855990\ttotal: 804ms\tremaining: 1.22s\n",
      "398:\tlearn: 209.9352557\ttotal: 806ms\tremaining: 1.21s\n",
      "399:\tlearn: 209.7647785\ttotal: 808ms\tremaining: 1.21s\n",
      "400:\tlearn: 209.1606402\ttotal: 810ms\tremaining: 1.21s\n",
      "401:\tlearn: 208.9618767\ttotal: 812ms\tremaining: 1.21s\n",
      "402:\tlearn: 208.8831007\ttotal: 814ms\tremaining: 1.21s\n",
      "403:\tlearn: 208.5227791\ttotal: 816ms\tremaining: 1.2s\n",
      "404:\tlearn: 208.2109381\ttotal: 817ms\tremaining: 1.2s\n",
      "405:\tlearn: 208.0388887\ttotal: 820ms\tremaining: 1.2s\n",
      "406:\tlearn: 207.9019726\ttotal: 822ms\tremaining: 1.2s\n",
      "407:\tlearn: 207.6156524\ttotal: 824ms\tremaining: 1.2s\n",
      "408:\tlearn: 207.4809626\ttotal: 826ms\tremaining: 1.19s\n",
      "409:\tlearn: 207.2118101\ttotal: 828ms\tremaining: 1.19s\n",
      "410:\tlearn: 207.1367627\ttotal: 830ms\tremaining: 1.19s\n",
      "411:\tlearn: 207.0410080\ttotal: 832ms\tremaining: 1.19s\n",
      "412:\tlearn: 206.9695463\ttotal: 833ms\tremaining: 1.18s\n",
      "413:\tlearn: 206.7488852\ttotal: 836ms\tremaining: 1.18s\n",
      "414:\tlearn: 206.6389150\ttotal: 838ms\tremaining: 1.18s\n",
      "415:\tlearn: 206.3704590\ttotal: 840ms\tremaining: 1.18s\n",
      "416:\tlearn: 206.2215681\ttotal: 842ms\tremaining: 1.18s\n",
      "417:\tlearn: 205.9365928\ttotal: 844ms\tremaining: 1.17s\n",
      "418:\tlearn: 205.8590479\ttotal: 846ms\tremaining: 1.17s\n",
      "419:\tlearn: 205.7987468\ttotal: 847ms\tremaining: 1.17s\n",
      "420:\tlearn: 205.5417219\ttotal: 850ms\tremaining: 1.17s\n",
      "421:\tlearn: 205.3080587\ttotal: 851ms\tremaining: 1.17s\n",
      "422:\tlearn: 205.0922623\ttotal: 854ms\tremaining: 1.16s\n",
      "423:\tlearn: 205.0057886\ttotal: 855ms\tremaining: 1.16s\n",
      "424:\tlearn: 204.8730894\ttotal: 858ms\tremaining: 1.16s\n",
      "425:\tlearn: 204.7418710\ttotal: 860ms\tremaining: 1.16s\n",
      "426:\tlearn: 204.5396065\ttotal: 862ms\tremaining: 1.16s\n",
      "427:\tlearn: 204.3043078\ttotal: 863ms\tremaining: 1.15s\n",
      "428:\tlearn: 204.0500754\ttotal: 866ms\tremaining: 1.15s\n",
      "429:\tlearn: 203.8659227\ttotal: 868ms\tremaining: 1.15s\n",
      "430:\tlearn: 203.5980613\ttotal: 870ms\tremaining: 1.15s\n",
      "431:\tlearn: 203.1848645\ttotal: 872ms\tremaining: 1.15s\n",
      "432:\tlearn: 203.0561302\ttotal: 873ms\tremaining: 1.14s\n",
      "433:\tlearn: 202.8806008\ttotal: 875ms\tremaining: 1.14s\n",
      "434:\tlearn: 202.8232398\ttotal: 877ms\tremaining: 1.14s\n",
      "435:\tlearn: 202.7208046\ttotal: 879ms\tremaining: 1.14s\n",
      "436:\tlearn: 202.6052912\ttotal: 881ms\tremaining: 1.14s\n",
      "437:\tlearn: 202.2003514\ttotal: 883ms\tremaining: 1.13s\n",
      "438:\tlearn: 201.9171286\ttotal: 885ms\tremaining: 1.13s\n",
      "439:\tlearn: 201.3690074\ttotal: 887ms\tremaining: 1.13s\n",
      "440:\tlearn: 201.2062255\ttotal: 889ms\tremaining: 1.13s\n",
      "441:\tlearn: 201.0121222\ttotal: 891ms\tremaining: 1.12s\n",
      "442:\tlearn: 200.7850675\ttotal: 892ms\tremaining: 1.12s\n",
      "443:\tlearn: 200.7241307\ttotal: 894ms\tremaining: 1.12s\n",
      "444:\tlearn: 200.6400427\ttotal: 896ms\tremaining: 1.12s\n",
      "445:\tlearn: 200.4505414\ttotal: 898ms\tremaining: 1.11s\n",
      "446:\tlearn: 200.0302094\ttotal: 900ms\tremaining: 1.11s\n",
      "447:\tlearn: 199.8402515\ttotal: 902ms\tremaining: 1.11s\n",
      "448:\tlearn: 199.3236026\ttotal: 903ms\tremaining: 1.11s\n",
      "449:\tlearn: 199.1484503\ttotal: 905ms\tremaining: 1.11s\n",
      "450:\tlearn: 199.0225855\ttotal: 907ms\tremaining: 1.1s\n",
      "451:\tlearn: 198.7765539\ttotal: 909ms\tremaining: 1.1s\n",
      "452:\tlearn: 198.4430206\ttotal: 911ms\tremaining: 1.1s\n",
      "453:\tlearn: 198.3346757\ttotal: 914ms\tremaining: 1.1s\n",
      "454:\tlearn: 198.1128966\ttotal: 916ms\tremaining: 1.1s\n",
      "455:\tlearn: 197.9948220\ttotal: 918ms\tremaining: 1.09s\n",
      "456:\tlearn: 197.7918813\ttotal: 920ms\tremaining: 1.09s\n",
      "457:\tlearn: 197.5601059\ttotal: 922ms\tremaining: 1.09s\n",
      "458:\tlearn: 197.4459645\ttotal: 924ms\tremaining: 1.09s\n",
      "459:\tlearn: 197.1154851\ttotal: 926ms\tremaining: 1.09s\n",
      "460:\tlearn: 196.9563206\ttotal: 928ms\tremaining: 1.08s\n",
      "461:\tlearn: 196.4621677\ttotal: 930ms\tremaining: 1.08s\n",
      "462:\tlearn: 196.2540471\ttotal: 932ms\tremaining: 1.08s\n",
      "463:\tlearn: 196.1784761\ttotal: 934ms\tremaining: 1.08s\n",
      "464:\tlearn: 195.8112121\ttotal: 936ms\tremaining: 1.08s\n",
      "465:\tlearn: 195.6480148\ttotal: 938ms\tremaining: 1.07s\n",
      "466:\tlearn: 195.4127605\ttotal: 940ms\tremaining: 1.07s\n",
      "467:\tlearn: 195.2222810\ttotal: 941ms\tremaining: 1.07s\n",
      "468:\tlearn: 195.0175660\ttotal: 943ms\tremaining: 1.07s\n",
      "469:\tlearn: 194.9069899\ttotal: 945ms\tremaining: 1.06s\n",
      "470:\tlearn: 194.8561671\ttotal: 947ms\tremaining: 1.06s\n",
      "471:\tlearn: 194.6827400\ttotal: 949ms\tremaining: 1.06s\n",
      "472:\tlearn: 194.5231483\ttotal: 951ms\tremaining: 1.06s\n",
      "473:\tlearn: 194.3688272\ttotal: 953ms\tremaining: 1.06s\n",
      "474:\tlearn: 194.1566507\ttotal: 955ms\tremaining: 1.05s\n",
      "475:\tlearn: 194.0017063\ttotal: 957ms\tremaining: 1.05s\n",
      "476:\tlearn: 193.9300390\ttotal: 959ms\tremaining: 1.05s\n",
      "477:\tlearn: 193.8059853\ttotal: 961ms\tremaining: 1.05s\n",
      "478:\tlearn: 193.6903446\ttotal: 963ms\tremaining: 1.05s\n",
      "479:\tlearn: 193.6392537\ttotal: 965ms\tremaining: 1.04s\n",
      "480:\tlearn: 193.4718404\ttotal: 967ms\tremaining: 1.04s\n",
      "481:\tlearn: 193.3323238\ttotal: 969ms\tremaining: 1.04s\n",
      "482:\tlearn: 193.1829798\ttotal: 971ms\tremaining: 1.04s\n",
      "483:\tlearn: 193.0379133\ttotal: 973ms\tremaining: 1.04s\n",
      "484:\tlearn: 192.9327349\ttotal: 975ms\tremaining: 1.03s\n",
      "485:\tlearn: 192.8542859\ttotal: 977ms\tremaining: 1.03s\n",
      "486:\tlearn: 192.6583687\ttotal: 979ms\tremaining: 1.03s\n",
      "487:\tlearn: 192.4590572\ttotal: 981ms\tremaining: 1.03s\n",
      "488:\tlearn: 192.2968456\ttotal: 983ms\tremaining: 1.03s\n",
      "489:\tlearn: 192.1293543\ttotal: 985ms\tremaining: 1.02s\n",
      "490:\tlearn: 192.0321336\ttotal: 987ms\tremaining: 1.02s\n",
      "491:\tlearn: 191.9290001\ttotal: 989ms\tremaining: 1.02s\n",
      "492:\tlearn: 191.7561478\ttotal: 991ms\tremaining: 1.02s\n",
      "493:\tlearn: 191.2975385\ttotal: 993ms\tremaining: 1.02s\n",
      "494:\tlearn: 190.9287577\ttotal: 995ms\tremaining: 1.01s\n",
      "495:\tlearn: 190.7626300\ttotal: 996ms\tremaining: 1.01s\n",
      "496:\tlearn: 190.6704008\ttotal: 998ms\tremaining: 1.01s\n",
      "497:\tlearn: 190.5745960\ttotal: 1s\tremaining: 1.01s\n",
      "498:\tlearn: 190.4879449\ttotal: 1s\tremaining: 1.01s\n",
      "499:\tlearn: 190.0650273\ttotal: 1s\tremaining: 1s\n",
      "500:\tlearn: 189.8695532\ttotal: 1s\tremaining: 1s\n",
      "501:\tlearn: 189.7737346\ttotal: 1.01s\tremaining: 999ms\n",
      "502:\tlearn: 189.6713837\ttotal: 1.01s\tremaining: 998ms\n",
      "503:\tlearn: 189.5847203\ttotal: 1.01s\tremaining: 995ms\n",
      "504:\tlearn: 189.4279369\ttotal: 1.01s\tremaining: 994ms\n",
      "505:\tlearn: 189.3380564\ttotal: 1.01s\tremaining: 992ms\n",
      "506:\tlearn: 189.1764229\ttotal: 1.02s\tremaining: 990ms\n",
      "507:\tlearn: 189.0693152\ttotal: 1.02s\tremaining: 988ms\n",
      "508:\tlearn: 188.9438986\ttotal: 1.02s\tremaining: 986ms\n",
      "509:\tlearn: 188.8895927\ttotal: 1.02s\tremaining: 984ms\n",
      "510:\tlearn: 188.8121875\ttotal: 1.02s\tremaining: 982ms\n",
      "511:\tlearn: 188.6140967\ttotal: 1.03s\tremaining: 980ms\n",
      "512:\tlearn: 188.5060525\ttotal: 1.03s\tremaining: 978ms\n",
      "513:\tlearn: 188.4003785\ttotal: 1.03s\tremaining: 976ms\n",
      "514:\tlearn: 188.3328331\ttotal: 1.03s\tremaining: 974ms\n",
      "515:\tlearn: 188.2091956\ttotal: 1.04s\tremaining: 972ms\n",
      "516:\tlearn: 188.1503927\ttotal: 1.04s\tremaining: 970ms\n",
      "517:\tlearn: 188.0149566\ttotal: 1.04s\tremaining: 968ms\n",
      "518:\tlearn: 187.5144388\ttotal: 1.04s\tremaining: 966ms\n",
      "519:\tlearn: 187.4282159\ttotal: 1.04s\tremaining: 964ms\n",
      "520:\tlearn: 187.3303499\ttotal: 1.04s\tremaining: 962ms\n",
      "521:\tlearn: 187.2922304\ttotal: 1.05s\tremaining: 960ms\n",
      "522:\tlearn: 187.1381018\ttotal: 1.05s\tremaining: 958ms\n",
      "523:\tlearn: 187.0006454\ttotal: 1.05s\tremaining: 955ms\n",
      "524:\tlearn: 186.8824060\ttotal: 1.05s\tremaining: 953ms\n",
      "525:\tlearn: 186.6937762\ttotal: 1.06s\tremaining: 952ms\n",
      "526:\tlearn: 186.6085087\ttotal: 1.06s\tremaining: 950ms\n",
      "527:\tlearn: 186.5410181\ttotal: 1.06s\tremaining: 948ms\n",
      "528:\tlearn: 186.3261658\ttotal: 1.06s\tremaining: 946ms\n",
      "529:\tlearn: 186.1128129\ttotal: 1.06s\tremaining: 944ms\n",
      "530:\tlearn: 186.0336989\ttotal: 1.07s\tremaining: 942ms\n",
      "531:\tlearn: 185.9394610\ttotal: 1.07s\tremaining: 941ms\n",
      "532:\tlearn: 185.8236308\ttotal: 1.07s\tremaining: 939ms\n",
      "533:\tlearn: 185.7728754\ttotal: 1.07s\tremaining: 937ms\n",
      "534:\tlearn: 185.7115300\ttotal: 1.07s\tremaining: 935ms\n",
      "535:\tlearn: 185.6156784\ttotal: 1.08s\tremaining: 933ms\n",
      "536:\tlearn: 185.5230680\ttotal: 1.08s\tremaining: 932ms\n",
      "537:\tlearn: 185.4723714\ttotal: 1.08s\tremaining: 930ms\n",
      "538:\tlearn: 185.3020309\ttotal: 1.08s\tremaining: 928ms\n",
      "539:\tlearn: 185.1313082\ttotal: 1.09s\tremaining: 926ms\n",
      "540:\tlearn: 184.9264784\ttotal: 1.09s\tremaining: 924ms\n",
      "541:\tlearn: 184.8455018\ttotal: 1.09s\tremaining: 922ms\n",
      "542:\tlearn: 184.7076539\ttotal: 1.09s\tremaining: 920ms\n",
      "543:\tlearn: 184.5302048\ttotal: 1.09s\tremaining: 918ms\n",
      "544:\tlearn: 184.4557278\ttotal: 1.1s\tremaining: 916ms\n",
      "545:\tlearn: 184.3707010\ttotal: 1.1s\tremaining: 914ms\n",
      "546:\tlearn: 184.2145600\ttotal: 1.1s\tremaining: 912ms\n",
      "547:\tlearn: 184.1373274\ttotal: 1.1s\tremaining: 910ms\n",
      "548:\tlearn: 184.0089141\ttotal: 1.1s\tremaining: 908ms\n",
      "549:\tlearn: 183.8997979\ttotal: 1.11s\tremaining: 906ms\n",
      "550:\tlearn: 183.7837845\ttotal: 1.11s\tremaining: 904ms\n",
      "551:\tlearn: 183.5253187\ttotal: 1.11s\tremaining: 902ms\n",
      "552:\tlearn: 183.4194349\ttotal: 1.11s\tremaining: 899ms\n",
      "553:\tlearn: 183.3164738\ttotal: 1.11s\tremaining: 898ms\n",
      "554:\tlearn: 183.2513462\ttotal: 1.12s\tremaining: 895ms\n",
      "555:\tlearn: 182.8699174\ttotal: 1.12s\tremaining: 893ms\n",
      "556:\tlearn: 182.6939686\ttotal: 1.12s\tremaining: 891ms\n",
      "557:\tlearn: 182.5924185\ttotal: 1.12s\tremaining: 889ms\n",
      "558:\tlearn: 182.5426565\ttotal: 1.12s\tremaining: 887ms\n",
      "559:\tlearn: 182.4520075\ttotal: 1.13s\tremaining: 885ms\n",
      "560:\tlearn: 182.2661707\ttotal: 1.13s\tremaining: 883ms\n",
      "561:\tlearn: 182.0792267\ttotal: 1.13s\tremaining: 881ms\n",
      "562:\tlearn: 181.6125781\ttotal: 1.13s\tremaining: 879ms\n",
      "563:\tlearn: 181.4076453\ttotal: 1.13s\tremaining: 877ms\n",
      "564:\tlearn: 181.2836565\ttotal: 1.14s\tremaining: 875ms\n",
      "565:\tlearn: 181.2329540\ttotal: 1.14s\tremaining: 873ms\n",
      "566:\tlearn: 181.1316754\ttotal: 1.14s\tremaining: 871ms\n",
      "567:\tlearn: 180.9705579\ttotal: 1.14s\tremaining: 869ms\n",
      "568:\tlearn: 180.6299438\ttotal: 1.14s\tremaining: 867ms\n",
      "569:\tlearn: 180.4470642\ttotal: 1.15s\tremaining: 865ms\n",
      "570:\tlearn: 180.3232568\ttotal: 1.15s\tremaining: 863ms\n",
      "571:\tlearn: 180.2754630\ttotal: 1.15s\tremaining: 861ms\n",
      "572:\tlearn: 179.9580479\ttotal: 1.15s\tremaining: 859ms\n",
      "573:\tlearn: 179.7681093\ttotal: 1.15s\tremaining: 857ms\n",
      "574:\tlearn: 179.7243112\ttotal: 1.16s\tremaining: 855ms\n",
      "575:\tlearn: 179.6332586\ttotal: 1.16s\tremaining: 853ms\n",
      "576:\tlearn: 179.4676557\ttotal: 1.16s\tremaining: 851ms\n",
      "577:\tlearn: 179.3765182\ttotal: 1.16s\tremaining: 849ms\n",
      "578:\tlearn: 179.1698449\ttotal: 1.16s\tremaining: 846ms\n",
      "579:\tlearn: 179.0716863\ttotal: 1.17s\tremaining: 844ms\n",
      "580:\tlearn: 178.6509628\ttotal: 1.17s\tremaining: 843ms\n",
      "581:\tlearn: 178.5775861\ttotal: 1.17s\tremaining: 840ms\n",
      "582:\tlearn: 178.5204313\ttotal: 1.17s\tremaining: 838ms\n",
      "583:\tlearn: 178.4250025\ttotal: 1.17s\tremaining: 836ms\n",
      "584:\tlearn: 178.3628041\ttotal: 1.18s\tremaining: 834ms\n",
      "585:\tlearn: 178.2441028\ttotal: 1.18s\tremaining: 832ms\n",
      "586:\tlearn: 178.0773959\ttotal: 1.18s\tremaining: 830ms\n",
      "587:\tlearn: 178.0189435\ttotal: 1.18s\tremaining: 828ms\n",
      "588:\tlearn: 177.9500560\ttotal: 1.18s\tremaining: 827ms\n",
      "589:\tlearn: 177.8330335\ttotal: 1.19s\tremaining: 825ms\n",
      "590:\tlearn: 177.5548293\ttotal: 1.19s\tremaining: 823ms\n",
      "591:\tlearn: 177.4518843\ttotal: 1.19s\tremaining: 821ms\n",
      "592:\tlearn: 177.3422872\ttotal: 1.19s\tremaining: 819ms\n",
      "593:\tlearn: 177.2492864\ttotal: 1.2s\tremaining: 817ms\n",
      "594:\tlearn: 177.1465277\ttotal: 1.2s\tremaining: 815ms\n",
      "595:\tlearn: 177.0159108\ttotal: 1.2s\tremaining: 813ms\n",
      "596:\tlearn: 176.7221892\ttotal: 1.2s\tremaining: 811ms\n",
      "597:\tlearn: 176.5871684\ttotal: 1.2s\tremaining: 809ms\n",
      "598:\tlearn: 176.4941734\ttotal: 1.21s\tremaining: 807ms\n",
      "599:\tlearn: 176.3942659\ttotal: 1.21s\tremaining: 805ms\n",
      "600:\tlearn: 176.3100202\ttotal: 1.21s\tremaining: 803ms\n",
      "601:\tlearn: 176.2052554\ttotal: 1.21s\tremaining: 801ms\n",
      "602:\tlearn: 176.1215779\ttotal: 1.21s\tremaining: 799ms\n",
      "603:\tlearn: 176.0530183\ttotal: 1.22s\tremaining: 797ms\n",
      "604:\tlearn: 176.0064543\ttotal: 1.22s\tremaining: 795ms\n",
      "605:\tlearn: 175.6067212\ttotal: 1.22s\tremaining: 793ms\n",
      "606:\tlearn: 175.5162806\ttotal: 1.22s\tremaining: 791ms\n",
      "607:\tlearn: 175.3781718\ttotal: 1.22s\tremaining: 789ms\n",
      "608:\tlearn: 175.2801539\ttotal: 1.23s\tremaining: 787ms\n",
      "609:\tlearn: 175.1801411\ttotal: 1.23s\tremaining: 785ms\n",
      "610:\tlearn: 175.0426171\ttotal: 1.23s\tremaining: 783ms\n",
      "611:\tlearn: 174.9530304\ttotal: 1.23s\tremaining: 781ms\n",
      "612:\tlearn: 174.8665656\ttotal: 1.23s\tremaining: 779ms\n",
      "613:\tlearn: 174.7947851\ttotal: 1.24s\tremaining: 777ms\n",
      "614:\tlearn: 174.7565790\ttotal: 1.24s\tremaining: 775ms\n",
      "615:\tlearn: 174.6124513\ttotal: 1.24s\tremaining: 773ms\n",
      "616:\tlearn: 174.5090075\ttotal: 1.24s\tremaining: 771ms\n",
      "617:\tlearn: 174.4436937\ttotal: 1.24s\tremaining: 770ms\n",
      "618:\tlearn: 174.2893030\ttotal: 1.25s\tremaining: 768ms\n",
      "619:\tlearn: 173.9264632\ttotal: 1.25s\tremaining: 766ms\n",
      "620:\tlearn: 173.7988010\ttotal: 1.25s\tremaining: 764ms\n",
      "621:\tlearn: 173.6844059\ttotal: 1.25s\tremaining: 762ms\n",
      "622:\tlearn: 173.6312318\ttotal: 1.25s\tremaining: 760ms\n",
      "623:\tlearn: 173.6006717\ttotal: 1.26s\tremaining: 758ms\n",
      "624:\tlearn: 173.5568986\ttotal: 1.26s\tremaining: 756ms\n",
      "625:\tlearn: 173.4759733\ttotal: 1.26s\tremaining: 754ms\n",
      "626:\tlearn: 173.4311437\ttotal: 1.26s\tremaining: 752ms\n",
      "627:\tlearn: 173.2965555\ttotal: 1.27s\tremaining: 751ms\n",
      "628:\tlearn: 173.0784525\ttotal: 1.27s\tremaining: 749ms\n",
      "629:\tlearn: 173.0185626\ttotal: 1.27s\tremaining: 747ms\n",
      "630:\tlearn: 172.7093217\ttotal: 1.27s\tremaining: 745ms\n",
      "631:\tlearn: 172.3814808\ttotal: 1.28s\tremaining: 743ms\n",
      "632:\tlearn: 172.3280136\ttotal: 1.28s\tremaining: 741ms\n",
      "633:\tlearn: 172.2442379\ttotal: 1.28s\tremaining: 739ms\n",
      "634:\tlearn: 171.9314089\ttotal: 1.28s\tremaining: 737ms\n",
      "635:\tlearn: 171.8291114\ttotal: 1.28s\tremaining: 735ms\n",
      "636:\tlearn: 171.7232599\ttotal: 1.29s\tremaining: 733ms\n",
      "637:\tlearn: 171.5963196\ttotal: 1.29s\tremaining: 731ms\n",
      "638:\tlearn: 171.5061987\ttotal: 1.29s\tremaining: 729ms\n",
      "639:\tlearn: 171.3145123\ttotal: 1.29s\tremaining: 727ms\n",
      "640:\tlearn: 171.0748409\ttotal: 1.29s\tremaining: 725ms\n",
      "641:\tlearn: 170.7819551\ttotal: 1.3s\tremaining: 723ms\n",
      "642:\tlearn: 170.6012372\ttotal: 1.3s\tremaining: 721ms\n",
      "643:\tlearn: 170.5618710\ttotal: 1.3s\tremaining: 719ms\n",
      "644:\tlearn: 170.5225357\ttotal: 1.3s\tremaining: 717ms\n",
      "645:\tlearn: 170.2515866\ttotal: 1.3s\tremaining: 715ms\n",
      "646:\tlearn: 170.1094876\ttotal: 1.31s\tremaining: 713ms\n",
      "647:\tlearn: 169.9259118\ttotal: 1.31s\tremaining: 711ms\n",
      "648:\tlearn: 169.8745211\ttotal: 1.31s\tremaining: 709ms\n",
      "649:\tlearn: 169.8163550\ttotal: 1.31s\tremaining: 707ms\n",
      "650:\tlearn: 169.7306789\ttotal: 1.31s\tremaining: 705ms\n",
      "651:\tlearn: 169.6140836\ttotal: 1.32s\tremaining: 703ms\n",
      "652:\tlearn: 169.4401362\ttotal: 1.32s\tremaining: 701ms\n",
      "653:\tlearn: 169.3637107\ttotal: 1.32s\tremaining: 699ms\n",
      "654:\tlearn: 169.2760380\ttotal: 1.32s\tremaining: 697ms\n",
      "655:\tlearn: 169.1172110\ttotal: 1.33s\tremaining: 695ms\n",
      "656:\tlearn: 169.0570935\ttotal: 1.34s\tremaining: 702ms\n",
      "657:\tlearn: 168.8070065\ttotal: 1.35s\tremaining: 700ms\n",
      "658:\tlearn: 168.7313414\ttotal: 1.35s\tremaining: 698ms\n",
      "659:\tlearn: 168.6722582\ttotal: 1.35s\tremaining: 695ms\n",
      "660:\tlearn: 168.4456571\ttotal: 1.35s\tremaining: 693ms\n",
      "661:\tlearn: 168.3295578\ttotal: 1.35s\tremaining: 691ms\n",
      "662:\tlearn: 168.2128631\ttotal: 1.35s\tremaining: 689ms\n",
      "663:\tlearn: 168.1901688\ttotal: 1.36s\tremaining: 687ms\n",
      "664:\tlearn: 168.0713573\ttotal: 1.36s\tremaining: 685ms\n",
      "665:\tlearn: 167.9810000\ttotal: 1.36s\tremaining: 683ms\n",
      "666:\tlearn: 167.8409671\ttotal: 1.36s\tremaining: 681ms\n",
      "667:\tlearn: 167.7887175\ttotal: 1.36s\tremaining: 679ms\n",
      "668:\tlearn: 167.6815464\ttotal: 1.37s\tremaining: 676ms\n",
      "669:\tlearn: 167.5945011\ttotal: 1.37s\tremaining: 674ms\n",
      "670:\tlearn: 167.4785169\ttotal: 1.37s\tremaining: 672ms\n",
      "671:\tlearn: 167.4018624\ttotal: 1.37s\tremaining: 670ms\n",
      "672:\tlearn: 167.3584972\ttotal: 1.38s\tremaining: 668ms\n",
      "673:\tlearn: 167.3055164\ttotal: 1.38s\tremaining: 666ms\n",
      "674:\tlearn: 167.2040967\ttotal: 1.38s\tremaining: 664ms\n",
      "675:\tlearn: 167.1392237\ttotal: 1.38s\tremaining: 662ms\n",
      "676:\tlearn: 166.9875424\ttotal: 1.38s\tremaining: 660ms\n",
      "677:\tlearn: 166.9044979\ttotal: 1.39s\tremaining: 658ms\n",
      "678:\tlearn: 166.8616655\ttotal: 1.39s\tremaining: 656ms\n",
      "679:\tlearn: 166.6170257\ttotal: 1.39s\tremaining: 654ms\n",
      "680:\tlearn: 166.5241198\ttotal: 1.39s\tremaining: 652ms\n",
      "681:\tlearn: 166.4671660\ttotal: 1.39s\tremaining: 650ms\n",
      "682:\tlearn: 166.2693512\ttotal: 1.4s\tremaining: 648ms\n",
      "683:\tlearn: 166.1654879\ttotal: 1.4s\tremaining: 646ms\n",
      "684:\tlearn: 166.1207521\ttotal: 1.4s\tremaining: 644ms\n",
      "685:\tlearn: 165.9140783\ttotal: 1.4s\tremaining: 642ms\n",
      "686:\tlearn: 165.8226484\ttotal: 1.4s\tremaining: 640ms\n",
      "687:\tlearn: 165.7625027\ttotal: 1.41s\tremaining: 637ms\n",
      "688:\tlearn: 165.7142306\ttotal: 1.41s\tremaining: 635ms\n",
      "689:\tlearn: 165.5969462\ttotal: 1.41s\tremaining: 633ms\n",
      "690:\tlearn: 165.4911369\ttotal: 1.41s\tremaining: 631ms\n",
      "691:\tlearn: 165.4131040\ttotal: 1.41s\tremaining: 629ms\n",
      "692:\tlearn: 165.3199189\ttotal: 1.42s\tremaining: 627ms\n",
      "693:\tlearn: 165.2814750\ttotal: 1.42s\tremaining: 625ms\n",
      "694:\tlearn: 165.2343873\ttotal: 1.42s\tremaining: 623ms\n",
      "695:\tlearn: 165.1536674\ttotal: 1.42s\tremaining: 621ms\n",
      "696:\tlearn: 165.1115181\ttotal: 1.43s\tremaining: 619ms\n",
      "697:\tlearn: 165.0029120\ttotal: 1.43s\tremaining: 618ms\n",
      "698:\tlearn: 164.8627734\ttotal: 1.43s\tremaining: 616ms\n",
      "699:\tlearn: 164.8300360\ttotal: 1.43s\tremaining: 614ms\n",
      "700:\tlearn: 164.7307634\ttotal: 1.43s\tremaining: 612ms\n",
      "701:\tlearn: 164.6559871\ttotal: 1.44s\tremaining: 610ms\n",
      "702:\tlearn: 164.4184199\ttotal: 1.48s\tremaining: 623ms\n",
      "703:\tlearn: 164.3048468\ttotal: 1.48s\tremaining: 621ms\n",
      "704:\tlearn: 164.2325208\ttotal: 1.48s\tremaining: 619ms\n",
      "705:\tlearn: 164.1338048\ttotal: 1.48s\tremaining: 617ms\n",
      "706:\tlearn: 164.0082710\ttotal: 1.49s\tremaining: 616ms\n",
      "707:\tlearn: 163.9356453\ttotal: 1.49s\tremaining: 614ms\n",
      "708:\tlearn: 163.8188318\ttotal: 1.49s\tremaining: 612ms\n",
      "709:\tlearn: 163.7337137\ttotal: 1.49s\tremaining: 610ms\n",
      "710:\tlearn: 163.6619444\ttotal: 1.5s\tremaining: 608ms\n",
      "711:\tlearn: 163.5805181\ttotal: 1.5s\tremaining: 606ms\n",
      "712:\tlearn: 163.5581415\ttotal: 1.5s\tremaining: 604ms\n",
      "713:\tlearn: 163.5152973\ttotal: 1.5s\tremaining: 602ms\n",
      "714:\tlearn: 163.4313481\ttotal: 1.5s\tremaining: 600ms\n",
      "715:\tlearn: 163.3615544\ttotal: 1.51s\tremaining: 598ms\n",
      "716:\tlearn: 163.3072374\ttotal: 1.51s\tremaining: 595ms\n",
      "717:\tlearn: 163.2105703\ttotal: 1.51s\tremaining: 593ms\n",
      "718:\tlearn: 163.1733623\ttotal: 1.51s\tremaining: 591ms\n",
      "719:\tlearn: 163.0289265\ttotal: 1.51s\tremaining: 589ms\n",
      "720:\tlearn: 162.9275598\ttotal: 1.52s\tremaining: 587ms\n",
      "721:\tlearn: 162.8486374\ttotal: 1.52s\tremaining: 585ms\n",
      "722:\tlearn: 162.7526059\ttotal: 1.52s\tremaining: 583ms\n",
      "723:\tlearn: 162.6467821\ttotal: 1.52s\tremaining: 581ms\n",
      "724:\tlearn: 162.5854118\ttotal: 1.52s\tremaining: 579ms\n",
      "725:\tlearn: 162.5543238\ttotal: 1.53s\tremaining: 577ms\n",
      "726:\tlearn: 162.4611362\ttotal: 1.53s\tremaining: 575ms\n",
      "727:\tlearn: 162.4181192\ttotal: 1.53s\tremaining: 572ms\n",
      "728:\tlearn: 162.2364039\ttotal: 1.53s\tremaining: 570ms\n",
      "729:\tlearn: 162.2040456\ttotal: 1.53s\tremaining: 568ms\n",
      "730:\tlearn: 162.1702158\ttotal: 1.54s\tremaining: 566ms\n",
      "731:\tlearn: 162.1088929\ttotal: 1.54s\tremaining: 564ms\n",
      "732:\tlearn: 162.0681736\ttotal: 1.54s\tremaining: 562ms\n",
      "733:\tlearn: 162.0031960\ttotal: 1.54s\tremaining: 559ms\n",
      "734:\tlearn: 161.9122192\ttotal: 1.54s\tremaining: 557ms\n",
      "735:\tlearn: 161.7268097\ttotal: 1.55s\tremaining: 555ms\n",
      "736:\tlearn: 161.6521258\ttotal: 1.55s\tremaining: 553ms\n",
      "737:\tlearn: 161.5493249\ttotal: 1.55s\tremaining: 551ms\n",
      "738:\tlearn: 161.3052113\ttotal: 1.55s\tremaining: 549ms\n",
      "739:\tlearn: 161.2433401\ttotal: 1.55s\tremaining: 546ms\n",
      "740:\tlearn: 161.1555625\ttotal: 1.56s\tremaining: 544ms\n",
      "741:\tlearn: 161.0629965\ttotal: 1.56s\tremaining: 542ms\n",
      "742:\tlearn: 160.9952584\ttotal: 1.56s\tremaining: 540ms\n",
      "743:\tlearn: 160.9512438\ttotal: 1.56s\tremaining: 538ms\n",
      "744:\tlearn: 160.8439984\ttotal: 1.56s\tremaining: 536ms\n",
      "745:\tlearn: 160.7958584\ttotal: 1.57s\tremaining: 534ms\n",
      "746:\tlearn: 160.7676277\ttotal: 1.57s\tremaining: 532ms\n",
      "747:\tlearn: 160.7247151\ttotal: 1.57s\tremaining: 530ms\n",
      "748:\tlearn: 160.6324705\ttotal: 1.57s\tremaining: 528ms\n",
      "749:\tlearn: 160.5365196\ttotal: 1.58s\tremaining: 525ms\n",
      "750:\tlearn: 160.4542285\ttotal: 1.58s\tremaining: 523ms\n",
      "751:\tlearn: 160.3761004\ttotal: 1.58s\tremaining: 521ms\n",
      "752:\tlearn: 160.2514253\ttotal: 1.58s\tremaining: 519ms\n",
      "753:\tlearn: 160.1342161\ttotal: 1.58s\tremaining: 517ms\n",
      "754:\tlearn: 160.0027967\ttotal: 1.59s\tremaining: 515ms\n",
      "755:\tlearn: 159.9148319\ttotal: 1.59s\tremaining: 513ms\n",
      "756:\tlearn: 159.8477841\ttotal: 1.59s\tremaining: 511ms\n",
      "757:\tlearn: 159.7873019\ttotal: 1.59s\tremaining: 509ms\n",
      "758:\tlearn: 159.7648479\ttotal: 1.59s\tremaining: 507ms\n",
      "759:\tlearn: 159.6478743\ttotal: 1.6s\tremaining: 504ms\n",
      "760:\tlearn: 159.6303605\ttotal: 1.6s\tremaining: 502ms\n",
      "761:\tlearn: 159.5196502\ttotal: 1.6s\tremaining: 500ms\n",
      "762:\tlearn: 159.4682221\ttotal: 1.6s\tremaining: 498ms\n",
      "763:\tlearn: 159.3797107\ttotal: 1.6s\tremaining: 496ms\n",
      "764:\tlearn: 159.2707667\ttotal: 1.61s\tremaining: 494ms\n",
      "765:\tlearn: 159.1662255\ttotal: 1.61s\tremaining: 491ms\n",
      "766:\tlearn: 159.0609529\ttotal: 1.61s\tremaining: 489ms\n",
      "767:\tlearn: 159.0035945\ttotal: 1.61s\tremaining: 487ms\n",
      "768:\tlearn: 158.8874282\ttotal: 1.61s\tremaining: 485ms\n",
      "769:\tlearn: 158.8273876\ttotal: 1.62s\tremaining: 483ms\n",
      "770:\tlearn: 158.7983134\ttotal: 1.62s\tremaining: 481ms\n",
      "771:\tlearn: 158.7701046\ttotal: 1.62s\tremaining: 479ms\n",
      "772:\tlearn: 158.6666719\ttotal: 1.62s\tremaining: 477ms\n",
      "773:\tlearn: 158.5724716\ttotal: 1.62s\tremaining: 474ms\n",
      "774:\tlearn: 158.4948713\ttotal: 1.63s\tremaining: 472ms\n",
      "775:\tlearn: 158.3649905\ttotal: 1.63s\tremaining: 470ms\n",
      "776:\tlearn: 158.1230905\ttotal: 1.63s\tremaining: 468ms\n",
      "777:\tlearn: 157.9215657\ttotal: 1.63s\tremaining: 466ms\n",
      "778:\tlearn: 157.8854236\ttotal: 1.64s\tremaining: 464ms\n",
      "779:\tlearn: 157.8239934\ttotal: 1.64s\tremaining: 462ms\n",
      "780:\tlearn: 157.7467638\ttotal: 1.64s\tremaining: 460ms\n",
      "781:\tlearn: 157.7112242\ttotal: 1.64s\tremaining: 458ms\n",
      "782:\tlearn: 157.6565702\ttotal: 1.65s\tremaining: 456ms\n",
      "783:\tlearn: 157.6002921\ttotal: 1.65s\tremaining: 454ms\n",
      "784:\tlearn: 157.5577802\ttotal: 1.65s\tremaining: 452ms\n",
      "785:\tlearn: 157.4612951\ttotal: 1.65s\tremaining: 450ms\n",
      "786:\tlearn: 157.2719289\ttotal: 1.65s\tremaining: 448ms\n",
      "787:\tlearn: 157.1427761\ttotal: 1.66s\tremaining: 445ms\n",
      "788:\tlearn: 157.0861980\ttotal: 1.66s\tremaining: 443ms\n",
      "789:\tlearn: 157.0002065\ttotal: 1.66s\tremaining: 441ms\n",
      "790:\tlearn: 156.7352429\ttotal: 1.66s\tremaining: 439ms\n",
      "791:\tlearn: 156.6865754\ttotal: 1.66s\tremaining: 437ms\n",
      "792:\tlearn: 156.5878933\ttotal: 1.67s\tremaining: 435ms\n",
      "793:\tlearn: 156.5517580\ttotal: 1.67s\tremaining: 433ms\n",
      "794:\tlearn: 156.4973333\ttotal: 1.67s\tremaining: 431ms\n",
      "795:\tlearn: 156.4033863\ttotal: 1.67s\tremaining: 428ms\n",
      "796:\tlearn: 156.2546870\ttotal: 1.67s\tremaining: 426ms\n",
      "797:\tlearn: 156.1571184\ttotal: 1.68s\tremaining: 424ms\n",
      "798:\tlearn: 156.1213244\ttotal: 1.68s\tremaining: 422ms\n",
      "799:\tlearn: 156.0318365\ttotal: 1.68s\tremaining: 420ms\n",
      "800:\tlearn: 155.9823622\ttotal: 1.68s\tremaining: 418ms\n",
      "801:\tlearn: 155.9469944\ttotal: 1.68s\tremaining: 416ms\n",
      "802:\tlearn: 155.8797442\ttotal: 1.69s\tremaining: 414ms\n",
      "803:\tlearn: 155.6286881\ttotal: 1.69s\tremaining: 412ms\n",
      "804:\tlearn: 155.5904120\ttotal: 1.69s\tremaining: 410ms\n",
      "805:\tlearn: 155.4828594\ttotal: 1.69s\tremaining: 407ms\n",
      "806:\tlearn: 155.3055529\ttotal: 1.69s\tremaining: 405ms\n",
      "807:\tlearn: 155.2714655\ttotal: 1.7s\tremaining: 403ms\n",
      "808:\tlearn: 155.0642917\ttotal: 1.7s\tremaining: 401ms\n",
      "809:\tlearn: 155.0427063\ttotal: 1.7s\tremaining: 399ms\n",
      "810:\tlearn: 155.0168010\ttotal: 1.7s\tremaining: 397ms\n",
      "811:\tlearn: 154.8646888\ttotal: 1.7s\tremaining: 394ms\n",
      "812:\tlearn: 154.8383484\ttotal: 1.71s\tremaining: 392ms\n",
      "813:\tlearn: 154.7862148\ttotal: 1.71s\tremaining: 390ms\n",
      "814:\tlearn: 154.6680707\ttotal: 1.71s\tremaining: 388ms\n",
      "815:\tlearn: 154.5606466\ttotal: 1.71s\tremaining: 386ms\n",
      "816:\tlearn: 154.5194281\ttotal: 1.71s\tremaining: 384ms\n",
      "817:\tlearn: 154.3243313\ttotal: 1.72s\tremaining: 382ms\n",
      "818:\tlearn: 154.2795410\ttotal: 1.72s\tremaining: 380ms\n",
      "819:\tlearn: 154.2599369\ttotal: 1.72s\tremaining: 377ms\n",
      "820:\tlearn: 154.1289871\ttotal: 1.72s\tremaining: 375ms\n",
      "821:\tlearn: 154.0099010\ttotal: 1.72s\tremaining: 373ms\n",
      "822:\tlearn: 153.9241951\ttotal: 1.73s\tremaining: 371ms\n",
      "823:\tlearn: 153.8733684\ttotal: 1.73s\tremaining: 369ms\n",
      "824:\tlearn: 153.6837457\ttotal: 1.73s\tremaining: 367ms\n",
      "825:\tlearn: 153.6061310\ttotal: 1.73s\tremaining: 365ms\n",
      "826:\tlearn: 153.5781190\ttotal: 1.73s\tremaining: 363ms\n",
      "827:\tlearn: 153.3768011\ttotal: 1.73s\tremaining: 360ms\n",
      "828:\tlearn: 153.2645627\ttotal: 1.74s\tremaining: 358ms\n",
      "829:\tlearn: 153.2188068\ttotal: 1.74s\tremaining: 356ms\n",
      "830:\tlearn: 153.0782888\ttotal: 1.74s\tremaining: 354ms\n",
      "831:\tlearn: 152.9816882\ttotal: 1.74s\tremaining: 352ms\n",
      "832:\tlearn: 152.8737188\ttotal: 1.74s\tremaining: 350ms\n",
      "833:\tlearn: 152.7954066\ttotal: 1.75s\tremaining: 348ms\n",
      "834:\tlearn: 152.7241030\ttotal: 1.75s\tremaining: 346ms\n",
      "835:\tlearn: 152.6181944\ttotal: 1.75s\tremaining: 343ms\n",
      "836:\tlearn: 152.5891066\ttotal: 1.75s\tremaining: 341ms\n",
      "837:\tlearn: 152.4654034\ttotal: 1.75s\tremaining: 339ms\n",
      "838:\tlearn: 152.4262725\ttotal: 1.76s\tremaining: 337ms\n",
      "839:\tlearn: 152.4096095\ttotal: 1.76s\tremaining: 335ms\n",
      "840:\tlearn: 152.3665716\ttotal: 1.76s\tremaining: 333ms\n",
      "841:\tlearn: 152.2902344\ttotal: 1.76s\tremaining: 331ms\n",
      "842:\tlearn: 152.2583184\ttotal: 1.76s\tremaining: 329ms\n",
      "843:\tlearn: 152.2184024\ttotal: 1.77s\tremaining: 327ms\n",
      "844:\tlearn: 152.1892037\ttotal: 1.77s\tremaining: 325ms\n",
      "845:\tlearn: 152.1180713\ttotal: 1.77s\tremaining: 323ms\n",
      "846:\tlearn: 152.0633373\ttotal: 1.77s\tremaining: 321ms\n",
      "847:\tlearn: 152.0391694\ttotal: 1.78s\tremaining: 318ms\n",
      "848:\tlearn: 151.9434015\ttotal: 1.78s\tremaining: 316ms\n",
      "849:\tlearn: 151.9283852\ttotal: 1.78s\tremaining: 314ms\n",
      "850:\tlearn: 151.8610574\ttotal: 1.78s\tremaining: 312ms\n",
      "851:\tlearn: 151.7478021\ttotal: 1.79s\tremaining: 310ms\n",
      "852:\tlearn: 151.6355848\ttotal: 1.79s\tremaining: 308ms\n",
      "853:\tlearn: 151.5586148\ttotal: 1.79s\tremaining: 306ms\n",
      "854:\tlearn: 151.4624636\ttotal: 1.79s\tremaining: 304ms\n",
      "855:\tlearn: 151.3946459\ttotal: 1.79s\tremaining: 302ms\n",
      "856:\tlearn: 151.3653954\ttotal: 1.8s\tremaining: 300ms\n",
      "857:\tlearn: 151.3411819\ttotal: 1.8s\tremaining: 298ms\n",
      "858:\tlearn: 151.3266324\ttotal: 1.8s\tremaining: 296ms\n",
      "859:\tlearn: 151.2422314\ttotal: 1.8s\tremaining: 294ms\n",
      "860:\tlearn: 151.1148207\ttotal: 1.81s\tremaining: 292ms\n",
      "861:\tlearn: 151.0055690\ttotal: 1.81s\tremaining: 290ms\n",
      "862:\tlearn: 150.7957546\ttotal: 1.81s\tremaining: 288ms\n",
      "863:\tlearn: 150.7701276\ttotal: 1.81s\tremaining: 286ms\n",
      "864:\tlearn: 150.7416654\ttotal: 1.82s\tremaining: 283ms\n",
      "865:\tlearn: 150.5594040\ttotal: 1.82s\tremaining: 281ms\n",
      "866:\tlearn: 150.4668628\ttotal: 1.82s\tremaining: 279ms\n",
      "867:\tlearn: 150.4224296\ttotal: 1.82s\tremaining: 277ms\n",
      "868:\tlearn: 150.3858925\ttotal: 1.82s\tremaining: 275ms\n",
      "869:\tlearn: 150.3282600\ttotal: 1.83s\tremaining: 273ms\n",
      "870:\tlearn: 150.3022943\ttotal: 1.83s\tremaining: 271ms\n",
      "871:\tlearn: 150.2410316\ttotal: 1.83s\tremaining: 269ms\n",
      "872:\tlearn: 150.1815757\ttotal: 1.83s\tremaining: 267ms\n",
      "873:\tlearn: 150.1284395\ttotal: 1.83s\tremaining: 265ms\n",
      "874:\tlearn: 150.0201607\ttotal: 1.84s\tremaining: 262ms\n",
      "875:\tlearn: 149.9624095\ttotal: 1.84s\tremaining: 260ms\n",
      "876:\tlearn: 149.9269560\ttotal: 1.84s\tremaining: 258ms\n",
      "877:\tlearn: 149.9128326\ttotal: 1.84s\tremaining: 256ms\n",
      "878:\tlearn: 149.8224985\ttotal: 1.84s\tremaining: 254ms\n",
      "879:\tlearn: 149.7830320\ttotal: 1.85s\tremaining: 252ms\n",
      "880:\tlearn: 149.6607242\ttotal: 1.85s\tremaining: 250ms\n",
      "881:\tlearn: 149.5486273\ttotal: 1.85s\tremaining: 248ms\n",
      "882:\tlearn: 149.4868142\ttotal: 1.85s\tremaining: 246ms\n",
      "883:\tlearn: 149.4585412\ttotal: 1.85s\tremaining: 243ms\n",
      "884:\tlearn: 149.3872371\ttotal: 1.86s\tremaining: 241ms\n",
      "885:\tlearn: 149.2683224\ttotal: 1.86s\tremaining: 239ms\n",
      "886:\tlearn: 149.2061281\ttotal: 1.86s\tremaining: 237ms\n",
      "887:\tlearn: 149.1706285\ttotal: 1.86s\tremaining: 235ms\n",
      "888:\tlearn: 149.0903129\ttotal: 1.86s\tremaining: 233ms\n",
      "889:\tlearn: 149.0651440\ttotal: 1.87s\tremaining: 231ms\n",
      "890:\tlearn: 148.9666582\ttotal: 1.87s\tremaining: 229ms\n",
      "891:\tlearn: 148.8709757\ttotal: 1.87s\tremaining: 227ms\n",
      "892:\tlearn: 148.7293852\ttotal: 1.87s\tremaining: 224ms\n",
      "893:\tlearn: 148.7120327\ttotal: 1.88s\tremaining: 222ms\n",
      "894:\tlearn: 148.5689106\ttotal: 1.88s\tremaining: 220ms\n",
      "895:\tlearn: 148.5375588\ttotal: 1.88s\tremaining: 218ms\n",
      "896:\tlearn: 148.4903801\ttotal: 1.88s\tremaining: 216ms\n",
      "897:\tlearn: 148.4521559\ttotal: 1.88s\tremaining: 214ms\n",
      "898:\tlearn: 148.3826818\ttotal: 1.89s\tremaining: 212ms\n",
      "899:\tlearn: 148.3288046\ttotal: 1.89s\tremaining: 210ms\n",
      "900:\tlearn: 148.3156184\ttotal: 1.89s\tremaining: 208ms\n",
      "901:\tlearn: 148.2277323\ttotal: 1.89s\tremaining: 206ms\n",
      "902:\tlearn: 148.1550738\ttotal: 1.89s\tremaining: 203ms\n",
      "903:\tlearn: 148.1207744\ttotal: 1.9s\tremaining: 201ms\n",
      "904:\tlearn: 148.0145380\ttotal: 1.9s\tremaining: 199ms\n",
      "905:\tlearn: 147.9304825\ttotal: 1.9s\tremaining: 197ms\n",
      "906:\tlearn: 147.8699308\ttotal: 1.9s\tremaining: 195ms\n",
      "907:\tlearn: 147.8451696\ttotal: 1.9s\tremaining: 193ms\n",
      "908:\tlearn: 147.7620253\ttotal: 1.91s\tremaining: 191ms\n",
      "909:\tlearn: 147.6439593\ttotal: 1.91s\tremaining: 189ms\n",
      "910:\tlearn: 147.5437618\ttotal: 1.91s\tremaining: 187ms\n",
      "911:\tlearn: 147.5168693\ttotal: 1.91s\tremaining: 184ms\n",
      "912:\tlearn: 147.4457600\ttotal: 1.91s\tremaining: 182ms\n",
      "913:\tlearn: 147.3735916\ttotal: 1.92s\tremaining: 180ms\n",
      "914:\tlearn: 147.2814725\ttotal: 1.92s\tremaining: 178ms\n",
      "915:\tlearn: 147.2318029\ttotal: 1.92s\tremaining: 176ms\n",
      "916:\tlearn: 147.1485939\ttotal: 1.92s\tremaining: 174ms\n",
      "917:\tlearn: 147.0919342\ttotal: 1.92s\tremaining: 172ms\n",
      "918:\tlearn: 147.0631714\ttotal: 1.93s\tremaining: 170ms\n",
      "919:\tlearn: 147.0147193\ttotal: 1.93s\tremaining: 168ms\n",
      "920:\tlearn: 146.9840579\ttotal: 1.93s\tremaining: 165ms\n",
      "921:\tlearn: 146.7983688\ttotal: 1.93s\tremaining: 163ms\n",
      "922:\tlearn: 146.7510641\ttotal: 1.93s\tremaining: 161ms\n",
      "923:\tlearn: 146.7296417\ttotal: 1.93s\tremaining: 159ms\n",
      "924:\tlearn: 146.6761603\ttotal: 1.94s\tremaining: 157ms\n",
      "925:\tlearn: 146.6011738\ttotal: 1.94s\tremaining: 155ms\n",
      "926:\tlearn: 146.5760630\ttotal: 1.94s\tremaining: 153ms\n",
      "927:\tlearn: 146.5167324\ttotal: 1.94s\tremaining: 151ms\n",
      "928:\tlearn: 146.4763815\ttotal: 1.94s\tremaining: 149ms\n",
      "929:\tlearn: 146.4337554\ttotal: 1.95s\tremaining: 147ms\n",
      "930:\tlearn: 146.3934540\ttotal: 1.95s\tremaining: 145ms\n",
      "931:\tlearn: 146.3107782\ttotal: 1.95s\tremaining: 142ms\n",
      "932:\tlearn: 146.2738625\ttotal: 1.95s\tremaining: 140ms\n",
      "933:\tlearn: 146.2213764\ttotal: 1.96s\tremaining: 138ms\n",
      "934:\tlearn: 146.1721657\ttotal: 1.96s\tremaining: 136ms\n",
      "935:\tlearn: 146.1433116\ttotal: 1.96s\tremaining: 134ms\n",
      "936:\tlearn: 146.0767985\ttotal: 1.96s\tremaining: 132ms\n",
      "937:\tlearn: 145.8863358\ttotal: 1.97s\tremaining: 130ms\n",
      "938:\tlearn: 145.8280297\ttotal: 1.97s\tremaining: 128ms\n",
      "939:\tlearn: 145.8020437\ttotal: 1.97s\tremaining: 126ms\n",
      "940:\tlearn: 145.7538893\ttotal: 1.97s\tremaining: 124ms\n",
      "941:\tlearn: 145.7224602\ttotal: 1.98s\tremaining: 122ms\n",
      "942:\tlearn: 145.6936383\ttotal: 1.98s\tremaining: 120ms\n",
      "943:\tlearn: 145.6355671\ttotal: 1.98s\tremaining: 117ms\n",
      "944:\tlearn: 145.5799247\ttotal: 1.98s\tremaining: 115ms\n",
      "945:\tlearn: 145.5484080\ttotal: 1.98s\tremaining: 113ms\n",
      "946:\tlearn: 145.4629461\ttotal: 1.99s\tremaining: 111ms\n",
      "947:\tlearn: 145.2775744\ttotal: 1.99s\tremaining: 109ms\n",
      "948:\tlearn: 145.1046997\ttotal: 1.99s\tremaining: 107ms\n",
      "949:\tlearn: 144.9537583\ttotal: 1.99s\tremaining: 105ms\n",
      "950:\tlearn: 144.9222816\ttotal: 2s\tremaining: 103ms\n",
      "951:\tlearn: 144.8686209\ttotal: 2s\tremaining: 101ms\n",
      "952:\tlearn: 144.8133001\ttotal: 2s\tremaining: 98.7ms\n",
      "953:\tlearn: 144.6363181\ttotal: 2s\tremaining: 96.6ms\n",
      "954:\tlearn: 144.6154790\ttotal: 2s\tremaining: 94.5ms\n",
      "955:\tlearn: 144.5817946\ttotal: 2.01s\tremaining: 92.4ms\n",
      "956:\tlearn: 144.5551860\ttotal: 2.01s\tremaining: 90.3ms\n",
      "957:\tlearn: 144.5292209\ttotal: 2.01s\tremaining: 88.2ms\n",
      "958:\tlearn: 144.5043236\ttotal: 2.01s\tremaining: 86.1ms\n",
      "959:\tlearn: 144.4521865\ttotal: 2.02s\tremaining: 84ms\n",
      "960:\tlearn: 144.3801179\ttotal: 2.02s\tremaining: 81.9ms\n",
      "961:\tlearn: 144.3577504\ttotal: 2.02s\tremaining: 79.8ms\n",
      "962:\tlearn: 144.3275168\ttotal: 2.02s\tremaining: 77.7ms\n",
      "963:\tlearn: 144.1551721\ttotal: 2.02s\tremaining: 75.6ms\n",
      "964:\tlearn: 144.1372942\ttotal: 2.02s\tremaining: 73.5ms\n",
      "965:\tlearn: 144.1225271\ttotal: 2.03s\tremaining: 71.4ms\n",
      "966:\tlearn: 144.0494796\ttotal: 2.03s\tremaining: 69.3ms\n",
      "967:\tlearn: 144.0319474\ttotal: 2.03s\tremaining: 67.2ms\n",
      "968:\tlearn: 143.9820802\ttotal: 2.03s\tremaining: 65ms\n",
      "969:\tlearn: 143.9547216\ttotal: 2.04s\tremaining: 62.9ms\n",
      "970:\tlearn: 143.9295493\ttotal: 2.04s\tremaining: 60.8ms\n",
      "971:\tlearn: 143.9046238\ttotal: 2.04s\tremaining: 58.7ms\n",
      "972:\tlearn: 143.8544955\ttotal: 2.04s\tremaining: 56.6ms\n",
      "973:\tlearn: 143.8027059\ttotal: 2.04s\tremaining: 54.5ms\n",
      "974:\tlearn: 143.7284653\ttotal: 2.04s\tremaining: 52.4ms\n",
      "975:\tlearn: 143.6481026\ttotal: 2.05s\tremaining: 50.3ms\n",
      "976:\tlearn: 143.5213259\ttotal: 2.05s\tremaining: 48.2ms\n",
      "977:\tlearn: 143.4944280\ttotal: 2.05s\tremaining: 46.1ms\n",
      "978:\tlearn: 143.4478048\ttotal: 2.05s\tremaining: 44ms\n",
      "979:\tlearn: 143.2669774\ttotal: 2.05s\tremaining: 41.9ms\n",
      "980:\tlearn: 143.2005661\ttotal: 2.06s\tremaining: 39.8ms\n",
      "981:\tlearn: 143.1535175\ttotal: 2.06s\tremaining: 37.7ms\n",
      "982:\tlearn: 143.1115850\ttotal: 2.06s\tremaining: 35.6ms\n",
      "983:\tlearn: 143.0456374\ttotal: 2.06s\tremaining: 33.5ms\n",
      "984:\tlearn: 143.0218781\ttotal: 2.06s\tremaining: 31.4ms\n",
      "985:\tlearn: 142.8677113\ttotal: 2.07s\tremaining: 29.3ms\n",
      "986:\tlearn: 142.8085426\ttotal: 2.07s\tremaining: 27.2ms\n",
      "987:\tlearn: 142.7454198\ttotal: 2.07s\tremaining: 25.1ms\n",
      "988:\tlearn: 142.6932598\ttotal: 2.07s\tremaining: 23ms\n",
      "989:\tlearn: 142.5272385\ttotal: 2.07s\tremaining: 21ms\n",
      "990:\tlearn: 142.4026155\ttotal: 2.08s\tremaining: 18.9ms\n",
      "991:\tlearn: 142.3568897\ttotal: 2.08s\tremaining: 16.8ms\n",
      "992:\tlearn: 142.3031606\ttotal: 2.08s\tremaining: 14.7ms\n",
      "993:\tlearn: 142.2783887\ttotal: 2.08s\tremaining: 12.6ms\n",
      "994:\tlearn: 142.2482693\ttotal: 2.08s\tremaining: 10.5ms\n",
      "995:\tlearn: 142.1858821\ttotal: 2.09s\tremaining: 8.38ms\n",
      "996:\tlearn: 142.1396414\ttotal: 2.09s\tremaining: 6.29ms\n",
      "997:\tlearn: 142.0509015\ttotal: 2.09s\tremaining: 4.19ms\n",
      "998:\tlearn: 141.9863835\ttotal: 2.09s\tremaining: 2.1ms\n",
      "999:\tlearn: 141.9729385\ttotal: 2.09s\tremaining: 0us\n"
     ]
    }
   ],
   "source": [
    "# Train all 7 models on x_train and y_train\n",
    "lrmodel=LinearRegression().fit(x_train,y_train)\n",
    "dt_model = DecisionTreeRegressor().fit(x_train,y_train)\n",
    "rf_model=RandomForestRegressor().fit(x_train,y_train)\n",
    "gbm_model=GradientBoostingRegressor().fit(x_train,y_train)\n",
    "lgbm_model=LGBMRegressor().fit(x_train,y_train)\n",
    "xgb_model= XGBRegressor().fit(x_train,y_train)\n",
    "catb_model= CatBoostRegressor().fit(x_train,y_train)"
   ]
  },
  {
   "cell_type": "code",
   "execution_count": 27,
   "id": "3cf2d25d-2b92-4cce-976d-7f4b32e5ed08",
   "metadata": {},
   "outputs": [],
   "source": [
    "#Evaluating Models"
   ]
  },
  {
   "cell_type": "code",
   "execution_count": 78,
   "id": "dea769ee-fb39-43d9-9c2a-dc33020b697e",
   "metadata": {},
   "outputs": [],
   "source": [
    "# define function to evaluate all these 7 models\n",
    "def evaluate_model(model,x_test,y_test):\n",
    "    prediction=model.predict(x_test)\n",
    "    print(\"Mean Absolute Error:\",mean_absolute_error(y_test,prediction))\n",
    "    print(\"Mean Absolute Percentage Error:\",mean_absolute_percentage_error(y_test,prediction))\n",
    "    print(\"Mean Squared Error:\",mean_squared_error(y_test,prediction))\n",
    "    print(\"Root Mean Squared Error:\",np.sqrt(mean_squared_error(y_test,prediction)))\n",
    "    print(\"R2 Score:\",r2_score(y_test,prediction))"
   ]
  },
  {
   "cell_type": "code",
   "execution_count": 79,
   "id": "94be7ed8-db5c-449e-8e59-ae157c438a13",
   "metadata": {},
   "outputs": [
    {
     "name": "stdout",
     "output_type": "stream",
     "text": [
      "LR_Model:\n",
      "Mean Absolute Error: 1033.5600166932375\n",
      "Mean Absolute Percentage Error: 0.22618683530376416\n",
      "Mean Squared Error: 2689328.502607846\n",
      "Root Mean Squared Error: 1639.9172243158635\n",
      "R2 Score: 0.9748827595900104\n",
      "None\n",
      "\n",
      "DT_Model:\n",
      "Mean Absolute Error: 39.49757190542444\n",
      "Mean Absolute Percentage Error: 0.00304833315919824\n",
      "Mean Squared Error: 185114.50130311953\n",
      "Root Mean Squared Error: 430.2493478241652\n",
      "R2 Score: 0.9982711054346477\n",
      "None\n",
      "\n",
      "RF_Model:\n",
      "Mean Absolute Error: 36.06064773064614\n",
      "Mean Absolute Percentage Error: 0.0024409648191995753\n",
      "Mean Squared Error: 111097.12179525678\n",
      "Root Mean Squared Error: 333.31234869901954\n",
      "R2 Score: 0.9989623978200196\n",
      "None\n",
      "\n",
      "GBM_Model:\n",
      "Mean Absolute Error: 191.22063451618115\n",
      "Mean Absolute Percentage Error: 0.01785937359478552\n",
      "Mean Squared Error: 107934.53204981169\n",
      "Root Mean Squared Error: 328.53391308936693\n",
      "R2 Score: 0.9989919351290086\n",
      "None\n",
      "\n",
      "LGBM_Model:\n",
      "Mean Absolute Error: 109.76721305811046\n",
      "Mean Absolute Percentage Error: 0.009615609957063419\n",
      "Mean Squared Error: 119801.12993299462\n",
      "Root Mean Squared Error: 346.1229982722827\n",
      "R2 Score: 0.9988811059046905\n",
      "None\n",
      "\n",
      "XGB_Model:\n",
      "Mean Absolute Error: 72.16973439315495\n",
      "Mean Absolute Percentage Error: 0.0064453330486322884\n",
      "Mean Squared Error: 78272.13841828585\n",
      "Root Mean Squared Error: 279.7715825781558\n",
      "R2 Score: 0.9992689698874089\n",
      "None\n",
      "\n",
      "CatBoost_Model:\n",
      "Mean Absolute Error: 102.3693476158182\n",
      "Mean Absolute Percentage Error: 0.007625654176767611\n",
      "Mean Squared Error: 124559.06010932225\n",
      "Root Mean Squared Error: 352.92925652221334\n",
      "R2 Score: 0.998836668761375\n",
      "None\n"
     ]
    }
   ],
   "source": [
    "# Lets evaluate these 7 models and see the results\n",
    "print(\"LR_Model:\")\n",
    "print(evaluate_model(lrmodel,x_test,y_test))\n",
    "print()\n",
    "print(\"DT_Model:\")\n",
    "print(evaluate_model(dt_model,x_test,y_test))\n",
    "print()\n",
    "print(\"RF_Model:\")\n",
    "print(evaluate_model(rf_model,x_test,y_test))\n",
    "print()\n",
    "print(\"GBM_Model:\")\n",
    "print(evaluate_model(gbm_model,x_test,y_test))\n",
    "print()\n",
    "print(\"LGBM_Model:\")\n",
    "print(evaluate_model(lgbm_model,x_test,y_test))\n",
    "print()\n",
    "print(\"XGB_Model:\")\n",
    "print(evaluate_model(xgb_model,x_test,y_test))\n",
    "print()\n",
    "print(\"CatBoost_Model:\")\n",
    "print(evaluate_model(catb_model,x_test,y_test))"
   ]
  },
  {
   "cell_type": "code",
   "execution_count": 80,
   "id": "13d865aa-7101-4a2e-a50a-d4ef3c0e0fa9",
   "metadata": {},
   "outputs": [
    {
     "data": {
      "text/plain": [
       "array([ 8746.19131546,  8917.75782145, 27978.0280618 , ...,\n",
       "        9442.30232346, 10832.08462351,  6167.0697183 ])"
      ]
     },
     "execution_count": 80,
     "metadata": {},
     "output_type": "execute_result"
    }
   ],
   "source": [
    "# Predictions\n",
    "# From above result, as r2 is comparitely high in XGB_Model and CatBoost Model,\n",
    "# so we will finalize this model, also now Lets do the prediction for x_test data\n",
    "predictions = catb_model.predict(x_test)\n",
    "predictions"
   ]
  },
  {
   "cell_type": "code",
   "execution_count": 84,
   "id": "2abb9d49-5066-47df-ba49-d6ad8dfc80c5",
   "metadata": {},
   "outputs": [
    {
     "name": "stdout",
     "output_type": "stream",
     "text": [
      "24066.2 in £\n"
     ]
    }
   ],
   "source": [
    "# Let's do the prediction new unknown data \n",
    "# [\"year\", \"mileage\", \"price\", \"fuelType\", \"transmission\", \"engineSize\", \"selling_price\"]\n",
    "input=[[2018,30000,35000,3,1,3.0,0]]\n",
    "price = catb_model.predict(input)\n",
    "print(price.round(1)[0],\"in £\")"
   ]
  },
  {
   "cell_type": "code",
   "execution_count": 85,
   "id": "abbf744b-09d3-444b-bf1a-deb12a8fccfb",
   "metadata": {},
   "outputs": [],
   "source": [
    "# Save the model in pickle file\n",
    "import pickle\n",
    "pickle.dump(catb_model,open(\"car_price_predictor_model.pkl\",\"wb\"))"
   ]
  },
  {
   "cell_type": "code",
   "execution_count": null,
   "id": "5f13673f-c0b9-4469-a947-93a9e76042e2",
   "metadata": {},
   "outputs": [],
   "source": []
  }
 ],
 "metadata": {
  "kernelspec": {
   "display_name": "Python 3 (ipykernel)",
   "language": "python",
   "name": "python3"
  },
  "language_info": {
   "codemirror_mode": {
    "name": "ipython",
    "version": 3
   },
   "file_extension": ".py",
   "mimetype": "text/x-python",
   "name": "python",
   "nbconvert_exporter": "python",
   "pygments_lexer": "ipython3",
   "version": "3.9.12"
  }
 },
 "nbformat": 4,
 "nbformat_minor": 5
}
